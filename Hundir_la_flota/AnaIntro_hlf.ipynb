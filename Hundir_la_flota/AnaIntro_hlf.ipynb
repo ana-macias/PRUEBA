{
 "cells": [
  {
   "cell_type": "markdown",
   "metadata": {},
   "source": [
    "![imagen](./img/hundir-la-flota-juego-de-mesa.jpg)"
   ]
  },
  {
   "cell_type": "markdown",
   "metadata": {},
   "source": [
    "En esta entrega vas a crear tu propio juego de **Hundir la flota** en Python. \n",
    "[Aquí](http://es.battleship-game.org/) podrás probarlo online."
   ]
  },
  {
   "attachments": {},
   "cell_type": "markdown",
   "metadata": {},
   "source": [
    "### En clase\n",
    "1. Crea la función `crear_tablero(tamaño)`, un tablero por defecto de 10x10 relleno del carácter \"_\" con numpy.\n",
    "2. Crea la función `colocar_barco(barco, tablero)`, que recibirá la lista de casillas de un barco y el tablero donde colocarlo. Prueba primero a posicionar un par de barcos por ejemplo en [(0,1), (1,1)] y [(1,3), (1,4), (1,5), (1,6)]. Los barcos serán Os mayúsculas. Como ves, un barco de dos posiciones de eslora y otro de cuatro.\n",
    "3. Crea la función `disparar(casilla, tablero)`, si el disparo acierta en un barco sustituye la O por una X (tocado), si es agua, sustituye la _ por una A (Agua). Prueba primero a disparar el barco de 2 casillas.\n",
    "4. Crea la función `crear_barco(eslora)`, que deberá crear una lista de casillas de un barco en función a la eslora, de forma aleatoria.\n",
    "\n",
    "### Proyecto individual\n",
    "5. Crea la función `colocar_barcos(tablero)`, que deberá de colocar la lista de barcos generados de forma aleatoria (6 barcos en total (3 barcos de eslora 2, 2 de eslora 3 y 1 eslora 4)) ¡Mucho ojo con barcos que estén superpuestos (no pueden ocupar dos barcos la misma casilla) o barcos que se salgan del tablero!\n",
    "6. Escribe el flujo completo del programa, con la dinámica de turnos y funcionalidades necesarios para jugar contra la máquina (dispara a tu tablero de forma aleatoria). Crea todas las funciones que necesites y aplica todo lo aprendido que te sea útil.\n",
    "7. Encapsula todo en un `main.py` y un `utils.py` para ejecutarlo desde terminal.\n",
    "8. Sube tu proyecto a un repositorio de github y prepara una demo (solo se podrá enseñar desde terminal) para la presentación de tu proyecto.\n",
    "\n",
    "\n",
    "## Preguntado a Chatogpt como generas una lista aleatoria de 6 barcos en total (3 barcos de eslora 2, 2 de eslora 3 y 1 eslora 4) para jugar a hundir la flota?"
   ]
  },
  {
   "cell_type": "markdown",
   "metadata": {},
   "source": [
    "## Presentación\n",
    "Cada uno realizará una presentación el **viernes 9 de Mayo**, donde se contarán con **10 minutos máximo**, importante ceñirse al tiempo. Se tendrá que enseñar:\n",
    "1. El git clone del repositorio de github a tu ordenador y explicar las partes más relevantes del código.\n",
    "2. Una demo donde se muestre el correcto funcionamiento del código para jugar, ejecutándose desde terminal"
   ]
  },
  {
   "cell_type": "code",
   "execution_count": 3,
   "metadata": {},
   "outputs": [],
   "source": [
    "import numpy as np"
   ]
  },
  {
   "cell_type": "code",
   "execution_count": 20,
   "metadata": {},
   "outputs": [
    {
     "name": "stdout",
     "output_type": "stream",
     "text": [
      "[['_' '_' '_' '_' '_' '_' '_' '_' '_' '_']\n",
      " ['_' '_' '_' '_' '_' '_' '_' '_' '_' '_']\n",
      " ['_' '_' '_' '_' '_' '_' '_' '_' '_' '_']\n",
      " ['_' '_' '_' '_' '_' '_' '_' '_' '_' '_']\n",
      " ['_' '_' '_' '_' '_' '_' '_' '_' '_' '_']\n",
      " ['_' '_' '_' '_' '_' '_' '_' '_' '_' '_']\n",
      " ['_' '_' '_' '_' '_' '_' '_' '_' '_' '_']\n",
      " ['_' '_' '_' '_' '_' '_' '_' '_' '_' '_']\n",
      " ['_' '_' '_' '_' '_' '_' '_' '_' '_' '_']\n",
      " ['_' '_' '_' '_' '_' '_' '_' '_' '_' '_']]\n"
     ]
    }
   ],
   "source": [
    "tablero = np.full ((10,10), \"_\")\n",
    "print (tablero)"
   ]
  },
  {
   "cell_type": "code",
   "execution_count": 21,
   "metadata": {},
   "outputs": [
    {
     "name": "stdout",
     "output_type": "stream",
     "text": [
      "[['_' '_' '_' 'O' 'O' 'O' 'O' '_' '_' '_']\n",
      " ['_' '_' '_' '_' '_' '_' '_' '_' '_' '_']\n",
      " ['_' '_' '_' '_' '_' '_' '_' '_' '_' '_']\n",
      " ['_' '_' '_' '_' '_' '_' '_' '_' '_' '_']\n",
      " ['_' '_' '_' '_' '_' '_' '_' '_' '_' '_']\n",
      " ['_' '_' '_' '_' '_' '_' '_' '_' '_' '_']\n",
      " ['_' '_' '_' '_' '_' '_' '_' '_' '_' '_']\n",
      " ['_' '_' '_' '_' '_' '_' '_' '_' '_' '_']\n",
      " ['_' '_' '_' '_' '_' '_' '_' '_' '_' '_']\n",
      " ['_' '_' '_' '_' '_' '_' '_' '_' '_' '_']]\n"
     ]
    }
   ],
   "source": [
    "tablero [0,3] = \"O\"\n",
    "tablero [0,4] = \"O\"\n",
    "tablero [0,5] = \"O\"\n",
    "tablero [0,6] = \"O\"\n",
    "\n",
    "print (tablero)"
   ]
  },
  {
   "cell_type": "code",
   "execution_count": null,
   "metadata": {},
   "outputs": [],
   "source": []
  },
  {
   "cell_type": "code",
   "execution_count": null,
   "metadata": {},
   "outputs": [],
   "source": [
    "def colocar_barcos(lista_barcos):    \n",
    "    tablero = np.full ((10,10), \"_\")\n",
    "    tablero_jugador = tablero\n",
    "\n",
    "    for barco in lista_barcos:\n",
    "        for i, j in barco:\n",
    "            tablero_jugador[i, j] = 'O'\n",
    "\n",
    "    return tablero"
   ]
  },
  {
   "cell_type": "code",
   "execution_count": null,
   "metadata": {},
   "outputs": [],
   "source": [
    "barcos_jugador = [[[0,3],[0,4],[0,5],[0,6]],[[4,7],[5,7],[6,7]],[[8,8],[8,9]],[[5,3]]]\n",
    "barcos_rival = [[[0,3],[0,4],[0,5],[0,6]]]\n",
    "tablero_jugador = colocar_barcos(barcos_jugador)\n",
    "tablero_rival = colocar_barcos(barcos_rival)"
   ]
  },
  {
   "cell_type": "code",
   "execution_count": 40,
   "metadata": {},
   "outputs": [
    {
     "name": "stdout",
     "output_type": "stream",
     "text": [
      "[['_' '_' '_' 'O' 'O' 'O' 'O' '_' '_' '_']\n",
      " ['_' '_' '_' '_' '_' '_' '_' '_' '_' '_']\n",
      " ['_' '_' '_' '_' '_' '_' '_' '_' '_' '_']\n",
      " ['_' '_' '_' '_' '_' '_' '_' '_' '_' '_']\n",
      " ['_' '_' '_' '_' '_' '_' '_' 'O' '_' '_']\n",
      " ['_' '_' '_' 'O' '_' '_' '_' 'O' '_' '_']\n",
      " ['_' '_' '_' '_' '_' '_' '_' 'O' '_' '_']\n",
      " ['_' '_' '_' '_' '_' '_' '_' '_' '_' '_']\n",
      " ['_' '_' '_' '_' '_' '_' '_' '_' 'O' 'O']\n",
      " ['_' '_' '_' '_' '_' '_' '_' '_' '_' '_']]\n"
     ]
    }
   ],
   "source": [
    "print(tablero_jugador)"
   ]
  },
  {
   "cell_type": "code",
   "execution_count": 42,
   "metadata": {},
   "outputs": [
    {
     "name": "stdout",
     "output_type": "stream",
     "text": [
      "[['_' '_' '_' 'O' 'O' 'O' 'O' '_' '_' '_']\n",
      " ['_' '_' '_' '_' '_' '_' '_' '_' '_' '_']\n",
      " ['_' '_' '_' '_' '_' '_' '_' '_' '_' '_']\n",
      " ['_' '_' '_' '_' '_' '_' '_' '_' '_' '_']\n",
      " ['_' '_' '_' '_' '_' '_' '_' '_' '_' '_']\n",
      " ['_' '_' '_' '_' '_' '_' '_' '_' '_' '_']\n",
      " ['_' '_' '_' '_' '_' '_' '_' '_' '_' '_']\n",
      " ['_' '_' '_' '_' '_' '_' '_' '_' '_' '_']\n",
      " ['_' '_' '_' '_' '_' '_' '_' '_' '_' '_']\n",
      " ['_' '_' '_' '_' '_' '_' '_' '_' '_' '_']]\n"
     ]
    }
   ],
   "source": [
    "print(tablero_rival)"
   ]
  },
  {
   "cell_type": "code",
   "execution_count": null,
   "metadata": {},
   "outputs": [],
   "source": [
    "\n"
   ]
  },
  {
   "cell_type": "code",
   "execution_count": null,
   "metadata": {},
   "outputs": [],
   "source": [
    "barco_1 = [[0,3],[0,4],[0,5],[0,6]]\n",
    "barco_2 = [[4,7],[5,7],[6,7]]\n",
    "barco_3 = [[8,8],[8,9]]\n",
    "barco_4 = [[5,3]]\n"
   ]
  },
  {
   "cell_type": "code",
   "execution_count": null,
   "metadata": {},
   "outputs": [],
   "source": [
    "def colocar_barco(barco):\n",
    "    for i in barco:\n",
    "        tablero [i[0],i[1]] = \"O\"\n",
    "    print (tablero)\n",
    "    \n"
   ]
  },
  {
   "cell_type": "code",
   "execution_count": null,
   "metadata": {},
   "outputs": [],
   "source": [
    "import numpy as np\n",
    "import random\n",
    "\n",
    "# Parámetros\n",
    "TAM = 10\n",
    "BARCOS = [4, 3, 2, 1]\n",
    "\n",
    "# Funciones\n",
    "\n",
    "def crear_tablero():\n",
    "    return np.full((TAM, TAM), '·')\n",
    "'''\n",
    "def se_puede_colocar(tablero, fila, col, tam, orientacion):\n",
    "    if orientacion == 'H':\n",
    "        if col + tam > TAM:\n",
    "            return False\n",
    "        return np.all(tablero[fila, col:col+tam] == '·')\n",
    "    else:\n",
    "        if fila + tam > TAM:\n",
    "            return False\n",
    "        return np.all(tablero[fila:fila+tam, col] == '·')\n",
    "\n",
    "'''\n",
    "def colocar_barcos(tablero, barcos):\n",
    "    for tam in barcos:\n",
    "        colocado = False\n",
    "        while not colocado:\n",
    "            fila = random.randint(0, TAM - 1)\n",
    "            col = random.randint(0, TAM - 1)\n",
    "            orientacion = random.choice(['H', 'V'])\n",
    "            if se_puede_colocar(tablero, fila, col, tam, orientacion):\n",
    "                if orientacion == 'H':\n",
    "                    tablero[fila, col:col+tam] = 'B'\n",
    "                else:\n",
    "                    tablero[fila:fila+tam, col] = 'B'\n",
    "                colocado = True\n",
    "\n",
    "def mostrar_tablero(tablero, nombre=\"Tablero\", ocultar=False):\n",
    "    print(f\"📋 {nombre}\")\n",
    "    print(\"   \" + ' '.join(str(i) for i in range(TAM)))\n",
    "    for i, fila in enumerate(tablero):\n",
    "        visible = [cell if cell != 'B' or not ocultar else '·' for cell in fila]\n",
    "        print(f\"{i:2} \" + ' '.join(visible))\n",
    "    print()\n",
    "\n",
    "def disparar(tablero, fila, col):\n",
    "    if tablero[fila, col] == 'B':\n",
    "        tablero[fila, col] = 'X'\n",
    "        return 'Tocado'\n",
    "    elif tablero[fila, col] == '·':\n",
    "        tablero[fila, col] = 'O'\n",
    "        return 'Agua'\n",
    "    else:\n",
    "        return 'Ya disparado'\n",
    "\n",
    "def quedan_barcos(tablero):\n",
    "    return np.any(tablero == 'B')\n",
    "\n",
    "# Inicialización\n",
    "tablero_jugador = crear_tablero()\n",
    "tablero_cpu = crear_tablero()\n",
    "tablero_disparos = crear_tablero()  # Donde tú disparas\n",
    "\n",
    "colocar_barcos(tablero_jugador, BARCOS)\n",
    "colocar_barcos(tablero_cpu, BARCOS)\n",
    "\n",
    "\n"
   ]
  },
  {
   "cell_type": "code",
   "execution_count": null,
   "metadata": {},
   "outputs": [],
   "source": [
    "turno = 1\n",
    "\n",
    "print(\"🎮 Hundir la Flota (10x10) con disparos visibles\\n\")\n",
    "\n",
    "# Juego principal\n",
    "while True:\n",
    "    print(f\"\\n--- Turno {turno} ---\")\n",
    "\n",
    "    mostrar_tablero(tablero_jugador, \"Tu tablero (🛳 + disparos enemigos)\")\n",
    "    mostrar_tablero(tablero_disparos, \"Tu tablero de disparos (🎯)\")\n",
    "    mostrar_tablero(tablero_cpu, \"Tablero del enemigo (oculto)\", ocultar=True)\n",
    "\n",
    "    try:\n",
    "        fila = int(input(\"Elige fila (0-9): \"))\n",
    "        col = int(input(\"Elige columna (0-9): \"))\n",
    "    except ValueError:\n",
    "        print(\"⚠️ Entrada inválida.\")\n",
    "        continue\n",
    "\n",
    "    if not (0 <= fila < TAM and 0 <= col < TAM):\n",
    "        print(\"⚠️ Coordenadas fuera de rango.\")\n",
    "        continue\n",
    "\n",
    "    resultado = disparar(tablero_cpu, fila, col)\n",
    "    if resultado == 'Ya disparado':\n",
    "        print(\"⚠️ Ya habías disparado ahí.\")\n",
    "        continue\n",
    "    else:\n",
    "        tablero_disparos[fila, col] = 'X' if resultado == 'Tocado' else 'O'\n",
    "        print(f\"👉 Resultado: {resultado}\")\n",
    "\n",
    "    # Turno CPU\n",
    "    while True:\n",
    "        f_cpu = random.randint(0, TAM - 1)\n",
    "        c_cpu = random.randint(0, TAM - 1)\n",
    "        res_cpu = disparar(tablero_jugador, f_cpu, c_cpu)\n",
    "        if res_cpu != 'Ya disparado':\n",
    "            print(f\"🤖 La CPU disparó a ({f_cpu}, {c_cpu}) → {res_cpu}\")\n",
    "            break\n",
    "\n",
    "    # Verificación de fin del juego\n",
    "    if not quedan_barcos(tablero_cpu):\n",
    "        print(\"\\n🏆 ¡Has ganado! Todos los barcos enemigos fueron hundidos.\")\n",
    "        print(\"\\n🧾 Tablero real del enemigo:\")\n",
    "        mostrar_tablero(tablero_cpu, \"Tablero enemigo (real)\", ocultar=False)\n",
    "        break\n",
    "    elif not quedan_barcos(tablero_jugador):\n",
    "        print(\"\\n💀 Has perdido. La CPU hundió todos tus barcos.\")\n",
    "        print(\"\\n🧾 Tablero real del enemigo:\")\n",
    "        mostrar_tablero(tablero_cpu, \"Tablero enemigo (real)\", ocultar=False)\n",
    "        break\n",
    "\n",
    "    turno += 1"
   ]
  },
  {
   "cell_type": "code",
   "execution_count": 7,
   "metadata": {},
   "outputs": [
    {
     "name": "stdout",
     "output_type": "stream",
     "text": [
      "Coordenadas de los barcos generados:\n",
      "[[0, 1], [1, 1]]\n",
      "[[7, 5], [7, 6]]\n",
      "[[2, 5], [3, 5]]\n",
      "[[7, 4], [8, 4], [9, 4]]\n",
      "[[1, 3], [2, 3], [3, 3]]\n",
      "[[5, 3], [5, 4], [5, 5], [5, 6]]\n"
     ]
    }
   ],
   "source": [
    "import random \n",
    "TAM_TABLERO = 10\n",
    "\n",
    "# Longitudes de los barcos: 3 de longitud 2, 2 de longitud 3, y 1 de longitud 4\n",
    "longitudes = [2, 2, 2, 3, 3, 4]\n",
    "\n",
    "# Generador de barcos\n",
    "def generar_barcos():\n",
    "    barcos = []\n",
    "\n",
    "    # Para cada longitud, generamos un barco\n",
    "    for longitud in longitudes:\n",
    "        while True:\n",
    "            # Elegimos aleatoriamente una posición de fila y columna\n",
    "            fila = random.randint(0, TAM_TABLERO - 1)\n",
    "            col = random.randint(0, TAM_TABLERO - 1)\n",
    "            \n",
    "            # Elegimos aleatoriamente la orientación (horizontal o vertical)\n",
    "            orientacion = random.choice(['horizontal', 'vertical'])\n",
    "\n",
    "            # Comprobamos si es posible colocar el barco en esa posición sin solaparse\n",
    "            if orientacion == 'horizontal' and col + longitud <= TAM_TABLERO:\n",
    "                # Verificamos que las posiciones no estén ocupadas\n",
    "                if all([fila, col + i] not in [coord for barco in barcos for coord in barco] for i in range(longitud)):\n",
    "                    barco = [[fila, col + i] for i in range(longitud)]\n",
    "                    barcos.append(barco)\n",
    "                    break\n",
    "            elif orientacion == 'vertical' and fila + longitud <= TAM_TABLERO:\n",
    "                # Verificamos que las posiciones no estén ocupadas\n",
    "                if all([fila + i, col] not in [coord for barco in barcos for coord in barco] for i in range(longitud)):\n",
    "                    barco = [[fila + i, col] for i in range(longitud)]\n",
    "                    barcos.append(barco)\n",
    "                    break\n",
    "\n",
    "    return barcos\n",
    "\n",
    "# Generar los barcos\n",
    "barcos = generar_barcos()\n",
    "\n",
    "# Mostrar los barcos generados\n",
    "print(\"Coordenadas de los barcos generados:\")\n",
    "for barco in barcos:\n",
    "    print(barco)\n",
    "\n"
   ]
  },
  {
   "cell_type": "code",
   "execution_count": 4,
   "metadata": {},
   "outputs": [
    {
     "name": "stdout",
     "output_type": "stream",
     "text": [
      "[['_' '_' '_' '_' '_' '_' '_' '_' '_' '_']\n",
      " ['_' '_' '_' '_' '_' '_' '_' '_' '_' '_']\n",
      " ['_' '_' '_' '_' '_' '_' '_' '_' '_' '_']\n",
      " ['_' '_' '_' '_' '_' '_' '_' '_' '_' '_']\n",
      " ['_' '_' '_' '_' '_' '_' '_' '_' '_' '_']\n",
      " ['_' '_' '_' '_' '_' '_' '_' '_' '_' '_']\n",
      " ['_' '_' '_' '_' '_' '_' '_' '_' '_' '_']\n",
      " ['_' '_' '_' '_' '_' '_' '_' '_' '_' '_']\n",
      " ['_' '_' '_' '_' '_' '_' '_' '_' '_' '_']\n",
      " ['_' '_' '_' '_' '_' '_' '_' '_' '_' '_']]\n"
     ]
    },
    {
     "ename": "NameError",
     "evalue": "name 'random' is not defined",
     "output_type": "error",
     "traceback": [
      "\u001b[31m---------------------------------------------------------------------------\u001b[39m",
      "\u001b[31mNameError\u001b[39m                                 Traceback (most recent call last)",
      "\u001b[36mCell\u001b[39m\u001b[36m \u001b[39m\u001b[32mIn[4]\u001b[39m\u001b[32m, line 39\u001b[39m\n\u001b[32m     36\u001b[39m     \u001b[38;5;28;01mreturn\u001b[39;00m barcos\n\u001b[32m     38\u001b[39m \u001b[38;5;66;03m# Generar los barcos\u001b[39;00m\n\u001b[32m---> \u001b[39m\u001b[32m39\u001b[39m barcos = \u001b[43mgenerar_barcos\u001b[49m\u001b[43m(\u001b[49m\u001b[43m)\u001b[49m\n\u001b[32m     41\u001b[39m \u001b[38;5;66;03m# Mostrar los barcos generados\u001b[39;00m\n\u001b[32m     42\u001b[39m \u001b[38;5;28mprint\u001b[39m(\u001b[33m\"\u001b[39m\u001b[33mCoordenadas de los barcos generados:\u001b[39m\u001b[33m\"\u001b[39m)\n",
      "\u001b[36mCell\u001b[39m\u001b[36m \u001b[39m\u001b[32mIn[4]\u001b[39m\u001b[32m, line 16\u001b[39m, in \u001b[36mgenerar_barcos\u001b[39m\u001b[34m()\u001b[39m\n\u001b[32m     13\u001b[39m \u001b[38;5;28;01mfor\u001b[39;00m longitud \u001b[38;5;129;01min\u001b[39;00m longitudes:\n\u001b[32m     14\u001b[39m     \u001b[38;5;28;01mwhile\u001b[39;00m \u001b[38;5;28;01mTrue\u001b[39;00m:\n\u001b[32m     15\u001b[39m         \u001b[38;5;66;03m# Elegimos aleatoriamente una posición de fila y columna\u001b[39;00m\n\u001b[32m---> \u001b[39m\u001b[32m16\u001b[39m         fila = \u001b[43mrandom\u001b[49m.randint(\u001b[32m0\u001b[39m, tablero - \u001b[32m1\u001b[39m)\n\u001b[32m     17\u001b[39m         col = random.randint(\u001b[32m0\u001b[39m, tablero - \u001b[32m1\u001b[39m)\n\u001b[32m     19\u001b[39m         \u001b[38;5;66;03m# Elegimos aleatoriamente la orientación (horizontal o vertical)\u001b[39;00m\n",
      "\u001b[31mNameError\u001b[39m: name 'random' is not defined"
     ]
    }
   ],
   "source": [
    "tablero = np.full ((10,10), \"_\")\n",
    "print (tablero)\n",
    "\n",
    "\n",
    "# Longitudes de los barcos: 3 de longitud 2, 2 de longitud 3, y 1 de longitud 4\n",
    "longitudes = [2, 2, 2, 3, 3, 4]\n",
    "\n",
    "# Generador de barcos\n",
    "def generar_barcos():\n",
    "    barcos = []\n",
    "\n",
    "    # Para cada longitud, generamos un barco\n",
    "    for longitud in longitudes:\n",
    "        while True:\n",
    "            # Elegimos aleatoriamente una posición de fila y columna\n",
    "            fila = random.randint(0, tablero - 1)\n",
    "            col = random.randint(0, tablero - 1)\n",
    "            \n",
    "            # Elegimos aleatoriamente la orientación (horizontal o vertical)\n",
    "            orientacion = random.choice(['horizontal', 'vertical'])\n",
    "\n",
    "            # Comprobamos si es posible colocar el barco en esa posición sin solaparse\n",
    "            if orientacion == 'horizontal' and col + longitud <= tablero:\n",
    "                # Verificamos que las posiciones no estén ocupadas\n",
    "                if all([fila, col + i] not in [coord for barco in barcos for coord in barco] for i in range(longitud)):\n",
    "                    barco = [[fila, col + i] for i in range(longitud)]\n",
    "                    barcos.append(barco)\n",
    "                    break\n",
    "            elif orientacion == 'vertical' and fila + longitud <= tablero:\n",
    "                # Verificamos que las posiciones no estén ocupadas\n",
    "                if all([fila + i, col] not in [coord for barco in barcos for coord in barco] for i in range(longitud)):\n",
    "                    barco = [[fila + i, col] for i in range(longitud)]\n",
    "                    barcos.append(barco)\n",
    "                    break\n",
    "\n",
    "    return barcos\n",
    "\n",
    "# Generar los barcos\n",
    "barcos = generar_barcos()\n",
    "\n",
    "# Mostrar los barcos generados\n",
    "print(\"Coordenadas de los barcos generados:\")\n",
    "for barco in barcos:\n",
    "    print(barco)\n",
    "\n"
   ]
  },
  {
   "cell_type": "code",
   "execution_count": 5,
   "metadata": {},
   "outputs": [],
   "source": [
    "import numpy as np\n",
    "\n",
    "# Crear un tablero vacío\n",
    "def crear_tablero():\n",
    "    tablero = np.full((10, 10), \"_\")\n",
    "    return tablero\n",
    "\n"
   ]
  },
  {
   "cell_type": "code",
   "execution_count": 6,
   "metadata": {},
   "outputs": [],
   "source": [
    "# Inicialización de tableros\n",
    "\n",
    "tablero_jugador_barcos = crear_tablero()\n",
    "tablero_jugador_disparos = crear_tablero()\n",
    "\n",
    "\n",
    "tablero_rival_barcos = crear_tablero()\n",
    "tablero_rival_disparos = crear_tablero()\n",
    "\n"
   ]
  },
  {
   "cell_type": "code",
   "execution_count": 7,
   "metadata": {},
   "outputs": [],
   "source": [
    "# Barcos\n",
    "barcos = {\"Acorazado\": 4,\"Crucero\": 3,\"Lancha\": 2}\n",
    "\n",
    "# Colocar barcos del jugador (manual)\n",
    "def colocar_barcos_manual(tablero):\n",
    "    \n",
    "    for barco, tamaño in barcos.items():\n",
    "        colocado = False\n",
    "        while not colocado:\n",
    "            try:\n",
    "                print(f\"\\nColoca tu {barco} (tamaño {tamaño})\")\n",
    "                fila = int(input(\"Fila inicial (0-9): \"))\n",
    "                columna = int(input(\"Columna inicial (0-9): \"))\n",
    "                orientacion = input(\"Orientación (H para horizontal, V para vertical): \").upper()\n",
    "\n",
    "                if orientacion == \"H\":\n",
    "                    if columna + tamaño > 10:\n",
    "                        print(\"¡No cabe horizontalmente!\")\n",
    "                        continue\n",
    "                    if any(tablero[fila, columna+i] == \"O\" for i in range(tamaño)):\n",
    "                        print(\"¡Espacio ocupado!\")\n",
    "                        continue\n",
    "                    for i in range(tamaño):\n",
    "                        tablero[fila, columna+i] = \"O\"\n",
    "                    colocado = True\n",
    "                elif orientacion == \"V\":\n",
    "                    if fila + tamaño > 10:\n",
    "                        print(\"¡No cabe verticalmente!\")\n",
    "                        continue\n",
    "                    if any(tablero[fila+i, columna] == \"O\" for i in range(tamaño)):\n",
    "                        print(\"¡Espacio ocupado!\")\n",
    "                        continue\n",
    "                    for i in range(tamaño):\n",
    "                        tablero[fila+i, columna] = \"O\"\n",
    "                    colocado = True\n",
    "                else:\n",
    "                    print(\"Orientación inválida. Usa H o V.\")\n",
    "            except:\n",
    "                print(\"Entrada inválida. Intenta de nuevo.\")\n",
    "    return (tablero_jugador_barcos)                \n",
    "                \n"
   ]
  },
  {
   "cell_type": "code",
   "execution_count": 8,
   "metadata": {},
   "outputs": [
    {
     "name": "stdout",
     "output_type": "stream",
     "text": [
      "\n",
      "Coloca tu Acorazado (tamaño 4)\n",
      "\n",
      "Coloca tu Crucero (tamaño 3)\n",
      "\n",
      "Coloca tu Lancha (tamaño 2)\n",
      "[['_' '_' '_' '_' '_' '_' '_' '_' '_' '_']\n",
      " ['_' '_' '_' '_' '_' '_' '_' '_' '_' '_']\n",
      " ['_' '_' '_' '_' '_' '_' '_' '_' '_' '_']\n",
      " ['_' '_' '_' '_' '_' '_' '_' '_' '_' '_']\n",
      " ['_' 'O' 'O' 'O' 'O' '_' '_' '_' '_' '_']\n",
      " ['_' '_' '_' '_' '_' '_' '_' '_' '_' '_']\n",
      " ['_' '_' '_' 'O' '_' '_' '_' '_' '_' '_']\n",
      " ['_' 'O' 'O' 'O' '_' '_' '_' '_' '_' '_']\n",
      " ['_' '_' '_' 'O' '_' '_' '_' '_' '_' '_']\n",
      " ['_' '_' '_' '_' '_' '_' '_' '_' '_' '_']]\n"
     ]
    }
   ],
   "source": [
    "print (colocar_barcos_manual (tablero_jugador_barcos))"
   ]
  },
  {
   "cell_type": "code",
   "execution_count": 9,
   "metadata": {},
   "outputs": [],
   "source": [
    "# Colocar barcos del rival\n",
    "\n",
    "import random\n",
    "\n",
    "def colocar_barcos_aleatorio(tablero):\n",
    "    for barco, tamaño in barcos.items():\n",
    "        colocado = False\n",
    "        while not colocado:\n",
    "            fila = random.randint(0, 9)\n",
    "            columna = random.randint(0, 9)\n",
    "            orientacion = random.choice([\"H\", \"V\"])\n",
    "            if orientacion == \"H\":\n",
    "                if columna + tamaño > 10:\n",
    "                    continue\n",
    "                if any(tablero[fila, columna+i] == \"O\" for i in range(tamaño)):\n",
    "                    continue\n",
    "                for i in range(tamaño):\n",
    "                    tablero[fila, columna+i] = \"O\"\n",
    "                colocado = True\n",
    "            else:\n",
    "                if fila + tamaño > 10:\n",
    "                    continue\n",
    "                if any(tablero[fila+i, columna] == \"O\" for i in range(tamaño)):\n",
    "                    continue\n",
    "                for i in range(tamaño):\n",
    "                    tablero[fila+i, columna] = \"O\"\n",
    "                colocado = True\n",
    "    return (tablero_rival_barcos)\n",
    "\n"
   ]
  },
  {
   "cell_type": "code",
   "execution_count": 10,
   "metadata": {},
   "outputs": [
    {
     "name": "stdout",
     "output_type": "stream",
     "text": [
      "[['_' '_' '_' '_' '_' '_' '_' '_' '_' '_']\n",
      " ['_' '_' 'O' '_' '_' '_' '_' '_' '_' '_']\n",
      " ['_' '_' 'O' '_' '_' '_' '_' '_' '_' '_']\n",
      " ['O' '_' 'O' '_' '_' '_' '_' '_' '_' '_']\n",
      " ['O' '_' 'O' '_' '_' '_' 'O' 'O' '_' '_']\n",
      " ['O' '_' '_' '_' '_' '_' '_' '_' '_' '_']\n",
      " ['_' '_' '_' '_' '_' '_' '_' '_' '_' '_']\n",
      " ['_' '_' '_' '_' '_' '_' '_' '_' '_' '_']\n",
      " ['_' '_' '_' '_' '_' '_' '_' '_' '_' '_']\n",
      " ['_' '_' '_' '_' '_' '_' '_' '_' '_' '_']]\n"
     ]
    }
   ],
   "source": [
    "print (colocar_barcos_aleatorio (tablero_rival_barcos))"
   ]
  },
  {
   "cell_type": "code",
   "execution_count": 15,
   "metadata": {},
   "outputs": [],
   "source": [
    "# Lógica del disparo\n",
    "lista_disparos = []\n",
    "def disparo(tablero):\n",
    "    fila = int(input(\"selecciona la fila\"))\n",
    "    columna = int(input(\"selecciona la columna\"))\n",
    "    \n",
    "    if tablero[fila,columna] ==\"O\":\n",
    "        tablero[fila,columna] = \"X\"\n",
    "        print(\"¡Impacto!\")\n",
    "    elif tablero[fila,columna] == \"#\" or tablero[fila, columna] == \"X\":\n",
    "        print (\"Posiccion ya seleccionada. Pierdes el turno.\")\n",
    "        disparo()\n",
    "    else:\n",
    "        tablero[fila,columna] = \"#\"\n",
    "        print (\"Agua\")\n",
    "\n",
    "    return tablero\n",
    "    "
   ]
  },
  {
   "cell_type": "code",
   "execution_count": 17,
   "metadata": {},
   "outputs": [],
   "source": [
    "# Verificar si quedan barcos en un tablero\n",
    "def quedan_barcos(tablero):\n",
    "    return \"O\" in tablero"
   ]
  },
  {
   "cell_type": "code",
   "execution_count": 18,
   "metadata": {},
   "outputs": [
    {
     "name": "stdout",
     "output_type": "stream",
     "text": [
      "Agua\n",
      "\n",
      "Tablero del rival:\n",
      "[['_' '_' '_' '_' '_' '_' '_' '_' '_' '_']\n",
      " ['_' '_' 'O' '_' '_' '_' '_' '_' '_' '_']\n",
      " ['_' '_' 'O' '_' '_' '_' '_' '_' '_' '_']\n",
      " ['O' '_' 'O' '_' '_' '_' '_' '_' '_' '_']\n",
      " ['O' '_' 'O' '_' '_' '_' 'O' 'O' '_' '_']\n",
      " ['O' '_' '_' '#' '_' '_' '_' '_' '_' '_']\n",
      " ['_' '_' '_' '#' '_' '_' '_' '_' '_' '_']\n",
      " ['_' '_' '_' '_' '_' '_' '_' '_' '_' '_']\n",
      " ['_' '_' '_' '_' '_' '_' '_' '_' '_' '_']\n",
      " ['_' '_' '_' '_' '_' '_' '_' '_' '_' '_']]\n",
      "¡Impacto!\n",
      "\n",
      "Tablero del Jugador:\n",
      "[['_' '_' '_' '_' '_' '_' '_' '_' '_' '_']\n",
      " ['_' '_' '_' '_' '_' '_' '_' '_' '_' '_']\n",
      " ['_' '_' '_' '_' '_' '_' '_' '_' '_' '_']\n",
      " ['_' '_' '_' '_' '_' '_' '_' '_' '_' '_']\n",
      " ['_' 'O' 'X' 'O' 'O' '_' '_' '_' '_' '_']\n",
      " ['_' '_' '_' '_' '_' '_' '_' '_' '_' '_']\n",
      " ['_' '_' '_' 'O' '_' '_' '_' '_' '_' '_']\n",
      " ['_' 'O' 'O' 'O' '_' '_' '_' '_' '_' '_']\n",
      " ['_' '_' '_' 'O' '_' '_' '_' '_' '_' '_']\n",
      " ['_' '_' '_' '_' '_' '_' '_' '_' '_' '_']]\n",
      "Agua\n",
      "\n",
      "Tablero del rival:\n",
      "[['_' '_' '_' '_' '_' '_' '_' '_' '_' '_']\n",
      " ['_' '_' 'O' '_' '_' '_' '_' '_' '_' '_']\n",
      " ['_' '_' 'O' '_' '_' '_' '_' '_' '_' '_']\n",
      " ['O' '_' 'O' '_' '_' '_' '_' '_' '_' '_']\n",
      " ['O' '_' 'O' '_' '_' '_' 'O' 'O' '_' '_']\n",
      " ['O' '#' '_' '#' '_' '_' '_' '_' '_' '_']\n",
      " ['_' '_' '_' '#' '_' '_' '_' '_' '_' '_']\n",
      " ['_' '_' '_' '_' '_' '_' '_' '_' '_' '_']\n",
      " ['_' '_' '_' '_' '_' '_' '_' '_' '_' '_']\n",
      " ['_' '_' '_' '_' '_' '_' '_' '_' '_' '_']]\n",
      "Agua\n",
      "\n",
      "Tablero del Jugador:\n",
      "[['_' '_' '_' '_' '_' '_' '_' '_' '_' '_']\n",
      " ['_' '_' '_' '_' '_' '_' '_' '_' '_' '_']\n",
      " ['_' '_' '_' '_' '_' '_' '_' '_' '_' '_']\n",
      " ['_' '_' '_' '_' '_' '_' '_' '_' '_' '_']\n",
      " ['_' 'O' 'X' 'O' 'O' '_' '_' '_' '_' '_']\n",
      " ['_' '_' '#' '_' '_' '_' '_' '_' '_' '_']\n",
      " ['_' '_' '_' 'O' '_' '_' '_' '_' '_' '_']\n",
      " ['_' 'O' 'O' 'O' '_' '_' '_' '_' '_' '_']\n",
      " ['_' '_' '_' 'O' '_' '_' '_' '_' '_' '_']\n",
      " ['_' '_' '_' '_' '_' '_' '_' '_' '_' '_']]\n",
      "Agua\n",
      "\n",
      "Tablero del rival:\n",
      "[['_' '_' '_' '_' '_' '_' '_' '_' '_' '_']\n",
      " ['_' '_' 'O' '_' '_' '_' '_' '_' '_' '_']\n",
      " ['_' '_' 'O' '_' '_' '_' '_' '_' '_' '_']\n",
      " ['O' '_' 'O' '_' '_' '_' '_' '_' '_' '_']\n",
      " ['O' '_' 'O' '_' '_' '_' 'O' 'O' '_' '_']\n",
      " ['O' '#' '_' '#' '_' '_' '_' '_' '_' '_']\n",
      " ['_' '#' '_' '#' '_' '_' '_' '_' '_' '_']\n",
      " ['_' '_' '_' '_' '_' '_' '_' '_' '_' '_']\n",
      " ['_' '_' '_' '_' '_' '_' '_' '_' '_' '_']\n",
      " ['_' '_' '_' '_' '_' '_' '_' '_' '_' '_']]\n",
      "¡Impacto!\n",
      "\n",
      "Tablero del Jugador:\n",
      "[['_' '_' '_' '_' '_' '_' '_' '_' '_' '_']\n",
      " ['_' '_' '_' '_' '_' '_' '_' '_' '_' '_']\n",
      " ['_' '_' '_' '_' '_' '_' '_' '_' '_' '_']\n",
      " ['_' '_' '_' '_' '_' '_' '_' '_' '_' '_']\n",
      " ['_' 'X' 'X' 'O' 'O' '_' '_' '_' '_' '_']\n",
      " ['_' '_' '#' '_' '_' '_' '_' '_' '_' '_']\n",
      " ['_' '_' '_' 'O' '_' '_' '_' '_' '_' '_']\n",
      " ['_' 'O' 'O' 'O' '_' '_' '_' '_' '_' '_']\n",
      " ['_' '_' '_' 'O' '_' '_' '_' '_' '_' '_']\n",
      " ['_' '_' '_' '_' '_' '_' '_' '_' '_' '_']]\n",
      "Posiccion ya seleccionada. Pierdes el turno.\n"
     ]
    },
    {
     "ename": "TypeError",
     "evalue": "disparo() missing 1 required positional argument: 'tablero'",
     "output_type": "error",
     "traceback": [
      "\u001b[31m---------------------------------------------------------------------------\u001b[39m",
      "\u001b[31mTypeError\u001b[39m                                 Traceback (most recent call last)",
      "\u001b[36mCell\u001b[39m\u001b[36m \u001b[39m\u001b[32mIn[18]\u001b[39m\u001b[32m, line 7\u001b[39m\n\u001b[32m      4\u001b[39m \u001b[38;5;28;01mwhile\u001b[39;00m \u001b[38;5;28;01mTrue\u001b[39;00m:\n\u001b[32m      5\u001b[39m     \u001b[38;5;28;01mif\u001b[39;00m turno % \u001b[32m2\u001b[39m != \u001b[32m0\u001b[39m:\n\u001b[32m      6\u001b[39m         \u001b[38;5;66;03m# Jugador  dispara al tablero del rival\u001b[39;00m\n\u001b[32m----> \u001b[39m\u001b[32m7\u001b[39m         \u001b[43mdisparo\u001b[49m\u001b[43m(\u001b[49m\u001b[43mtablero_rival_barcos\u001b[49m\u001b[43m)\u001b[49m\n\u001b[32m      8\u001b[39m         \u001b[38;5;28mprint\u001b[39m(\u001b[33m\"\u001b[39m\u001b[38;5;130;01m\\n\u001b[39;00m\u001b[33mTablero del rival:\u001b[39m\u001b[33m\"\u001b[39m)\n\u001b[32m      9\u001b[39m         \u001b[38;5;28mprint\u001b[39m(tablero_rival_barcos)\n",
      "\u001b[36mCell\u001b[39m\u001b[36m \u001b[39m\u001b[32mIn[15]\u001b[39m\u001b[32m, line 12\u001b[39m, in \u001b[36mdisparo\u001b[39m\u001b[34m(tablero)\u001b[39m\n\u001b[32m     10\u001b[39m \u001b[38;5;28;01melif\u001b[39;00m tablero[fila,columna] == \u001b[33m\"\u001b[39m\u001b[33m#\u001b[39m\u001b[33m\"\u001b[39m \u001b[38;5;129;01mor\u001b[39;00m tablero[fila, columna] == \u001b[33m\"\u001b[39m\u001b[33mX\u001b[39m\u001b[33m\"\u001b[39m:\n\u001b[32m     11\u001b[39m     \u001b[38;5;28mprint\u001b[39m (\u001b[33m\"\u001b[39m\u001b[33mPosiccion ya seleccionada. Pierdes el turno.\u001b[39m\u001b[33m\"\u001b[39m)\n\u001b[32m---> \u001b[39m\u001b[32m12\u001b[39m     \u001b[43mdisparo\u001b[49m\u001b[43m(\u001b[49m\u001b[43m)\u001b[49m\n\u001b[32m     13\u001b[39m \u001b[38;5;28;01melse\u001b[39;00m:\n\u001b[32m     14\u001b[39m     tablero[fila,columna] = \u001b[33m\"\u001b[39m\u001b[33m#\u001b[39m\u001b[33m\"\u001b[39m\n",
      "\u001b[31mTypeError\u001b[39m: disparo() missing 1 required positional argument: 'tablero'"
     ]
    }
   ],
   "source": [
    "turno = 1\n",
    "\n",
    "# Lógica de los turnos\n",
    "while True:\n",
    "    if turno % 2 != 0:\n",
    "        # Jugador  dispara al tablero del rival\n",
    "        disparo(tablero_rival_barcos)\n",
    "        print(\"\\nTablero del rival:\")\n",
    "        print(tablero_rival_barcos)\n",
    "        if not quedan_barcos(tablero_rival_barcos):\n",
    "            print(\"¡Jugador gana!\")\n",
    "            break\n",
    "    else:\n",
    "        # Rival dispara al tablero del Jugador \n",
    "        disparo(tablero_jugador_barcos)\n",
    "        print(\"\\nTablero del Jugador:\")\n",
    "        print(tablero_jugador_barcos)\n",
    "        if not quedan_barcos(tablero_jugador_barcos):\n",
    "            print(\"¡Rival gana!\")\n",
    "            break\n",
    "    turno += 1\n",
    "    \n"
   ]
  },
  {
   "cell_type": "code",
   "execution_count": null,
   "metadata": {},
   "outputs": [],
   "source": []
  },
  {
   "cell_type": "code",
   "execution_count": null,
   "metadata": {},
   "outputs": [],
   "source": []
  },
  {
   "cell_type": "code",
   "execution_count": null,
   "metadata": {},
   "outputs": [],
   "source": [
    "'''\n",
    "# Cómo usarlas\n",
    "tablero_j1 = crear_tablero()\n",
    "tablero_j2 = crear_tablero()\n",
    "\n",
    "# Para colocación manual\n",
    "# colocar_barcos_manual(tablero_j1, \"Jugador 1\")\n",
    "# colocar_barcos_manual(tablero_j2, \"Jugador 2\")\n",
    "\n",
    "# Para colocación automática\n",
    "colocar_barcos_aleatorio(tablero_j1)\n",
    "colocar_barcos_aleatorio(tablero_j2)\n",
    "'''"
   ]
  }
 ],
 "metadata": {
  "kernelspec": {
   "display_name": "Python 3",
   "language": "python",
   "name": "python3"
  },
  "language_info": {
   "codemirror_mode": {
    "name": "ipython",
    "version": 3
   },
   "file_extension": ".py",
   "mimetype": "text/x-python",
   "name": "python",
   "nbconvert_exporter": "python",
   "pygments_lexer": "ipython3",
   "version": "3.11.9"
  },
  "orig_nbformat": 4
 },
 "nbformat": 4,
 "nbformat_minor": 2
}

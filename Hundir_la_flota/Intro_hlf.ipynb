{
 "cells": [
  {
   "cell_type": "markdown",
   "metadata": {},
   "source": [
    "![imagen](./img/hundir-la-flota-juego-de-mesa.jpg)"
   ]
  },
  {
   "cell_type": "markdown",
   "metadata": {},
   "source": [
    "En esta entrega vas a crear tu propio juego de **Hundir la flota** en Python. \n",
    "[Aquí](http://es.battleship-game.org/) podrás probarlo online."
   ]
  },
  {
   "attachments": {},
   "cell_type": "markdown",
   "metadata": {},
   "source": [
    "### En clase\n",
    "1. Crea la función `crear_tablero(tamaño)`, un tablero por defecto de 10x10 relleno del carácter \"_\" con numpy.\n",
    "2. Crea la función `colocar_barco(barco, tablero)`, que recibirá la lista de casillas de un barco y el tablero donde colocarlo. Prueba primero a posicionar un par de barcos por ejemplo en [(0,1), (1,1)] y [(1,3), (1,4), (1,5), (1,6)]. Los barcos serán Os mayúsculas. Como ves, un barco de dos posiciones de eslora y otro de cuatro.\n",
    "3. Crea la función `disparar(casilla, tablero)`, si el disparo acierta en un barco sustituye la O por una X (tocado), si es agua, sustituye la _ por una A (Agua). Prueba primero a disparar el barco de 2 casillas.\n",
    "4. Crea la función `crear_barco(eslora)`, que deberá crear una lista de casillas de un barco en función a la eslora, de forma aleatoria.\n",
    "\n",
    "### Proyecto individual\n",
    "5. Crea la función `colocar_barcos(tablero)`, que deberá de colocar la lista de barcos generados de forma aleatoria (6 barcos en total (3 barcos de eslora 2, 2 de eslora 3 y 1 eslora 4)) ¡Mucho ojo con barcos que estén superpuestos (no pueden ocupar dos barcos la misma casilla) o barcos que se salgan del tablero!\n",
    "6. Escribe el flujo completo del programa, con la dinámica de turnos y funcionalidades necesarios para jugar contra la máquina (dispara a tu tablero de forma aleatoria). Crea todas las funciones que necesites y aplica todo lo aprendido que te sea útil.\n",
    "7. Encapsula todo en un `main.py` y un `utils.py` para ejecutarlo desde terminal.\n",
    "8. Sube tu proyecto a un repositorio de github y prepara una demo (solo se podrá enseñar desde terminal) para la presentación de tu proyecto.\n",
    "\n",
    "\n",
    "## Preguntado a Chatogpt como generas una lista aleatoria de 6 barcos en total (3 barcos de eslora 2, 2 de eslora 3 y 1 eslora 4) para jugar a hundir la flota?"
   ]
  },
  {
   "cell_type": "markdown",
   "metadata": {},
   "source": [
    "## Presentación\n",
    "Cada uno realizará una presentación el **viernes 9 de Mayo**, donde se contarán con **10 minutos máximo**, importante ceñirse al tiempo. Se tendrá que enseñar:\n",
    "1. El git clone del repositorio de github a tu ordenador y explicar las partes más relevantes del código.\n",
    "2. Una demo donde se muestre el correcto funcionamiento del código para jugar, ejecutándose desde terminal"
   ]
  },
  {
   "cell_type": "code",
   "execution_count": 19,
   "metadata": {},
   "outputs": [],
   "source": [
    "import numpy as np"
   ]
  },
  {
   "cell_type": "code",
   "execution_count": 20,
   "metadata": {},
   "outputs": [
    {
     "name": "stdout",
     "output_type": "stream",
     "text": [
      "[['_' '_' '_' '_' '_' '_' '_' '_' '_' '_']\n",
      " ['_' '_' '_' '_' '_' '_' '_' '_' '_' '_']\n",
      " ['_' '_' '_' '_' '_' '_' '_' '_' '_' '_']\n",
      " ['_' '_' '_' '_' '_' '_' '_' '_' '_' '_']\n",
      " ['_' '_' '_' '_' '_' '_' '_' '_' '_' '_']\n",
      " ['_' '_' '_' '_' '_' '_' '_' '_' '_' '_']\n",
      " ['_' '_' '_' '_' '_' '_' '_' '_' '_' '_']\n",
      " ['_' '_' '_' '_' '_' '_' '_' '_' '_' '_']\n",
      " ['_' '_' '_' '_' '_' '_' '_' '_' '_' '_']\n",
      " ['_' '_' '_' '_' '_' '_' '_' '_' '_' '_']]\n"
     ]
    }
   ],
   "source": [
    "tablero = np.full ((10,10), \"_\")\n",
    "print (tablero)"
   ]
  },
  {
   "cell_type": "code",
   "execution_count": 21,
   "metadata": {},
   "outputs": [
    {
     "name": "stdout",
     "output_type": "stream",
     "text": [
      "[['_' '_' '_' 'O' 'O' 'O' 'O' '_' '_' '_']\n",
      " ['_' '_' '_' '_' '_' '_' '_' '_' '_' '_']\n",
      " ['_' '_' '_' '_' '_' '_' '_' '_' '_' '_']\n",
      " ['_' '_' '_' '_' '_' '_' '_' '_' '_' '_']\n",
      " ['_' '_' '_' '_' '_' '_' '_' '_' '_' '_']\n",
      " ['_' '_' '_' '_' '_' '_' '_' '_' '_' '_']\n",
      " ['_' '_' '_' '_' '_' '_' '_' '_' '_' '_']\n",
      " ['_' '_' '_' '_' '_' '_' '_' '_' '_' '_']\n",
      " ['_' '_' '_' '_' '_' '_' '_' '_' '_' '_']\n",
      " ['_' '_' '_' '_' '_' '_' '_' '_' '_' '_']]\n"
     ]
    }
   ],
   "source": [
    "tablero [0,3] = \"O\"\n",
    "tablero [0,4] = \"O\"\n",
    "tablero [0,5] = \"O\"\n",
    "tablero [0,6] = \"O\"\n",
    "\n",
    "print (tablero)"
   ]
  },
  {
   "cell_type": "code",
   "execution_count": null,
   "metadata": {},
   "outputs": [],
   "source": []
  },
  {
   "cell_type": "code",
   "execution_count": null,
   "metadata": {},
   "outputs": [],
   "source": [
    "def colocar_barcos(lista_barcos):    \n",
    "    tablero = np.full ((10,10), \"_\")\n",
    "    tablero_jugador = tablero\n",
    "\n",
    "    for barco in lista_barcos:\n",
    "        for i, j in barco:\n",
    "            tablero_jugador[i, j] = 'O'\n",
    "\n",
    "    return tablero"
   ]
  },
  {
   "cell_type": "code",
   "execution_count": null,
   "metadata": {},
   "outputs": [],
   "source": [
    "barcos_jugador = [[[0,3],[0,4],[0,5],[0,6]],[[4,7],[5,7],[6,7]],[[8,8],[8,9]],[[5,3]]]\n",
    "barcos_rival = [[[0,3],[0,4],[0,5],[0,6]]]\n",
    "tablero_jugador = colocar_barcos(barcos_jugador)\n",
    "tablero_rival = colocar_barcos(barcos_rival)"
   ]
  },
  {
   "cell_type": "code",
   "execution_count": 40,
   "metadata": {},
   "outputs": [
    {
     "name": "stdout",
     "output_type": "stream",
     "text": [
      "[['_' '_' '_' 'O' 'O' 'O' 'O' '_' '_' '_']\n",
      " ['_' '_' '_' '_' '_' '_' '_' '_' '_' '_']\n",
      " ['_' '_' '_' '_' '_' '_' '_' '_' '_' '_']\n",
      " ['_' '_' '_' '_' '_' '_' '_' '_' '_' '_']\n",
      " ['_' '_' '_' '_' '_' '_' '_' 'O' '_' '_']\n",
      " ['_' '_' '_' 'O' '_' '_' '_' 'O' '_' '_']\n",
      " ['_' '_' '_' '_' '_' '_' '_' 'O' '_' '_']\n",
      " ['_' '_' '_' '_' '_' '_' '_' '_' '_' '_']\n",
      " ['_' '_' '_' '_' '_' '_' '_' '_' 'O' 'O']\n",
      " ['_' '_' '_' '_' '_' '_' '_' '_' '_' '_']]\n"
     ]
    }
   ],
   "source": [
    "print(tablero_jugador)"
   ]
  },
  {
   "cell_type": "code",
   "execution_count": 42,
   "metadata": {},
   "outputs": [
    {
     "name": "stdout",
     "output_type": "stream",
     "text": [
      "[['_' '_' '_' 'O' 'O' 'O' 'O' '_' '_' '_']\n",
      " ['_' '_' '_' '_' '_' '_' '_' '_' '_' '_']\n",
      " ['_' '_' '_' '_' '_' '_' '_' '_' '_' '_']\n",
      " ['_' '_' '_' '_' '_' '_' '_' '_' '_' '_']\n",
      " ['_' '_' '_' '_' '_' '_' '_' '_' '_' '_']\n",
      " ['_' '_' '_' '_' '_' '_' '_' '_' '_' '_']\n",
      " ['_' '_' '_' '_' '_' '_' '_' '_' '_' '_']\n",
      " ['_' '_' '_' '_' '_' '_' '_' '_' '_' '_']\n",
      " ['_' '_' '_' '_' '_' '_' '_' '_' '_' '_']\n",
      " ['_' '_' '_' '_' '_' '_' '_' '_' '_' '_']]\n"
     ]
    }
   ],
   "source": [
    "print(tablero_rival)"
   ]
  },
  {
   "cell_type": "code",
   "execution_count": 35,
   "metadata": {},
   "outputs": [
    {
     "ename": "TypeError",
     "evalue": "'function' object does not support item assignment",
     "output_type": "error",
     "traceback": [
      "\u001b[31m---------------------------------------------------------------------------\u001b[39m",
      "\u001b[31mTypeError\u001b[39m                                 Traceback (most recent call last)",
      "\u001b[36mCell\u001b[39m\u001b[36m \u001b[39m\u001b[32mIn[35]\u001b[39m\u001b[32m, line 11\u001b[39m\n\u001b[32m      9\u001b[39m \u001b[38;5;28;01mfor\u001b[39;00m barco \u001b[38;5;129;01min\u001b[39;00m barco_jugador:\n\u001b[32m     10\u001b[39m     \u001b[38;5;28;01mfor\u001b[39;00m i, j \u001b[38;5;129;01min\u001b[39;00m barco:\n\u001b[32m---> \u001b[39m\u001b[32m11\u001b[39m         \u001b[43mcrear_tablero\u001b[49m\u001b[43m[\u001b[49m\u001b[43mi\u001b[49m\u001b[43m,\u001b[49m\u001b[43m \u001b[49m\u001b[43mj\u001b[49m\u001b[43m]\u001b[49m = \u001b[33m'\u001b[39m\u001b[33mO\u001b[39m\u001b[33m'\u001b[39m\n\u001b[32m     12\u001b[39m \u001b[38;5;28;01mreturn\u001b[39;00m (tablero_jugador)\n",
      "\u001b[31mTypeError\u001b[39m: 'function' object does not support item assignment"
     ]
    }
   ],
   "source": [
    "barco_jugador = [[[0,3],[0,4],[0,5],[0,6]],[[4,7],[5,7],[6,7]],[[8,8],[8,9]],[[5,3]]]\n",
    "\n",
    "def crear_tablero():\n",
    "    tablero = np.full ((10,10), \"_\")\n",
    "    return (tablero)\n",
    "\n",
    "\n",
    "\n",
    "for barco in barco_jugador:\n",
    "    for i, j in barco:\n",
    "        crear_tablero[i, j] = 'O'\n",
    "return (tablero_jugador)\n"
   ]
  },
  {
   "cell_type": "code",
   "execution_count": null,
   "metadata": {},
   "outputs": [],
   "source": [
    "barco_1 = [[0,3],[0,4],[0,5],[0,6]]\n",
    "barco_2 = [[4,7],[5,7],[6,7]]\n",
    "barco_3 = [[8,8],[8,9]]\n",
    "barco_4 = [[5,3]]\n"
   ]
  },
  {
   "cell_type": "code",
   "execution_count": null,
   "metadata": {},
   "outputs": [],
   "source": [
    "def colocar_barco(barco):\n",
    "    for i in barco:\n",
    "        tablero [i[0],i[1]] = \"O\"\n",
    "    print (tablero)\n",
    "    \n"
   ]
  },
  {
   "cell_type": "code",
   "execution_count": null,
   "metadata": {},
   "outputs": [],
   "source": [
    "import numpy as np\n",
    "import random\n",
    "\n",
    "# Parámetros\n",
    "TAM = 10\n",
    "BARCOS = [4, 3, 2, 1]\n",
    "\n",
    "# Funciones\n",
    "\n",
    "def crear_tablero():\n",
    "    return np.full((TAM, TAM), '·')\n",
    "'''\n",
    "def se_puede_colocar(tablero, fila, col, tam, orientacion):\n",
    "    if orientacion == 'H':\n",
    "        if col + tam > TAM:\n",
    "            return False\n",
    "        return np.all(tablero[fila, col:col+tam] == '·')\n",
    "    else:\n",
    "        if fila + tam > TAM:\n",
    "            return False\n",
    "        return np.all(tablero[fila:fila+tam, col] == '·')\n",
    "\n",
    "'''\n",
    "def colocar_barcos(tablero, barcos):\n",
    "    for tam in barcos:\n",
    "        colocado = False\n",
    "        while not colocado:\n",
    "            fila = random.randint(0, TAM - 1)\n",
    "            col = random.randint(0, TAM - 1)\n",
    "            orientacion = random.choice(['H', 'V'])\n",
    "            if se_puede_colocar(tablero, fila, col, tam, orientacion):\n",
    "                if orientacion == 'H':\n",
    "                    tablero[fila, col:col+tam] = 'B'\n",
    "                else:\n",
    "                    tablero[fila:fila+tam, col] = 'B'\n",
    "                colocado = True\n",
    "\n",
    "def mostrar_tablero(tablero, nombre=\"Tablero\", ocultar=False):\n",
    "    print(f\"📋 {nombre}\")\n",
    "    print(\"   \" + ' '.join(str(i) for i in range(TAM)))\n",
    "    for i, fila in enumerate(tablero):\n",
    "        visible = [cell if cell != 'B' or not ocultar else '·' for cell in fila]\n",
    "        print(f\"{i:2} \" + ' '.join(visible))\n",
    "    print()\n",
    "\n",
    "def disparar(tablero, fila, col):\n",
    "    if tablero[fila, col] == 'B':\n",
    "        tablero[fila, col] = 'X'\n",
    "        return 'Tocado'\n",
    "    elif tablero[fila, col] == '·':\n",
    "        tablero[fila, col] = 'O'\n",
    "        return 'Agua'\n",
    "    else:\n",
    "        return 'Ya disparado'\n",
    "\n",
    "def quedan_barcos(tablero):\n",
    "    return np.any(tablero == 'B')\n",
    "\n",
    "# Inicialización\n",
    "tablero_jugador = crear_tablero()\n",
    "tablero_cpu = crear_tablero()\n",
    "tablero_disparos = crear_tablero()  # Donde tú disparas\n",
    "\n",
    "colocar_barcos(tablero_jugador, BARCOS)\n",
    "colocar_barcos(tablero_cpu, BARCOS)\n",
    "\n",
    "\n"
   ]
  },
  {
   "cell_type": "code",
   "execution_count": null,
   "metadata": {},
   "outputs": [],
   "source": [
    "turno = 1\n",
    "\n",
    "print(\"🎮 Hundir la Flota (10x10) con disparos visibles\\n\")\n",
    "\n",
    "# Juego principal\n",
    "while True:\n",
    "    print(f\"\\n--- Turno {turno} ---\")\n",
    "\n",
    "    mostrar_tablero(tablero_jugador, \"Tu tablero (🛳 + disparos enemigos)\")\n",
    "    mostrar_tablero(tablero_disparos, \"Tu tablero de disparos (🎯)\")\n",
    "    mostrar_tablero(tablero_cpu, \"Tablero del enemigo (oculto)\", ocultar=True)\n",
    "\n",
    "    try:\n",
    "        fila = int(input(\"Elige fila (0-9): \"))\n",
    "        col = int(input(\"Elige columna (0-9): \"))\n",
    "    except ValueError:\n",
    "        print(\"⚠️ Entrada inválida.\")\n",
    "        continue\n",
    "\n",
    "    if not (0 <= fila < TAM and 0 <= col < TAM):\n",
    "        print(\"⚠️ Coordenadas fuera de rango.\")\n",
    "        continue\n",
    "\n",
    "    resultado = disparar(tablero_cpu, fila, col)\n",
    "    if resultado == 'Ya disparado':\n",
    "        print(\"⚠️ Ya habías disparado ahí.\")\n",
    "        continue\n",
    "    else:\n",
    "        tablero_disparos[fila, col] = 'X' if resultado == 'Tocado' else 'O'\n",
    "        print(f\"👉 Resultado: {resultado}\")\n",
    "\n",
    "    # Turno CPU\n",
    "    while True:\n",
    "        f_cpu = random.randint(0, TAM - 1)\n",
    "        c_cpu = random.randint(0, TAM - 1)\n",
    "        res_cpu = disparar(tablero_jugador, f_cpu, c_cpu)\n",
    "        if res_cpu != 'Ya disparado':\n",
    "            print(f\"🤖 La CPU disparó a ({f_cpu}, {c_cpu}) → {res_cpu}\")\n",
    "            break\n",
    "\n",
    "    # Verificación de fin del juego\n",
    "    if not quedan_barcos(tablero_cpu):\n",
    "        print(\"\\n🏆 ¡Has ganado! Todos los barcos enemigos fueron hundidos.\")\n",
    "        print(\"\\n🧾 Tablero real del enemigo:\")\n",
    "        mostrar_tablero(tablero_cpu, \"Tablero enemigo (real)\", ocultar=False)\n",
    "        break\n",
    "    elif not quedan_barcos(tablero_jugador):\n",
    "        print(\"\\n💀 Has perdido. La CPU hundió todos tus barcos.\")\n",
    "        print(\"\\n🧾 Tablero real del enemigo:\")\n",
    "        mostrar_tablero(tablero_cpu, \"Tablero enemigo (real)\", ocultar=False)\n",
    "        break\n",
    "\n",
    "    turno += 1"
   ]
  }
 ],
 "metadata": {
  "kernelspec": {
   "display_name": "Python 3",
   "language": "python",
   "name": "python3"
  },
  "language_info": {
   "codemirror_mode": {
    "name": "ipython",
    "version": 3
   },
   "file_extension": ".py",
   "mimetype": "text/x-python",
   "name": "python",
   "nbconvert_exporter": "python",
   "pygments_lexer": "ipython3",
   "version": "3.11.9"
  },
  "orig_nbformat": 4
 },
 "nbformat": 4,
 "nbformat_minor": 2
}

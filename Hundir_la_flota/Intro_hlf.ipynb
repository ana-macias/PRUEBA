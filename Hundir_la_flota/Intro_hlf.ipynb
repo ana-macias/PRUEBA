{
 "cells": [
  {
   "cell_type": "markdown",
   "metadata": {},
   "source": [
    "![imagen](./img/hundir-la-flota-juego-de-mesa.jpg)"
   ]
  },
  {
   "cell_type": "markdown",
   "metadata": {},
   "source": [
    "En esta entrega vas a crear tu propio juego de **Hundir la flota** en Python. \n",
    "[Aquí](http://es.battleship-game.org/) podrás probarlo online."
   ]
  },
  {
   "attachments": {},
   "cell_type": "markdown",
   "metadata": {},
   "source": [
    "### En clase\n",
    "1. Crea la función `crear_tablero(tamaño)`, un tablero por defecto de 10x10 relleno del carácter \"_\" con numpy.\n",
    "2. Crea la función `colocar_barco(barco, tablero)`, que recibirá la lista de casillas de un barco y el tablero donde colocarlo. Prueba primero a posicionar un par de barcos por ejemplo en [(0,1), (1,1)] y [(1,3), (1,4), (1,5), (1,6)]. Los barcos serán Os mayúsculas. Como ves, un barco de dos posiciones de eslora y otro de cuatro.\n",
    "3. Crea la función `disparar(casilla, tablero)`, si el disparo acierta en un barco sustituye la O por una X (tocado), si es agua, sustituye la _ por una A (Agua). Prueba primero a disparar el barco de 2 casillas.\n",
    "4. Crea la función `crear_barco(eslora)`, que deberá crear una lista de casillas de un barco en función a la eslora, de forma aleatoria.\n",
    "\n",
    "### Proyecto individual\n",
    "5. Crea la función `colocar_barcos(tablero)`, que deberá de colocar la lista de barcos generados de forma aleatoria (6 barcos en total (3 barcos de eslora 2, 2 de eslora 3 y 1 eslora 4)) ¡Mucho ojo con barcos que estén superpuestos (no pueden ocupar dos barcos la misma casilla) o barcos que se salgan del tablero!\n",
    "6. Escribe el flujo completo del programa, con la dinámica de turnos y funcionalidades necesarios para jugar contra la máquina (dispara a tu tablero de forma aleatoria). Crea todas las funciones que necesites y aplica todo lo aprendido que te sea útil.\n",
    "7. Encapsula todo en un `main.py` y un `utils.py` para ejecutarlo desde terminal.\n",
    "8. Sube tu proyecto a un repositorio de github y prepara una demo (solo se podrá enseñar desde terminal) para la presentación de tu proyecto."
   ]
  },
  {
   "cell_type": "markdown",
   "metadata": {},
   "source": [
    "## Presentación\n",
    "Cada uno realizará una presentación el **viernes 9 de Mayo**, donde se contarán con **10 minutos máximo**, importante ceñirse al tiempo. Se tendrá que enseñar:\n",
    "1. El git clone del repositorio de github a tu ordenador y explicar las partes más relevantes del código.\n",
    "2. Una demo donde se muestre el correcto funcionamiento del código para jugar, ejecutándose desde terminal"
   ]
  },
  {
   "cell_type": "markdown",
   "metadata": {},
   "source": [
    "## Creación de tablero."
   ]
  },
  {
   "cell_type": "code",
   "execution_count": 1,
   "metadata": {},
   "outputs": [],
   "source": [
    "import numpy as np"
   ]
  },
  {
   "cell_type": "code",
   "execution_count": 2,
   "metadata": {},
   "outputs": [
    {
     "name": "stdout",
     "output_type": "stream",
     "text": [
      "[['_' '_' '_' '_' '_' '_' '_' '_' '_' '_']\n",
      " ['_' '_' '_' '_' '_' '_' '_' '_' '_' '_']\n",
      " ['_' '_' '_' '_' '_' '_' '_' '_' '_' '_']\n",
      " ['_' '_' '_' '_' '_' '_' '_' '_' '_' '_']\n",
      " ['_' '_' '_' '_' '_' '_' '_' '_' '_' '_']\n",
      " ['_' '_' '_' '_' '_' '_' '_' '_' '_' '_']\n",
      " ['_' '_' '_' '_' '_' '_' '_' '_' '_' '_']\n",
      " ['_' '_' '_' '_' '_' '_' '_' '_' '_' '_']\n",
      " ['_' '_' '_' '_' '_' '_' '_' '_' '_' '_']\n",
      " ['_' '_' '_' '_' '_' '_' '_' '_' '_' '_']]\n"
     ]
    }
   ],
   "source": [
    "tablero = np.full((10,10), \"_\")\n",
    "print(tablero)"
   ]
  },
  {
   "cell_type": "code",
   "execution_count": 3,
   "metadata": {},
   "outputs": [],
   "source": [
    "def crear_tablero():\n",
    "    tablero = np.full((10,10), \"_\")\n",
    "    return tablero"
   ]
  },
  {
   "cell_type": "code",
   "execution_count": 4,
   "metadata": {},
   "outputs": [],
   "source": [
    "# llamamos a la función para crear los cuatro tableros\n",
    "\n",
    "tablero_jugador = crear_tablero()\n",
    "tablero_rival = crear_tablero()\n",
    "tablero_jugador_1 = crear_tablero()\n",
    "tablero_rival_1 = crear_tablero()\n",
    "\n"
   ]
  },
  {
   "cell_type": "markdown",
   "metadata": {},
   "source": [
    "## Colocar barcos."
   ]
  },
  {
   "cell_type": "code",
   "execution_count": 5,
   "metadata": {},
   "outputs": [
    {
     "name": "stdout",
     "output_type": "stream",
     "text": [
      "[['_' '_' '_' 'O' 'O' 'O' 'O' '_' '_' '_']\n",
      " ['_' '_' '_' '_' '_' '_' '_' '_' '_' '_']\n",
      " ['_' '_' '_' '_' '_' '_' '_' '_' '_' '_']\n",
      " ['_' '_' '_' '_' '_' '_' '_' '_' '_' '_']\n",
      " ['_' '_' '_' '_' '_' '_' '_' '_' '_' '_']\n",
      " ['_' '_' '_' '_' '_' '_' '_' '_' '_' '_']\n",
      " ['_' '_' '_' '_' '_' '_' '_' '_' '_' '_']\n",
      " ['_' '_' '_' '_' '_' '_' '_' '_' '_' '_']\n",
      " ['_' '_' '_' '_' '_' '_' '_' '_' '_' '_']\n",
      " ['_' '_' '_' '_' '_' '_' '_' '_' '_' '_']]\n"
     ]
    }
   ],
   "source": [
    "tablero[0,3] = \"O\"\n",
    "tablero[0,4] = \"O\"\n",
    "tablero[0,5] = \"O\"\n",
    "tablero[0,6] = \"O\"\n",
    "print(tablero)"
   ]
  },
  {
   "cell_type": "code",
   "execution_count": 6,
   "metadata": {},
   "outputs": [
    {
     "name": "stdout",
     "output_type": "stream",
     "text": [
      "[0, 3]\n",
      "[0, 4]\n",
      "[0, 5]\n",
      "[0, 6]\n",
      "[4, 7]\n",
      "[5, 7]\n",
      "[6, 7]\n",
      "[8, 8]\n",
      "[8, 9]\n",
      "[1, 7]\n",
      "[['_' '_' '_' 'O' 'O' 'O' 'O' '_' '_' '_']\n",
      " ['_' '_' '_' '_' '_' '_' '_' 'O' '_' '_']\n",
      " ['_' '_' '_' '_' '_' '_' '_' '_' '_' '_']\n",
      " ['_' '_' '_' '_' '_' '_' '_' '_' '_' '_']\n",
      " ['_' '_' '_' '_' '_' '_' '_' 'O' '_' '_']\n",
      " ['_' '_' '_' '_' '_' '_' '_' 'O' '_' '_']\n",
      " ['_' '_' '_' '_' '_' '_' '_' 'O' '_' '_']\n",
      " ['_' '_' '_' '_' '_' '_' '_' '_' '_' '_']\n",
      " ['_' '_' '_' '_' '_' '_' '_' '_' 'O' 'O']\n",
      " ['_' '_' '_' '_' '_' '_' '_' '_' '_' '_']]\n"
     ]
    }
   ],
   "source": [
    "barco_jugador = [[[0,3], [0,4], [0,5], [0,6]], [[4,7], [5,7], [6,7]], [[8,8], [8,9]], [[1,7]]]\n",
    "\n",
    "for i in barco_jugador:\n",
    "    for j in i:\n",
    "        print(j)\n",
    "        tablero[j[0], j[1]] = \"O\"\n",
    "    \n",
    "print(tablero)"
   ]
  },
  {
   "cell_type": "code",
   "execution_count": 7,
   "metadata": {},
   "outputs": [],
   "source": [
    "def colocar_barco(barco):\n",
    "    for i in barco:\n",
    "        tablero[i[0], i[1]] = \"O\"\n",
    "        \n",
    "    print(tablero)"
   ]
  },
  {
   "cell_type": "code",
   "execution_count": 8,
   "metadata": {},
   "outputs": [
    {
     "name": "stdout",
     "output_type": "stream",
     "text": [
      "[['_' '_' '_' 'O' 'O' 'O' 'O' '_' '_' '_']\n",
      " ['_' '_' '_' '_' '_' '_' '_' 'O' '_' '_']\n",
      " ['_' '_' '_' '_' '_' '_' '_' '_' '_' '_']\n",
      " ['_' '_' '_' '_' '_' '_' '_' '_' '_' '_']\n",
      " ['_' '_' '_' '_' '_' '_' '_' 'O' '_' '_']\n",
      " ['_' '_' '_' '_' '_' '_' '_' 'O' '_' '_']\n",
      " ['_' '_' '_' '_' '_' '_' '_' 'O' '_' '_']\n",
      " ['_' '_' '_' '_' '_' '_' '_' '_' '_' '_']\n",
      " ['_' '_' '_' '_' '_' '_' '_' '_' 'O' 'O']\n",
      " ['_' '_' '_' '_' '_' '_' '_' '_' '_' '_']]\n",
      "[['_' '_' '_' 'O' 'O' 'O' 'O' '_' '_' '_']\n",
      " ['_' '_' '_' '_' '_' '_' '_' 'O' '_' '_']\n",
      " ['_' '_' '_' '_' '_' '_' '_' '_' '_' '_']\n",
      " ['_' '_' '_' '_' '_' '_' '_' '_' '_' '_']\n",
      " ['_' '_' '_' '_' '_' '_' '_' 'O' '_' '_']\n",
      " ['_' '_' '_' '_' '_' '_' '_' 'O' '_' '_']\n",
      " ['_' '_' '_' '_' '_' '_' '_' 'O' '_' '_']\n",
      " ['_' '_' '_' '_' '_' '_' '_' '_' '_' '_']\n",
      " ['_' '_' '_' '_' '_' '_' '_' '_' 'O' 'O']\n",
      " ['_' '_' '_' '_' '_' '_' '_' '_' '_' '_']]\n"
     ]
    }
   ],
   "source": [
    "barco_1 = [[0,3], [0,4], [0,5], [0,6]]\n",
    "barco_2 = [[4,7], [5,7], [6,7]]\n",
    "\n",
    "colocar_barco(barco_1)\n",
    "\n",
    "colocar_barco(barco_2)"
   ]
  },
  {
   "cell_type": "code",
   "execution_count": null,
   "metadata": {},
   "outputs": [
    {
     "name": "stdout",
     "output_type": "stream",
     "text": [
      "[['#' '_' '_' 'O' 'O' 'O' 'O' '_' '_' '_']\n",
      " ['_' '_' '_' '_' '_' '_' '_' 'O' '_' '_']\n",
      " ['_' '_' '_' '_' '_' '_' '_' '_' '_' '_']\n",
      " ['_' '_' '_' '_' '_' '_' '_' '_' '_' '_']\n",
      " ['_' '_' '_' '_' '_' '_' '_' 'O' '_' '_']\n",
      " ['_' '_' '_' '_' '_' '_' '_' 'O' '_' '_']\n",
      " ['_' '_' '_' '_' '_' '_' '_' 'O' '_' '_']\n",
      " ['_' '_' '_' '_' '_' '_' '_' '_' '_' '_']\n",
      " ['_' '_' '_' '_' '_' '_' '_' '_' 'O' 'O']\n",
      " ['_' '_' '_' '_' '_' '_' '_' '_' '_' '_']]\n",
      "\n",
      "Turno del Jugador 1\n",
      "¡Impacto!\n"
     ]
    },
    {
     "ename": "NameError",
     "evalue": "name 'mostrar_tablero' is not defined",
     "output_type": "error",
     "traceback": [
      "\u001b[31m---------------------------------------------------------------------------\u001b[39m",
      "\u001b[31mNameError\u001b[39m                                 Traceback (most recent call last)",
      "\u001b[36mCell\u001b[39m\u001b[36m \u001b[39m\u001b[32mIn[12]\u001b[39m\u001b[32m, line 57\u001b[39m\n\u001b[32m     55\u001b[39m jugador = \u001b[32m1\u001b[39m \u001b[38;5;28;01mif\u001b[39;00m turno % \u001b[32m2\u001b[39m != \u001b[32m0\u001b[39m \u001b[38;5;28;01melse\u001b[39;00m \u001b[32m2\u001b[39m\n\u001b[32m     56\u001b[39m tablero = disparo(tablero, jugador)\n\u001b[32m---> \u001b[39m\u001b[32m57\u001b[39m \u001b[43mmostrar_tablero\u001b[49m(tablero)\n\u001b[32m     58\u001b[39m turno += \u001b[32m1\u001b[39m\n",
      "\u001b[31mNameError\u001b[39m: name 'mostrar_tablero' is not defined"
     ]
    }
   ],
   "source": [
    "\n",
    "# Para disparar Sobre tablero\n",
    "\n",
    "if tablero [0,0] == \"O\":\n",
    "    tablero [0,0] = \"X\"\n",
    "else:\n",
    "    tablero [0,0] = \"#\"\n",
    "\n",
    "print (tablero)\n",
    "\n",
    "# Metemos en función\n",
    "\n",
    "def crear_tablero():\n",
    "    tablero = np.full((10,10), \"_\")\n",
    "    return tablero\n",
    "\n",
    "def mostrar_tablero(tablero):\n",
    "    print(\"\\n\".join([\" \".join(row) for row in tablero]))\n",
    "lista_disparos = []\n",
    "\n",
    "def disparo():\n",
    "    fila = int(input (\"Selecciona la fila\"))\n",
    "    columna = int(input (\"Selecciona la columna\"))\n",
    "    \n",
    "    if tablero [fila,columna] == \"O\":\n",
    "        tablero [fila,columna] = \"X\"\n",
    "    elif tablero [fila,columna] == \"#\" or tablero [fila,columna] == \"X\":\n",
    "        print (\"Disparo repetido\")\n",
    "    else:\n",
    "        tablero [fila,columna] = \"#\"\n",
    "    return tablero\n",
    "\n",
    "def disparo(tablero, jugador):\n",
    "    print(f\"\\nTurno del Jugador {jugador}\")\n",
    "    fila = int(input(\"Selecciona la fila (0-9): \"))\n",
    "    columna = int(input(\"Selecciona la columna (0-9): \"))\n",
    "\n",
    "    if tablero[fila, columna] == \"O\":\n",
    "        tablero[fila, columna] = \"X\"\n",
    "        print(\"¡Impacto!\")\n",
    "    elif tablero[fila, columna] == \"#\" or tablero[fila, columna] == \"X\":\n",
    "        print(\"Disparo repetido. Pierdes el turno.\")\n",
    "    else:\n",
    "        tablero[fila, columna] = \"#\"\n",
    "        print(\"Agua.\")\n",
    "    return tablero\n",
    "\n",
    "# Inicialización\n",
    "tablero = crear_tablero()\n",
    "\n",
    "# Aquí podrías colocar algunos barcos en el tablero\n",
    "tablero[2, 3] = \"O\"\n",
    "tablero[5, 7] = \"O\"\n",
    "\n",
    "# Bucle de turnos\n",
    "turno = 1\n",
    "while True:\n",
    "    jugador = 1 if turno % 2 != 0 else 2\n",
    "    tablero = disparo(tablero, jugador)\n",
    "    mostrar_tablero(tablero)\n",
    "    turno += 1\n",
    "    \n"
   ]
  },
  {
   "cell_type": "code",
   "execution_count": 10,
   "metadata": {},
   "outputs": [
    {
     "name": "stdout",
     "output_type": "stream",
     "text": [
      "[['#' '_' '_' 'O' 'O' 'O' 'O' '_' '_' '_']\n",
      " ['_' '_' '_' '_' '_' '_' '_' 'O' '_' '_']\n",
      " ['_' '_' '_' '_' '_' '_' '_' '_' '_' '_']\n",
      " ['_' '_' '_' '_' '_' '_' '_' '_' '_' '_']\n",
      " ['_' '_' '_' '_' '_' '_' '_' 'O' '_' '_']\n",
      " ['_' '_' '_' '_' '_' '_' '_' 'O' '_' '_']\n",
      " ['_' '_' '_' '_' '_' '_' '_' 'O' '_' '_']\n",
      " ['_' '_' '_' '_' '_' '_' '_' '_' '_' '_']\n",
      " ['_' '_' '_' '_' '_' '_' '_' '_' 'O' 'O']\n",
      " ['_' '_' '_' '_' '_' '_' '_' '_' '_' '_']]\n",
      "[['#' '_' '_' 'O' 'O' 'O' 'O' '_' '_' '_']\n",
      " ['_' '_' '_' '_' '_' '_' '_' 'O' '_' '_']\n",
      " ['_' '_' '_' '_' '_' '_' '_' '_' '_' '_']\n",
      " ['_' '_' '_' '_' '_' '_' '_' '_' '_' '_']\n",
      " ['_' '_' '_' '_' '_' '_' '_' 'O' '_' '_']\n",
      " ['_' '_' '_' '_' '_' '_' '_' 'O' '_' '_']\n",
      " ['_' '_' '_' '_' '_' '_' '_' 'O' '_' '_']\n",
      " ['_' '_' '_' '_' '_' '_' '_' '_' '_' '_']\n",
      " ['_' '_' '_' '_' '_' '_' '_' '_' 'O' 'O']\n",
      " ['_' '_' '_' '_' '_' '_' '_' '_' '_' '_']]\n"
     ]
    }
   ],
   "source": [
    "# Para disparar Sobre lista\n",
    "\n",
    "barco_1 = [[0,3], [0,4], [0,5], [0,6]]\n",
    "barco_2 = [[4,7], [5,7], [6,7]]\n",
    "\n",
    "colocar_barco(barco_1)\n",
    "\n",
    "colocar_barco(barco_2)\n",
    "\n",
    "def disparo():\n",
    "    fila = int(input (\"Selecciona la fila\"))\n",
    "    columna = int(input (\"Selecciona la columna\"))\n",
    "    \n",
    "    if barco_1 [fila,columna] == \"O\":\n",
    "        barco_1 [fila,columna] = \"X\"\n",
    "    elif barco_1 [fila,columna] == \"#\" or barco_1 [fila,columna] == \"X\":\n",
    "        print (\"Disparo repetido\")\n",
    "    else:\n",
    "        tablero [fila,columna] = \"#\"\n",
    "    return tablero\n"
   ]
  },
  {
   "cell_type": "code",
   "execution_count": 11,
   "metadata": {},
   "outputs": [
    {
     "name": "stdout",
     "output_type": "stream",
     "text": [
      "[['#' '_' '_' 'O' 'O' 'O' 'O' '_' '_' '_']\n",
      " ['_' '_' '_' '_' '_' '_' '_' 'O' '_' '_']\n",
      " ['_' '_' '_' '_' '_' '_' '_' '_' '_' '_']\n",
      " ['_' '_' '_' '_' '_' '_' '_' '_' '_' '_']\n",
      " ['_' '_' '_' '_' '_' '_' '_' 'O' '_' '_']\n",
      " ['_' '_' '_' '_' '_' '_' '_' 'O' '_' '_']\n",
      " ['_' '_' '_' '_' '_' '_' '_' 'O' '_' '_']\n",
      " ['_' '_' '_' '_' '_' '_' '_' '_' '_' '_']\n",
      " ['_' '_' '_' '_' '_' '_' '_' '_' 'O' 'O']\n",
      " ['_' '_' '_' '_' '_' '_' '_' '_' '_' '_']]\n"
     ]
    }
   ],
   "source": [
    "def disparo():\n",
    "    fila = int(input (\"Selecciona la fila\"))\n",
    "    columna = int(input (\"Selecciona la columna\"))\n",
    "    \n",
    "    if barco_1 [fila,columna] == \"O\":\n",
    "        barco_1 [fila,columna] = \"X\"\n",
    "    elif barco_1 [fila,columna] == \"#\" or barco_1 [fila,columna] == \"X\":\n",
    "        print (\"Disparo repetido\")\n",
    "    else:\n",
    "        tablero [fila,columna] = \"#\"\n",
    "    return tablero\n",
    "print (tablero)\n"
   ]
  },
  {
   "cell_type": "code",
   "execution_count": null,
   "metadata": {},
   "outputs": [],
   "source": [
    "disparos = []\n"
   ]
  },
  {
   "cell_type": "code",
   "execution_count": 34,
   "metadata": {},
   "outputs": [
    {
     "name": "stdout",
     "output_type": "stream",
     "text": [
      "[['_' '_' '_' '_' '_' '_' '_' '_' '_' '_']\n",
      " ['_' '_' '_' '_' '_' '_' '_' '_' '_' '_']\n",
      " ['_' '_' '_' '_' '_' '_' '_' '_' '_' '_']\n",
      " ['_' '_' '_' '_' '_' '_' '_' '_' '_' '_']\n",
      " ['_' '_' '_' '_' '_' '_' '_' '_' '_' '_']\n",
      " ['_' '_' '_' '_' '_' '_' '_' '_' '_' '_']\n",
      " ['_' '_' '_' '_' '_' '_' '_' '_' '_' '_']\n",
      " ['_' '_' '_' '_' '_' '_' '_' '_' '_' '_']\n",
      " ['_' '_' '_' '_' '_' '_' '_' '_' '_' '_']\n",
      " ['_' '_' '_' '_' '_' '_' '_' '_' '_' '_']]\n"
     ]
    }
   ],
   "source": [
    "print(tablero)"
   ]
  },
  {
   "cell_type": "code",
   "execution_count": null,
   "metadata": {},
   "outputs": [],
   "source": [
    "'''\n",
    "Para disparar sobre tableros\n",
    "    If tablero [Condicion] == O ha hecho impacto\n",
    "    que cambie el tablero a la [] que lo cambie por una X\n",
    "    else que cambie la posición por una almohadilla\n",
    "\n",
    "    Encapsulamos en la función disparar\n",
    "    Podemos meter dentro de +a función los input de la fila y la columna pasar los inputs a enteros\n",
    "\n",
    "Para dispara sobre la lista\n",
    "    que compruebe sobre el barco la posición, si coincide que lo elimine y luego que ponga sobre el \n",
    "    tablero una X\n",
    "'''\n"
   ]
  },
  {
   "cell_type": "code",
   "execution_count": null,
   "metadata": {},
   "outputs": [
    {
     "name": "stdout",
     "output_type": "stream",
     "text": [
      "\n",
      "Turno del Jugador 1\n",
      "Entrada inválida. Usa números entre 0 y 9.\n",
      "Agua.\n",
      "\n",
      "Tablero del Jugador 2:\n",
      "_ _ _ _ _ _ _ _ _ _\n",
      "_ _ _ _ _ _ _ _ _ _\n",
      "_ _ _ _ _ _ _ _ _ _\n",
      "_ _ _ _ _ # _ _ _ _\n",
      "_ _ _ _ _ _ _ _ _ _\n",
      "_ _ _ _ _ _ _ _ _ _\n",
      "_ _ _ _ _ _ _ _ _ _\n",
      "_ _ _ _ _ _ _ _ _ _\n",
      "_ _ _ _ _ _ _ _ _ _\n",
      "_ _ _ _ _ _ _ _ _ _\n",
      "\n",
      "Turno del Jugador 2\n",
      "Agua.\n",
      "\n",
      "Tablero del Jugador 1:\n",
      "_ _ _ _ _ _ _ _ _ _\n",
      "_ _ _ _ _ _ _ _ _ _\n",
      "_ _ _ _ _ _ _ _ _ _\n",
      "_ _ _ _ _ # _ _ _ _\n",
      "_ _ _ _ _ _ _ _ _ _\n",
      "_ _ _ _ _ _ _ _ _ _\n",
      "_ _ _ _ _ _ _ _ _ _\n",
      "_ _ _ _ _ _ _ _ _ _\n",
      "_ _ _ _ _ _ _ _ _ _\n",
      "_ _ _ _ _ _ _ _ _ _\n",
      "\n",
      "Turno del Jugador 1\n",
      "Entrada inválida. Usa números entre 0 y 9.\n",
      "Entrada inválida. Usa números entre 0 y 9.\n",
      "Entrada inválida. Usa números entre 0 y 9.\n",
      "Entrada inválida. Usa números entre 0 y 9.\n",
      "Entrada inválida. Usa números entre 0 y 9.\n",
      "Entrada inválida. Usa números entre 0 y 9.\n",
      "Entrada inválida. Usa números entre 0 y 9.\n"
     ]
    }
   ],
   "source": []
  }
 ],
 "metadata": {
  "kernelspec": {
   "display_name": "Python 3",
   "language": "python",
   "name": "python3"
  },
  "language_info": {
   "codemirror_mode": {
    "name": "ipython",
    "version": 3
   },
   "file_extension": ".py",
   "mimetype": "text/x-python",
   "name": "python",
   "nbconvert_exporter": "python",
   "pygments_lexer": "ipython3",
   "version": "3.11.9"
  },
  "orig_nbformat": 4
 },
 "nbformat": 4,
 "nbformat_minor": 2
}

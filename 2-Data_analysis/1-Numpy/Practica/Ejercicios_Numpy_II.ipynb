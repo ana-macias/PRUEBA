{
 "cells": [
  {
   "cell_type": "markdown",
   "metadata": {},
   "source": [
    "![imagen](./img/ejercicios.png)"
   ]
  },
  {
   "cell_type": "code",
   "execution_count": 3,
   "metadata": {},
   "outputs": [],
   "source": [
    "import numpy as np"
   ]
  },
  {
   "cell_type": "markdown",
   "metadata": {},
   "source": [
    "## Ejercicio 1\n",
    "1. Crea un array que vaya del 0 al 9 y que se llame `my_array`\n",
    "2. Imprime por pantalla los elementos [9 7 5 3 1] en ese orden."
   ]
  },
  {
   "cell_type": "code",
   "execution_count": 4,
   "metadata": {},
   "outputs": [
    {
     "name": "stdout",
     "output_type": "stream",
     "text": [
      "[9 7 5 3 1]\n"
     ]
    }
   ],
   "source": [
    "my_array = np.arange (10)\n",
    "print(my_array[9:0:-2])"
   ]
  },
  {
   "cell_type": "markdown",
   "metadata": {},
   "source": [
    "## Ejercicio 2\n",
    "Imprime por pantalla la secuencia [8 7] del array `my_array`"
   ]
  },
  {
   "cell_type": "code",
   "execution_count": 5,
   "metadata": {},
   "outputs": [
    {
     "name": "stdout",
     "output_type": "stream",
     "text": [
      "[8 7]\n"
     ]
    }
   ],
   "source": [
    "print(my_array[8:6:-1])\n"
   ]
  },
  {
   "cell_type": "markdown",
   "metadata": {},
   "source": [
    "## Ejercicio 3\n",
    "Imprime por pantalla la secuencia [2 1 0] de `my_array`"
   ]
  },
  {
   "cell_type": "code",
   "execution_count": 6,
   "metadata": {},
   "outputs": [
    {
     "name": "stdout",
     "output_type": "stream",
     "text": [
      "[2 1 0]\n"
     ]
    }
   ],
   "source": [
    "print(my_array[2::-1])"
   ]
  },
  {
   "cell_type": "markdown",
   "metadata": {},
   "source": [
    "## Ejercicio 4\n",
    "1. Crea una matriz de 4x5, con una secuencia del 1 al 20\n",
    "2. Invierte totalmente la matriz. Tanto las filas, como las columnas"
   ]
  },
  {
   "cell_type": "code",
   "execution_count": 7,
   "metadata": {},
   "outputs": [
    {
     "name": "stdout",
     "output_type": "stream",
     "text": [
      "[[ 1  2  3  4  5]\n",
      " [ 6  7  8  9 10]\n",
      " [11 12 13 14 15]\n",
      " [16 17 18 19 20]]\n"
     ]
    }
   ],
   "source": [
    "matriz = np.arange(1, 21).reshape(4, 5)\n",
    "print (matriz)"
   ]
  },
  {
   "cell_type": "markdown",
   "metadata": {},
   "source": [
    "## Ejercicio 5\n",
    "\n",
    "Obtén el siguiente array, partiendo de la matriz del ejercicio 4\n",
    "```Python\n",
    "array([[1, 2],\n",
    "       [6, 7]])\n",
    "```"
   ]
  },
  {
   "cell_type": "code",
   "execution_count": 8,
   "metadata": {},
   "outputs": [
    {
     "name": "stdout",
     "output_type": "stream",
     "text": [
      "[[1 2]\n",
      " [6 7]]\n"
     ]
    }
   ],
   "source": [
    "# Matriz ejercicio 4\n",
    "'''\n",
    "[[ 1  2  3  4  5]\n",
    " [ 6  7  8  9 10]\n",
    " [11 12 13 14 15]\n",
    " [16 17 18 19 20]]\n",
    "'''\n",
    "\n",
    "# Nueva matriz\n",
    "new_matriz = matriz[:2, :2]\n",
    "print (new_matriz)"
   ]
  },
  {
   "cell_type": "markdown",
   "metadata": {},
   "source": [
    "## Ejercicio 6\n",
    "Obtén el siguiente array, partiendo de la matriz del ejercicio 4\n",
    "```Python\n",
    "array([[ 1,  3,  5],\n",
    "       [11, 13, 15]])\n",
    "```"
   ]
  },
  {
   "cell_type": "code",
   "execution_count": 9,
   "metadata": {},
   "outputs": [
    {
     "name": "stdout",
     "output_type": "stream",
     "text": [
      "[[ 1  3  5]\n",
      " [11 13 15]]\n"
     ]
    }
   ],
   "source": [
    "# Matriz ejercicio 4\n",
    "'''\n",
    "[[ 1  2  3  4  5]\n",
    " [ 6  7  8  9 10]\n",
    " [11 12 13 14 15]\n",
    " [16 17 18 19 20]]\n",
    "'''\n",
    "\n",
    "# Nueva matriz\n",
    "resultado = matriz[[0, 2], :][:, [0, 2, 4]]\n",
    "print(resultado)"
   ]
  },
  {
   "cell_type": "markdown",
   "metadata": {},
   "source": [
    "## Ejercicio 7\n",
    "Obtén el siguiente array, partiendo de la matriz del ejercicio 4\n",
    "```Python\n",
    "array([[ 5,  4,  3,  2,  1],\n",
    "       [10,  9,  8,  7,  6],\n",
    "       [15, 14, 13, 12, 11]])\n",
    "```"
   ]
  },
  {
   "cell_type": "code",
   "execution_count": 10,
   "metadata": {},
   "outputs": [
    {
     "name": "stdout",
     "output_type": "stream",
     "text": [
      "[[ 5  4  3  2  1]\n",
      " [10  9  8  7  6]\n",
      " [15 14 13 12 11]]\n"
     ]
    }
   ],
   "source": [
    "# Matriz ejercicio 4\n",
    "'''\n",
    "[[ 1  2  3  4  5]\n",
    " [ 6  7  8  9 10]\n",
    " [11 12 13 14 15]\n",
    " [16 17 18 19 20]]\n",
    "'''\n",
    "\n",
    "# Nueva matriz\n",
    "resultado = matriz[:3, ::-1]\n",
    "print(resultado)\n"
   ]
  },
  {
   "cell_type": "markdown",
   "metadata": {},
   "source": [
    "## Ejercicio 8\n",
    "Dado el siguiente array:\n",
    "\n",
    "```Python\n",
    "x = np.array([\"Loro\", \"Perro\", \"Gato\", \"Loro\", \"Perro\"])\n",
    "```\n",
    "\n",
    "Filtra el array para quedarte únicamente con los loros.\n",
    "\n",
    "Resuélvelo de dos maneras diferentes"
   ]
  },
  {
   "cell_type": "code",
   "execution_count": 11,
   "metadata": {},
   "outputs": [
    {
     "name": "stdout",
     "output_type": "stream",
     "text": [
      "['Loro' 'Loro']\n",
      "['Loro' 'Loro']\n"
     ]
    }
   ],
   "source": [
    "x = np.array([\"Loro\", \"Perro\", \"Gato\", \"Loro\", \"Perro\"])\n",
    "\n",
    "# Primera manera\n",
    "loros = x[x == \"Loro\"]\n",
    "print (loros)\n",
    "\n",
    "# Segunda manera\n",
    "lugares = np.where(x == \"Loro\")\n",
    "loros = x[lugares]\n",
    "print(loros)"
   ]
  },
  {
   "cell_type": "markdown",
   "metadata": {},
   "source": [
    "## Ejercicio 9\n",
    "Crea una secuencia de 20 elementos y transfórmala en un array compuesto por 2 matrices de 5x2"
   ]
  },
  {
   "cell_type": "code",
   "execution_count": 12,
   "metadata": {},
   "outputs": [
    {
     "name": "stdout",
     "output_type": "stream",
     "text": [
      "[ 1  2  3  4  5  6  7  8  9 10 11 12 13 14 15 16 17 18 19 20]\n",
      "[[[ 1  2]\n",
      "  [ 3  4]\n",
      "  [ 5  6]\n",
      "  [ 7  8]\n",
      "  [ 9 10]]\n",
      "\n",
      " [[11 12]\n",
      "  [13 14]\n",
      "  [15 16]\n",
      "  [17 18]\n",
      "  [19 20]]]\n"
     ]
    }
   ],
   "source": [
    "my_array = np.arange (1,21)\n",
    "print (my_array)\n",
    "\n",
    "new_array = my_array.reshape (2,5,2)\n",
    "print (new_array)"
   ]
  },
  {
   "cell_type": "markdown",
   "metadata": {},
   "source": [
    "## Ejercicio 10\n",
    "\n",
    "Crea un array de 10 0s. ¿Cuánto ocupa en memoria?\n",
    "\n",
    "Sustituye el 4to elemento por 1, e imprime el array por pantalla"
   ]
  },
  {
   "cell_type": "code",
   "execution_count": 18,
   "metadata": {},
   "outputs": [
    {
     "name": "stdout",
     "output_type": "stream",
     "text": [
      "[0. 0. 0. 0. 0. 0. 0. 0. 0. 0.]\n",
      "[0. 0. 0. 1. 0. 0. 0. 0. 0. 0.]\n"
     ]
    }
   ],
   "source": [
    "array = np.zeros(10)\n",
    "print (array)\n",
    "\n",
    "# Memoria que ocupa\n",
    "array.nbytes\n",
    "\n",
    "# Sustituir el 4to elemento por 1\n",
    "array[3] = 1\n",
    "print (array)"
   ]
  },
  {
   "cell_type": "markdown",
   "metadata": {},
   "source": [
    "## Ejercicio 11\n",
    "\n",
    "Crea un vector que vaya del 10 al 49\n",
    "\n",
    "Inviértelo"
   ]
  },
  {
   "cell_type": "code",
   "execution_count": 22,
   "metadata": {},
   "outputs": [
    {
     "name": "stdout",
     "output_type": "stream",
     "text": [
      "[10 11 12 13 14 15 16 17 18 19 20 21 22 23 24 25 26 27 28 29 30 31 32 33\n",
      " 34 35 36 37 38 39 40 41 42 43 44 45 46 47 48 49]\n",
      "[49 48 47 46 45 44 43 42 41 40 39 38 37 36 35 34 33 32 31 30 29 28 27 26\n",
      " 25 24 23 22 21 20 19 18 17 16 15 14 13 12 11 10]\n"
     ]
    }
   ],
   "source": [
    "# Crear el vector\n",
    "vector = np.arange (10, 50)\n",
    "print (vector)\n",
    "\n",
    "# Invertir el vector\n",
    "vector_invertido = vector[::-1]\n",
    "print (vector_invertido)"
   ]
  },
  {
   "cell_type": "markdown",
   "metadata": {},
   "source": [
    "## Ejercicio 12\n",
    "Encuentra los índices de los valores que no sean 0 del siguiente vector [1,2,0,0,4,0]. El output sería [0, 1, 4]. [Encuentra el método apropiado en la documentación.](https://numpy.org/doc/) Encapsúlalo en una función, con un argumento de entrada de un vector."
   ]
  },
  {
   "cell_type": "code",
   "execution_count": null,
   "metadata": {},
   "outputs": [
    {
     "name": "stdout",
     "output_type": "stream",
     "text": [
      "[np.int64(0), np.int64(1), np.int64(4)]\n"
     ]
    }
   ],
   "source": [
    "# Buscamos los indices que no sean cero\n",
    "vector = np.array([1, 2, 0, 0, 4, 0])\n",
    "indices = list(np.nonzero(vector)[0])\n",
    "print(indices) "
   ]
  },
  {
   "cell_type": "code",
   "execution_count": 26,
   "metadata": {},
   "outputs": [
    {
     "name": "stdout",
     "output_type": "stream",
     "text": [
      "[np.int64(0), np.int64(1), np.int64(4)]\n"
     ]
    }
   ],
   "source": [
    "# Encapsulamos en una función\n",
    "def indices_no_cero(vector):\n",
    "    \n",
    "    return list(np.nonzero(vector)[0])\n",
    "\n",
    "# Usamos la función\n",
    "vector = np.array([1, 2, 0, 0, 4, 0])\n",
    "indices = indices_no_cero(vector)\n",
    "print(indices)"
   ]
  },
  {
   "attachments": {},
   "cell_type": "markdown",
   "metadata": {},
   "source": [
    "## Ejercicio 13\n",
    "Crea una matriz de números aleatorios 10x10. Encuentra los valores mínimo y máximo."
   ]
  },
  {
   "cell_type": "code",
   "execution_count": 28,
   "metadata": {},
   "outputs": [
    {
     "name": "stdout",
     "output_type": "stream",
     "text": [
      "[[8.74236686e-01 7.18857642e-01 8.26178749e-01 9.22982469e-01\n",
      "  7.32529505e-01 2.96211633e-01 8.79328753e-02 7.60494177e-01\n",
      "  3.87598215e-01 8.55102625e-01]\n",
      " [4.18419880e-01 6.97542032e-01 4.14234076e-01 6.41638874e-01\n",
      "  8.46927577e-01 4.86358241e-01 4.36005493e-02 2.94568132e-01\n",
      "  8.40426868e-01 8.07170179e-01]\n",
      " [4.68346053e-01 1.02680111e-01 6.34647617e-02 2.76623363e-01\n",
      "  5.16319139e-01 9.00121545e-01 8.05057705e-01 8.91159279e-01\n",
      "  3.71321563e-01 9.19872524e-01]\n",
      " [1.44443364e-01 2.18065778e-01 8.44381219e-01 6.89276347e-01\n",
      "  2.36552212e-01 5.24231940e-01 6.33219574e-01 6.37617550e-01\n",
      "  7.96241318e-02 4.48833899e-01]\n",
      " [1.92810523e-01 5.37523244e-01 1.06175055e-01 8.41904274e-01\n",
      "  8.84351574e-01 8.81582445e-01 8.04087275e-01 7.32384669e-01\n",
      "  2.40792486e-01 3.36282912e-01]\n",
      " [2.61167047e-01 7.79357509e-01 2.41643265e-01 6.70465843e-01\n",
      "  1.41823183e-02 8.12925704e-01 2.51147382e-02 7.83920475e-01\n",
      "  5.19632012e-01 3.12984280e-01]\n",
      " [3.19548298e-01 2.11928567e-01 6.23920732e-01 4.07452987e-01\n",
      "  4.80024620e-01 4.80683341e-01 4.34242783e-01 3.54088108e-01\n",
      "  9.18996637e-01 1.74355631e-01]\n",
      " [9.69298971e-01 4.00467959e-01 5.01415624e-01 9.85036668e-02\n",
      "  6.10903894e-01 9.12851501e-01 4.13818910e-01 6.08283559e-01\n",
      "  5.19643547e-01 3.64293373e-04]\n",
      " [9.94749259e-01 6.16438982e-01 9.16865304e-01 5.86569060e-01\n",
      "  7.02899063e-01 5.08235405e-01 5.23933405e-01 4.96819741e-02\n",
      "  7.33062866e-01 5.14368277e-01]\n",
      " [8.95768150e-01 3.74938792e-01 1.08634512e-01 7.44859391e-01\n",
      "  8.54328236e-01 4.19915536e-01 9.84766978e-01 9.25343040e-01\n",
      "  7.52725484e-01 2.91356684e-01]]\n",
      "0.00036429337341303825\n",
      "0.994749259088895\n"
     ]
    }
   ],
   "source": [
    "# Crear una matriz 10x10 con números aleatorios entre 0 y 1\n",
    "matriz = np.random.rand(10, 10)\n",
    "\n",
    "# Obtener el valor mínimo y máximo\n",
    "valor_min = matriz.min()\n",
    "valor_max = matriz.max()\n",
    "\n",
    "# Mostrar resultados\n",
    "print(matriz)\n",
    "print(valor_min)\n",
    "print(valor_max)"
   ]
  },
  {
   "cell_type": "markdown",
   "metadata": {},
   "source": [
    "## Ejercicio 14\n",
    "Crea un vector aleatorio de tamaño 30 y calcula su media"
   ]
  },
  {
   "cell_type": "code",
   "execution_count": 33,
   "metadata": {},
   "outputs": [
    {
     "name": "stdout",
     "output_type": "stream",
     "text": [
      "[0.88246483 0.86956154 0.94021264 0.83517456 0.26074444 0.18755742\n",
      " 0.61991358 0.33761257 0.25609607 0.16770786 0.00866566 0.20609332\n",
      " 0.55300487 0.22208281 0.76725476 0.6001405  0.46719163 0.50226553\n",
      " 0.63341581 0.25348755 0.19398224 0.77103177 0.07980794 0.50216178\n",
      " 0.67154952 0.20230202 0.7059194  0.90587241 0.79076466 0.1455825 ]\n",
      "0.48465407347588785\n"
     ]
    }
   ],
   "source": [
    "vector = np.random.rand (30)\n",
    "print (vector)\n",
    "\n",
    "# Calculamos su media\n",
    "media = vector.mean()\n",
    "print (media)"
   ]
  },
  {
   "cell_type": "markdown",
   "metadata": {},
   "source": [
    "## Ejercicio 15\n",
    "Crea un array cuadrado de 2D, con las dimensiones que quieras, pero que todo el borde esté compuesto por 1s, y el interior por 0s"
   ]
  },
  {
   "cell_type": "code",
   "execution_count": 36,
   "metadata": {},
   "outputs": [
    {
     "name": "stdout",
     "output_type": "stream",
     "text": [
      "[[1 1 1 1 1 1 1 1 1]\n",
      " [1 0 0 0 0 0 0 0 1]\n",
      " [1 0 0 0 0 0 0 0 1]\n",
      " [1 0 0 0 0 0 0 0 1]\n",
      " [1 0 0 0 0 0 0 0 1]\n",
      " [1 0 0 0 0 0 0 0 1]\n",
      " [1 0 0 0 0 0 0 0 1]\n",
      " [1 0 0 0 0 0 0 0 1]\n",
      " [1 1 1 1 1 1 1 1 1]]\n"
     ]
    }
   ],
   "source": [
    "# Creamos un array cuadrado de tamaño n x n, con 1s en el borde y 0s en el interior.\n",
    "def crear_array_borde(n):\n",
    "    # Crear una matriz llena de ceros\n",
    "    array = np.zeros((n, n), dtype=int)\n",
    "\n",
    "    # Poner 1s en el borde\n",
    "    array[0, :] = 1  # Fila superior\n",
    "    array[-1, :] = 1  # Fila inferior\n",
    "    array[:, 0] = 1  # Columna izquierda\n",
    "    array[:, -1] = 1  # Columna derecha\n",
    "\n",
    "    return array\n",
    "\n",
    "# Crear el array con tamaño 5x5\n",
    "array_borde = crear_array_borde(9)\n",
    "\n",
    "# Imprimir el array\n",
    "print(array_borde)"
   ]
  },
  {
   "cell_type": "markdown",
   "metadata": {},
   "source": [
    "## Ejercicio 16\n",
    "Crea una matriz de 8x8, y rellénala con 0s y 1s. Tienes que replicar:\n",
    "```Python\n",
    "[[0 1 0 1 0 1 0 1]\n",
    " [1 0 1 0 1 0 1 0]\n",
    " [0 1 0 1 0 1 0 1]\n",
    " [1 0 1 0 1 0 1 0]\n",
    " [0 1 0 1 0 1 0 1]\n",
    " [1 0 1 0 1 0 1 0]\n",
    " [0 1 0 1 0 1 0 1]\n",
    " [1 0 1 0 1 0 1 0]]\n",
    "```"
   ]
  },
  {
   "cell_type": "code",
   "execution_count": null,
   "metadata": {},
   "outputs": [
    {
     "name": "stdout",
     "output_type": "stream",
     "text": [
      "[[0 1 0 1 0 1 0 1]\n",
      " [1 0 1 0 1 0 1 0]\n",
      " [0 1 0 1 0 1 0 1]\n",
      " [1 0 1 0 1 0 1 0]\n",
      " [0 1 0 1 0 1 0 1]\n",
      " [1 0 1 0 1 0 1 0]\n",
      " [0 1 0 1 0 1 0 1]\n",
      " [1 0 1 0 1 0 1 0]]\n"
     ]
    }
   ],
   "source": [
    "# Crear una matriz 8x8 con el patrón deseado\n",
    "matriz = np.indices((8, 8)).sum(axis=0) % 2\n",
    "\n",
    "# Imprimir la matriz\n",
    "print(matriz)"
   ]
  },
  {
   "cell_type": "markdown",
   "metadata": {},
   "source": [
    "## Ejercicio 17\n",
    "Replica la matriz del apartado anterior, pero en este caso usando [la función `tile`](https://numpy.org/doc/stable/reference/generated/numpy.tile.html)"
   ]
  },
  {
   "cell_type": "code",
   "execution_count": null,
   "metadata": {},
   "outputs": [],
   "source": [
    "# Crear una matriz base de 2x2 con el patrón deseado\n",
    "matriz_base = np.array([[0, 1], [1, 0]])\n",
    "\n",
    "# Repetir la matriz base para formar una matriz de 8x8\n",
    "matriz = np.tile(matriz_base, (4, 4))\n",
    "\n",
    "# Imprimir la matriz\n",
    "print(matriz)"
   ]
  },
  {
   "cell_type": "markdown",
   "metadata": {},
   "source": [
    "## Ejercicio 18\n",
    "Crea una matriz aleatoria de 5x5 y normaliza sus valores. Para normalizar tienes que restar sus valores por la media(`np.mean`) y dividir el resultado por la desviación estándar(`np.std`)."
   ]
  },
  {
   "cell_type": "code",
   "execution_count": 41,
   "metadata": {},
   "outputs": [
    {
     "name": "stdout",
     "output_type": "stream",
     "text": [
      "[[0.1246798  0.34226349 0.40151848 0.45954126 0.92795233]\n",
      " [0.13329294 0.87492552 0.54864156 0.76880858 0.9311089 ]\n",
      " [0.11351562 0.2424409  0.98037491 0.76982938 0.2164125 ]\n",
      " [0.79255851 0.86061504 0.01776891 0.04707861 0.4822672 ]\n",
      " [0.62661937 0.07590918 0.2806389  0.79425357 0.71746979]]\n",
      "[[-1.18436273 -0.49997785 -0.31359801 -0.13109391  1.34224013]\n",
      " [-1.15727106  1.17545027  0.149161    0.84167144  1.35216875]\n",
      " [-1.21947841 -0.81395853  1.50712941  0.84488228 -0.89582791]\n",
      " [ 0.91637417  1.13043829 -1.52063883 -1.42844849 -0.05961204]\n",
      " [ 0.39443139 -1.3377652  -0.69381104  0.92170579  0.68019109]]\n"
     ]
    }
   ],
   "source": [
    "# Crear una matriz 5x5 con números aleatorios\n",
    "array = np.random.rand(5, 5)\n",
    "\n",
    "# Calcular la media y la desviación estándar\n",
    "media = np.mean(array)\n",
    "desviacion_estandar = np.std(array)\n",
    "\n",
    "# Normalizar la matriz\n",
    "array_normalizada = (array - media) / desviacion_estandar\n",
    "\n",
    "# Mostrar resultados\n",
    "print(array)\n",
    "print(array_normalizada)"
   ]
  },
  {
   "cell_type": "markdown",
   "metadata": {},
   "source": [
    "## Ejercicio 19\n",
    "1. Crea una secuencia de números que vayan del 0 al 10.\n",
    "2. Crea un nuevo array, que parta del anterior, pero sustituya por el valor -1, todos los elementos cuyo valor se encuentre entre el 3 y el 8.\n",
    "3. Crea un nuevo array que niegue todos los elementos entre el 3 y el 8"
   ]
  },
  {
   "cell_type": "code",
   "execution_count": 49,
   "metadata": {},
   "outputs": [
    {
     "name": "stdout",
     "output_type": "stream",
     "text": [
      "[ 0  1  2  3  4  5  6  7  8  9 10]\n",
      "[ 0  1  2 -1 -1 -1 -1 -1 -1  9 10]\n"
     ]
    }
   ],
   "source": [
    "# 1. Creamos una secuencia del 0 al 10\n",
    "array = np.arange (11)\n",
    "print (array)\n",
    "\n",
    "# 2. Creamos un nuevo array, que parta del anterior, pero sustituya por el valor -1, \n",
    "# todos los elementos cuyo valor se encuentre entre el 3 y el 8.\n",
    "array_sustitucion = np.copy(array)  \n",
    "array_sustitucion[(array >= 3) & (array <= 8)] = -1\n",
    "print (array_sustitucion)\n",
    "\n",
    "# 3. Crea un nuevo array que niegue todos los elementos entre el 3 y el 8. \n",
    "# NO SE ME OCURRE COMO HACERLO"
   ]
  }
 ],
 "metadata": {
  "kernelspec": {
   "display_name": "Python 3",
   "language": "python",
   "name": "python3"
  },
  "language_info": {
   "codemirror_mode": {
    "name": "ipython",
    "version": 3
   },
   "file_extension": ".py",
   "mimetype": "text/x-python",
   "name": "python",
   "nbconvert_exporter": "python",
   "pygments_lexer": "ipython3",
   "version": "3.11.9"
  }
 },
 "nbformat": 4,
 "nbformat_minor": 4
}

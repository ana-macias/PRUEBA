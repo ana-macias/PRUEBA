{
 "cells": [
  {
   "cell_type": "markdown",
   "metadata": {},
   "source": [
    "![imagen](./img/ejercicios.png)"
   ]
  },
  {
   "cell_type": "code",
   "execution_count": 1,
   "metadata": {},
   "outputs": [],
   "source": [
    "import numpy as np"
   ]
  },
  {
   "cell_type": "markdown",
   "metadata": {},
   "source": [
    "## Ejercicio 1\n",
    "1. Crea un array que vaya del 0 al 9 y que se llame `my_array`\n",
    "2. Imprime por pantalla los elementos [9 7 5 3 1] en ese orden."
   ]
  },
  {
   "cell_type": "code",
   "execution_count": null,
   "metadata": {},
   "outputs": [
    {
     "name": "stdout",
     "output_type": "stream",
     "text": [
      "[0 1 2 3 4 5 6 7 8 9]\n",
      "[9 7 5 3 1]\n"
     ]
    }
   ],
   "source": [
    "my_array = np.arange (10)\n",
    "print(my_array)\n",
    "print(my_array[9:0:-2]) # Mejor poner todo el intervalo (::-2)"
   ]
  },
  {
   "cell_type": "markdown",
   "metadata": {},
   "source": [
    "## Ejercicio 2\n",
    "Imprime por pantalla la secuencia [8 7] del array `my_array`"
   ]
  },
  {
   "cell_type": "code",
   "execution_count": null,
   "metadata": {},
   "outputs": [
    {
     "name": "stdout",
     "output_type": "stream",
     "text": [
      "[8 7]\n",
      "[8 7]\n"
     ]
    }
   ],
   "source": [
    "print(my_array[8:6:-1])\n",
    "\n",
    "# Otra opcion\n",
    "print(my_array[-2:-4:-1])"
   ]
  },
  {
   "cell_type": "markdown",
   "metadata": {},
   "source": [
    "## Ejercicio 3\n",
    "Imprime por pantalla la secuencia [2 1 0] de `my_array`"
   ]
  },
  {
   "cell_type": "code",
   "execution_count": 6,
   "metadata": {},
   "outputs": [
    {
     "name": "stdout",
     "output_type": "stream",
     "text": [
      "[2 1 0]\n",
      "[2 1 0]\n"
     ]
    }
   ],
   "source": [
    "print(my_array[2::-1])\n",
    "\n",
    "# Otra forma\n",
    "print(np.array(sorted(my_array[:3],reverse = True)))"
   ]
  },
  {
   "cell_type": "markdown",
   "metadata": {},
   "source": [
    "## Ejercicio 4\n",
    "1. Crea una matriz de 4x5, con una secuencia del 1 al 20\n",
    "2. Invierte totalmente la matriz. Tanto las filas, como las columnas"
   ]
  },
  {
   "cell_type": "code",
   "execution_count": 11,
   "metadata": {},
   "outputs": [
    {
     "name": "stdout",
     "output_type": "stream",
     "text": [
      "[[ 1  2  3  4  5]\n",
      " [ 6  7  8  9 10]\n",
      " [11 12 13 14 15]\n",
      " [16 17 18 19 20]]\n",
      "[[20 19 18 17 16]\n",
      " [15 14 13 12 11]\n",
      " [10  9  8  7  6]\n",
      " [ 5  4  3  2  1]]\n",
      "[[20 19 18 17 16]\n",
      " [15 14 13 12 11]\n",
      " [10  9  8  7  6]\n",
      " [ 5  4  3  2  1]]\n",
      "[[ 1  6 11 16]\n",
      " [ 2  7 12 17]\n",
      " [ 3  8 13 18]\n",
      " [ 4  9 14 19]\n",
      " [ 5 10 15 20]]\n"
     ]
    }
   ],
   "source": [
    "# 1. Crear matriz\n",
    "matriz = np.arange(1, 21).reshape(4, 5)\n",
    "print (matriz)\n",
    "\n",
    "# 2. Invertir matriz\n",
    "print(np.flip(matriz))\n",
    "\n",
    "# Otra forma\n",
    "print (matriz[::-1, ::-1])\n",
    "\n",
    "# La traspuesta\n",
    "print (matriz.T)"
   ]
  },
  {
   "cell_type": "markdown",
   "metadata": {},
   "source": [
    "## Ejercicio 5\n",
    "\n",
    "Obtén el siguiente array, partiendo de la matriz del ejercicio 4\n",
    "```Python\n",
    "array([[1, 2],\n",
    "       [6, 7]])\n",
    "```"
   ]
  },
  {
   "cell_type": "code",
   "execution_count": 12,
   "metadata": {},
   "outputs": [
    {
     "name": "stdout",
     "output_type": "stream",
     "text": [
      "[[1 2]\n",
      " [6 7]]\n"
     ]
    }
   ],
   "source": [
    "# Matriz ejercicio 4\n",
    "'''\n",
    "[[ 1  2  3  4  5]\n",
    " [ 6  7  8  9 10]\n",
    " [11 12 13 14 15]\n",
    " [16 17 18 19 20]]\n",
    "'''\n",
    "\n",
    "# Nueva matriz\n",
    "new_matriz = matriz[:2, :2]\n",
    "print (new_matriz)"
   ]
  },
  {
   "cell_type": "markdown",
   "metadata": {},
   "source": [
    "## Ejercicio 6\n",
    "Obtén el siguiente array, partiendo de la matriz del ejercicio 4\n",
    "```Python\n",
    "array([[ 1,  3,  5],\n",
    "       [11, 13, 15]])\n",
    "```"
   ]
  },
  {
   "cell_type": "code",
   "execution_count": null,
   "metadata": {},
   "outputs": [
    {
     "name": "stdout",
     "output_type": "stream",
     "text": [
      "[[ 1  3  5]\n",
      " [11 13 15]]\n",
      "[[ 1  3  5]\n",
      " [11 13 15]]\n"
     ]
    }
   ],
   "source": [
    "# Matriz ejercicio 4\n",
    "'''\n",
    "[[ 1  2  3  4  5]\n",
    " [ 6  7  8  9 10]\n",
    " [11 12 13 14 15]\n",
    " [16 17 18 19 20]]\n",
    "'''\n",
    "\n",
    "# Nueva matriz\n",
    "resultado = matriz[[0, 2], :][:, [0, 2, 4]]\n",
    "print(resultado)\n",
    "\n",
    "# Otra forma más sencilla\n",
    "print (matriz [::2, ::2])"
   ]
  },
  {
   "cell_type": "markdown",
   "metadata": {},
   "source": [
    "## Ejercicio 7\n",
    "Obtén el siguiente array, partiendo de la matriz del ejercicio 4\n",
    "```Python\n",
    "array([[ 5,  4,  3,  2,  1],\n",
    "       [10,  9,  8,  7,  6],\n",
    "       [15, 14, 13, 12, 11]])\n",
    "```"
   ]
  },
  {
   "cell_type": "code",
   "execution_count": 14,
   "metadata": {},
   "outputs": [
    {
     "name": "stdout",
     "output_type": "stream",
     "text": [
      "[[ 5  4  3  2  1]\n",
      " [10  9  8  7  6]\n",
      " [15 14 13 12 11]]\n",
      "[[ 5  4  3  2  1]\n",
      " [10  9  8  7  6]\n",
      " [15 14 13 12 11]]\n"
     ]
    }
   ],
   "source": [
    "# Matriz ejercicio 4\n",
    "'''\n",
    "[[ 1  2  3  4  5]\n",
    " [ 6  7  8  9 10]\n",
    " [11 12 13 14 15]\n",
    " [16 17 18 19 20]]\n",
    "'''\n",
    "\n",
    "# Nueva matriz\n",
    "resultado = matriz[:3, ::-1]\n",
    "print(resultado)\n",
    "\n",
    "# Otra forma\n",
    "print (matriz [:3, ::-1])\n"
   ]
  },
  {
   "cell_type": "markdown",
   "metadata": {},
   "source": [
    "## Ejercicio 8\n",
    "Dado el siguiente array:\n",
    "\n",
    "```Python\n",
    "x = np.array([\"Loro\", \"Perro\", \"Gato\", \"Loro\", \"Perro\"])\n",
    "```\n",
    "\n",
    "Filtra el array para quedarte únicamente con los loros.\n",
    "\n",
    "Resuélvelo de dos maneras diferentes"
   ]
  },
  {
   "cell_type": "code",
   "execution_count": 20,
   "metadata": {},
   "outputs": [
    {
     "name": "stdout",
     "output_type": "stream",
     "text": [
      "['Loro' 'Loro']\n",
      "['Loro' 'Loro']\n",
      "['Loro' 'Loro']\n",
      "['Loro' 'Loro']\n"
     ]
    }
   ],
   "source": [
    "x = np.array([\"Loro\", \"Perro\", \"Gato\", \"Loro\", \"Perro\"])\n",
    "\n",
    "# Primera manera\n",
    "loros = x[x == \"Loro\"]\n",
    "print (loros)\n",
    "\n",
    "# Segunda manera\n",
    "lugares = np.where(x == \"Loro\")\n",
    "loros = x[lugares]\n",
    "print(loros)\n",
    "\n",
    "# Otra forma\n",
    "print (x[x==\"Loro\"])\n",
    "print (x[np.where (x==\"Loro\")])\n"
   ]
  },
  {
   "cell_type": "markdown",
   "metadata": {},
   "source": [
    "## Ejercicio 9\n",
    "Crea una secuencia de 20 elementos y transfórmala en un array compuesto por 2 matrices de 5x2"
   ]
  },
  {
   "cell_type": "code",
   "execution_count": 23,
   "metadata": {},
   "outputs": [
    {
     "name": "stdout",
     "output_type": "stream",
     "text": [
      "[ 1  2  3  4  5  6  7  8  9 10 11 12 13 14 15 16 17 18 19 20]\n",
      "[[[ 1  2]\n",
      "  [ 3  4]\n",
      "  [ 5  6]\n",
      "  [ 7  8]\n",
      "  [ 9 10]]\n",
      "\n",
      " [[11 12]\n",
      "  [13 14]\n",
      "  [15 16]\n",
      "  [17 18]\n",
      "  [19 20]]]\n",
      "1\n",
      "(20,)\n",
      "20\n"
     ]
    }
   ],
   "source": [
    "my_array = np.arange (1,21)\n",
    "print (my_array)\n",
    "\n",
    "new_array = my_array.reshape (2,5,2)\n",
    "print (new_array)\n",
    "\n",
    "print (my_array.ndim)\n",
    "print (my_array.shape)\n",
    "print (my_array.size)"
   ]
  },
  {
   "cell_type": "markdown",
   "metadata": {},
   "source": [
    "## Ejercicio 10\n",
    "\n",
    "Crea un array de 10 0s. ¿Cuánto ocupa en memoria?\n",
    "\n",
    "Sustituye el 4to elemento por 1, e imprime el array por pantalla"
   ]
  },
  {
   "cell_type": "code",
   "execution_count": 25,
   "metadata": {},
   "outputs": [
    {
     "name": "stdout",
     "output_type": "stream",
     "text": [
      "[0. 0. 0. 0. 0. 0. 0. 0. 0. 0.]\n",
      "80\n",
      "8\n",
      "[0. 0. 0. 1. 0. 0. 0. 0. 0. 0.]\n"
     ]
    }
   ],
   "source": [
    "array = np.zeros(10)\n",
    "print (array)\n",
    "\n",
    "# Memoria que ocupa\n",
    "print (array.nbytes)\n",
    "print (array.itemsize)\n",
    "\n",
    "# Sustituir el 4to elemento por 1\n",
    "array[3] = 1\n",
    "print (array)"
   ]
  },
  {
   "cell_type": "markdown",
   "metadata": {},
   "source": [
    "## Ejercicio 11\n",
    "\n",
    "Crea un vector que vaya del 10 al 49\n",
    "\n",
    "Inviértelo"
   ]
  },
  {
   "cell_type": "code",
   "execution_count": 22,
   "metadata": {},
   "outputs": [
    {
     "name": "stdout",
     "output_type": "stream",
     "text": [
      "[10 11 12 13 14 15 16 17 18 19 20 21 22 23 24 25 26 27 28 29 30 31 32 33\n",
      " 34 35 36 37 38 39 40 41 42 43 44 45 46 47 48 49]\n",
      "[49 48 47 46 45 44 43 42 41 40 39 38 37 36 35 34 33 32 31 30 29 28 27 26\n",
      " 25 24 23 22 21 20 19 18 17 16 15 14 13 12 11 10]\n"
     ]
    }
   ],
   "source": [
    "# Crear el vector\n",
    "vector = np.arange (10, 50)\n",
    "print (vector)\n",
    "\n",
    "# Invertir el vector\n",
    "vector_invertido = vector[::-1]\n",
    "print (vector_invertido)"
   ]
  },
  {
   "cell_type": "markdown",
   "metadata": {},
   "source": [
    "## Ejercicio 12\n",
    "Encuentra los índices de los valores que no sean 0 del siguiente vector [1,2,0,0,4,0]. El output sería [0, 1, 4]. [Encuentra el método apropiado en la documentación.](https://numpy.org/doc/) Encapsúlalo en una función, con un argumento de entrada de un vector."
   ]
  },
  {
   "cell_type": "code",
   "execution_count": 29,
   "metadata": {},
   "outputs": [
    {
     "name": "stdout",
     "output_type": "stream",
     "text": [
      "[np.int64(0), np.int64(1), np.int64(4)]\n",
      "[1 2 4]\n"
     ]
    }
   ],
   "source": [
    "# Buscamos los indices que no sean cero\n",
    "vector = np.array([1, 2, 0, 0, 4, 0])\n",
    "indices = list(np.nonzero(vector)[0])\n",
    "print(indices) \n",
    "\n",
    "# Otra forma\n",
    "print (vector[np.where (vector !=0)]) # Si pones * te muestra todo sin corchetes"
   ]
  },
  {
   "cell_type": "code",
   "execution_count": null,
   "metadata": {},
   "outputs": [
    {
     "name": "stdout",
     "output_type": "stream",
     "text": [
      "[np.int64(0), np.int64(1), np.int64(4)]\n",
      "[0 1 4]\n"
     ]
    }
   ],
   "source": [
    "# Encapsulamos en una función\n",
    "def indices_no_cero(vector):\n",
    "    \n",
    "    return list(np.nonzero(vector)[0])\n",
    "\n",
    "# Usamos la función\n",
    "vector = np.array([1, 2, 0, 0, 4, 0])\n",
    "indices = indices_no_cero(vector)\n",
    "print(indices)\n",
    "\n",
    "# Otra forma\n",
    "def ejer_12 (vector):\n",
    "    return np.where (vector !=0)[0] # Elegimos el primer elemento con [0]\n",
    "\n",
    "resultado = ejer_12 (vector)\n",
    "print (resultado)"
   ]
  },
  {
   "attachments": {},
   "cell_type": "markdown",
   "metadata": {},
   "source": [
    "## Ejercicio 13\n",
    "Crea una matriz de números aleatorios 10x10. Encuentra los valores mínimo y máximo."
   ]
  },
  {
   "cell_type": "code",
   "execution_count": null,
   "metadata": {},
   "outputs": [
    {
     "name": "stdout",
     "output_type": "stream",
     "text": [
      "[[53 53 31 89  1 10 60 78 61 50]\n",
      " [39 75 19 79 66  4 43 51 95 32]\n",
      " [71 20 93 47 42 43 37 24 45  7]\n",
      " [48 17 43 45 69 69 73 27 99 27]\n",
      " [99 75 85 71 33  1  4 38 62  3]\n",
      " [20 18 48 63 10 76 73  3 36 10]\n",
      " [82 32 69 98 39 98  9 14 82 72]\n",
      " [94 58 62 29 10 84 55 62  6 35]\n",
      " [11 48 95 19 15 74 95 50 59 99]\n",
      " [38  6 48 32 78 81 52 68 25 51]]\n",
      "[[0.92806591 0.32155054 0.21814661 0.27947387 0.50496902 0.93845362\n",
      "  0.17008541 0.20802332 0.66705258 0.12582276]\n",
      " [0.18442542 0.88872071 0.50617416 0.69890761 0.59658463 0.27376782\n",
      "  0.25020064 0.22784448 0.82614181 0.08806767]\n",
      " [0.97032279 0.89868741 0.62944472 0.54676139 0.805857   0.59904164\n",
      "  0.13674943 0.07874726 0.47894441 0.45523455]\n",
      " [0.34359967 0.020985   0.27113493 0.51240159 0.98698566 0.05909957\n",
      "  0.64989351 0.36777638 0.21176806 0.10490315]\n",
      " [0.44660541 0.43454243 0.4436849  0.05359793 0.68296625 0.15837348\n",
      "  0.61112567 0.02299801 0.41537722 0.09510081]\n",
      " [0.19887875 0.1069331  0.12645914 0.51557012 0.82113645 0.56801927\n",
      "  0.06609428 0.40385811 0.19694666 0.27831301]\n",
      " [0.12219951 0.79728608 0.30134438 0.5951788  0.84624598 0.53374651\n",
      "  0.04359625 0.35364172 0.61278904 0.38424928]\n",
      " [0.49675056 0.08096717 0.53822309 0.52529631 0.76075455 0.70516662\n",
      "  0.74520755 0.1330588  0.82563917 0.24610632]\n",
      " [0.24748054 0.64352674 0.9168175  0.83811469 0.07285698 0.70601446\n",
      "  0.61585541 0.98141402 0.2344634  0.95920486]\n",
      " [0.89964326 0.06970783 0.04762786 0.74964023 0.81815174 0.56906475\n",
      "  0.0493703  0.57599771 0.01303591 0.49578773]]\n",
      "0.013035914829015671\n",
      "0.9869856628381972\n",
      "0.013035914829015671\n",
      "0.9869856628381972\n"
     ]
    }
   ],
   "source": [
    "# Crear una matriz 10x10 con números aleatorios entre 0 y 1\n",
    "matriz = np.random.rand(10, 10)\n",
    "matriz_1 = np.random.randint (100, size = (10,10))\n",
    "print (matriz_1)\n",
    "\n",
    "# Obtener el valor mínimo y máximo\n",
    "valor_min = matriz.min()\n",
    "valor_max = matriz.max()\n",
    "\n",
    "# Otra forma\n",
    "valor_min_1 = np.min (matriz)\n",
    "valor_max_1 = np.max (matriz)\n",
    "\n",
    "\n",
    "# Mostrar resultados\n",
    "print(matriz)\n",
    "print(valor_min)\n",
    "print(valor_max)\n",
    "print (valor_min_1)\n",
    "print (valor_max_1)"
   ]
  },
  {
   "cell_type": "markdown",
   "metadata": {},
   "source": [
    "## Ejercicio 14\n",
    "Crea un vector aleatorio de tamaño 30 y calcula su media"
   ]
  },
  {
   "cell_type": "code",
   "execution_count": null,
   "metadata": {},
   "outputs": [
    {
     "name": "stdout",
     "output_type": "stream",
     "text": [
      "[0.06778561 0.39293661 0.96653613 0.31873184 0.59364541 0.32127952\n",
      " 0.07614131 0.44218468 0.10566697 0.05358845 0.98841124 0.8624561\n",
      " 0.71934779 0.15009808 0.27251441 0.07479501 0.58194928 0.49547592\n",
      " 0.40957695 0.42726806 0.49056572 0.95500969 0.99560223 0.34243511\n",
      " 0.29779384 0.0549524  0.20475208 0.38665539 0.37065446 0.08969968]\n",
      "0.41695033223345385\n"
     ]
    }
   ],
   "source": [
    "vector = np.random.rand (30)\n",
    "print (vector)\n",
    "\n",
    "# Calculamos su media\n",
    "media = vector.mean()\n",
    "print (media)\n"
   ]
  },
  {
   "cell_type": "markdown",
   "metadata": {},
   "source": [
    "## Ejercicio 15\n",
    "Crea un array cuadrado de 2D, con las dimensiones que quieras, pero que todo el borde esté compuesto por 1s, y el interior por 0s"
   ]
  },
  {
   "cell_type": "code",
   "execution_count": 36,
   "metadata": {},
   "outputs": [
    {
     "name": "stdout",
     "output_type": "stream",
     "text": [
      "[[1 1 1 1 1 1 1 1 1]\n",
      " [1 0 0 0 0 0 0 0 1]\n",
      " [1 0 0 0 0 0 0 0 1]\n",
      " [1 0 0 0 0 0 0 0 1]\n",
      " [1 0 0 0 0 0 0 0 1]\n",
      " [1 0 0 0 0 0 0 0 1]\n",
      " [1 0 0 0 0 0 0 0 1]\n",
      " [1 0 0 0 0 0 0 0 1]\n",
      " [1 1 1 1 1 1 1 1 1]]\n"
     ]
    }
   ],
   "source": [
    "# Creamos un array cuadrado de tamaño n x n, con 1s en el borde y 0s en el interior.\n",
    "def crear_array_borde(n):\n",
    "    # Crear una matriz llena de ceros\n",
    "    array = np.zeros((n, n), dtype=int)\n",
    "\n",
    "    # Poner 1s en el borde\n",
    "    array[0, :] = 1  # Fila superior\n",
    "    array[-1, :] = 1  # Fila inferior\n",
    "    array[:, 0] = 1  # Columna izquierda\n",
    "    array[:, -1] = 1  # Columna derecha\n",
    "\n",
    "    return array\n",
    "\n",
    "# Crear el array con tamaño 5x5\n",
    "array_borde = crear_array_borde(9)\n",
    "\n",
    "# Imprimir el array\n",
    "print(array_borde)"
   ]
  },
  {
   "cell_type": "code",
   "execution_count": null,
   "metadata": {},
   "outputs": [],
   "source": [
    "# Otra forma\n"
   ]
  },
  {
   "cell_type": "markdown",
   "metadata": {},
   "source": [
    "## Ejercicio 16\n",
    "Crea una matriz de 8x8, y rellénala con 0s y 1s. Tienes que replicar:\n",
    "```Python\n",
    "[[0 1 0 1 0 1 0 1]\n",
    " [1 0 1 0 1 0 1 0]\n",
    " [0 1 0 1 0 1 0 1]\n",
    " [1 0 1 0 1 0 1 0]\n",
    " [0 1 0 1 0 1 0 1]\n",
    " [1 0 1 0 1 0 1 0]\n",
    " [0 1 0 1 0 1 0 1]\n",
    " [1 0 1 0 1 0 1 0]]\n",
    "```"
   ]
  },
  {
   "cell_type": "code",
   "execution_count": null,
   "metadata": {},
   "outputs": [
    {
     "name": "stdout",
     "output_type": "stream",
     "text": [
      "[[0 1 0 1 0 1 0 1]\n",
      " [1 0 1 0 1 0 1 0]\n",
      " [0 1 0 1 0 1 0 1]\n",
      " [1 0 1 0 1 0 1 0]\n",
      " [0 1 0 1 0 1 0 1]\n",
      " [1 0 1 0 1 0 1 0]\n",
      " [0 1 0 1 0 1 0 1]\n",
      " [1 0 1 0 1 0 1 0]]\n"
     ]
    }
   ],
   "source": [
    "# Crear una matriz 8x8 con el patrón deseado\n",
    "matriz = np.indices((8, 8)).sum(axis=0) % 2\n",
    "\n",
    "# Imprimir la matriz\n",
    "print(matriz)"
   ]
  },
  {
   "cell_type": "code",
   "execution_count": 49,
   "metadata": {},
   "outputs": [
    {
     "name": "stdout",
     "output_type": "stream",
     "text": [
      "[[0. 1. 0. 1. 0. 1. 0. 1.]\n",
      " [1. 0. 1. 0. 1. 0. 1. 0.]\n",
      " [0. 1. 0. 1. 0. 1. 0. 1.]\n",
      " [1. 0. 1. 0. 1. 0. 1. 0.]\n",
      " [0. 1. 0. 1. 0. 1. 0. 1.]\n",
      " [1. 0. 1. 0. 1. 0. 1. 0.]\n",
      " [0. 1. 0. 1. 0. 1. 0. 1.]\n",
      " [1. 0. 1. 0. 1. 0. 1. 0.]]\n"
     ]
    }
   ],
   "source": [
    "# Otra forma\n",
    "x= np.zeros ((8,8))\n",
    "\n",
    "x [::2, 1::2] = 1\n",
    "x [1::2, ::2] = 1\n",
    "print (x)"
   ]
  },
  {
   "cell_type": "markdown",
   "metadata": {},
   "source": [
    "## Ejercicio 17\n",
    "Replica la matriz del apartado anterior, pero en este caso usando [la función `tile`](https://numpy.org/doc/stable/reference/generated/numpy.tile.html)"
   ]
  },
  {
   "cell_type": "code",
   "execution_count": 50,
   "metadata": {},
   "outputs": [
    {
     "name": "stdout",
     "output_type": "stream",
     "text": [
      "[[0 1 0 1 0 1 0 1]\n",
      " [1 0 1 0 1 0 1 0]\n",
      " [0 1 0 1 0 1 0 1]\n",
      " [1 0 1 0 1 0 1 0]\n",
      " [0 1 0 1 0 1 0 1]\n",
      " [1 0 1 0 1 0 1 0]\n",
      " [0 1 0 1 0 1 0 1]\n",
      " [1 0 1 0 1 0 1 0]]\n"
     ]
    }
   ],
   "source": [
    "# Crear una matriz base de 2x2 con el patrón deseado\n",
    "matriz_base = np.array([[0, 1], [1, 0]])\n",
    "\n",
    "# Repetir la matriz base para formar una matriz de 8x8\n",
    "matriz = np.tile(matriz_base, (4, 4))\n",
    "\n",
    "# Imprimir la matriz\n",
    "print(matriz)"
   ]
  },
  {
   "cell_type": "markdown",
   "metadata": {},
   "source": [
    "## Ejercicio 18\n",
    "Crea una matriz aleatoria de 5x5 y normaliza sus valores. Para normalizar tienes que restar sus valores por la media(`np.mean`) y dividir el resultado por la desviación estándar(`np.std`)."
   ]
  },
  {
   "cell_type": "code",
   "execution_count": 55,
   "metadata": {},
   "outputs": [
    {
     "name": "stdout",
     "output_type": "stream",
     "text": [
      "[[12  7  8 12  8]\n",
      " [ 5  1 16 14  9]\n",
      " [ 6 17 17  7  8]\n",
      " [10 19  2 14  7]\n",
      " [ 5 12 14 11  3]]\n",
      "[[ 0.4672511  -0.5757201  -0.36712586  0.4672511  -0.36712586]\n",
      " [-0.99290858 -1.82728554  1.30162805  0.88443957 -0.15853162]\n",
      " [-0.78431434  1.51022229  1.51022229 -0.5757201  -0.36712586]\n",
      " [ 0.05006262  1.92741077 -1.6186913   0.88443957 -0.5757201 ]\n",
      " [-0.99290858  0.4672511   0.88443957  0.25865686 -1.41009706]]\n"
     ]
    }
   ],
   "source": [
    "# Crear una matriz 5x5 con números aleatorios\n",
    "array = np.random.randint(1,20, (5, 5))\n",
    "\n",
    "# Calcular la media y la desviación estándar\n",
    "media = np.mean(array)\n",
    "desviacion_estandar = np.std(array)\n",
    "\n",
    "# Normalizar la matriz\n",
    "array_normalizada = (array - media) / desviacion_estandar\n",
    "\n",
    "# Mostrar resultados\n",
    "print(array)\n",
    "print(array_normalizada)"
   ]
  },
  {
   "cell_type": "markdown",
   "metadata": {},
   "source": [
    "## Ejercicio 19\n",
    "1. Crea una secuencia de números que vayan del 0 al 10.\n",
    "2. Crea un nuevo array, que parta del anterior, pero sustituya por el valor -1, todos los elementos cuyo valor se encuentre entre el 3 y el 8.\n",
    "3. Crea un nuevo array que niegue todos los elementos entre el 3 y el 8"
   ]
  },
  {
   "cell_type": "code",
   "execution_count": 61,
   "metadata": {},
   "outputs": [
    {
     "name": "stdout",
     "output_type": "stream",
     "text": [
      "[ 0  1  2  3  4  5  6  7  8  9 10]\n",
      "[ 0  1  2 -1 -1 -1 -1 -1 -1  9 10]\n",
      "[ 0  1  2 -3 -4 -5 -6 -7 -8  9 10]\n"
     ]
    }
   ],
   "source": [
    "# 1. Creamos una secuencia del 0 al 10\n",
    "array = np.arange (11)\n",
    "print (array)\n",
    "\n",
    "# 2. Creamos un nuevo array, que parta del anterior, pero sustituya por el valor -1, \n",
    "# todos los elementos cuyo valor se encuentre entre el 3 y el 8.\n",
    "array_sustitucion = np.copy(array)  \n",
    "array_sustitucion[(array >= 3) & (array <= 8)] = -1\n",
    "print (array_sustitucion)\n",
    "\n",
    "# 3. Crea un nuevo array que niegue todos los elementos entre el 3 y el 8. \n",
    "# NO SE ME OCURRE COMO HACERLO\n",
    "y = array.copy ()\n",
    "y [(y>=3) & (y<=8)] *= -1\n",
    "print (y)"
   ]
  }
 ],
 "metadata": {
  "kernelspec": {
   "display_name": "Python 3",
   "language": "python",
   "name": "python3"
  },
  "language_info": {
   "codemirror_mode": {
    "name": "ipython",
    "version": 3
   },
   "file_extension": ".py",
   "mimetype": "text/x-python",
   "name": "python",
   "nbconvert_exporter": "python",
   "pygments_lexer": "ipython3",
   "version": "3.11.9"
  }
 },
 "nbformat": 4,
 "nbformat_minor": 4
}

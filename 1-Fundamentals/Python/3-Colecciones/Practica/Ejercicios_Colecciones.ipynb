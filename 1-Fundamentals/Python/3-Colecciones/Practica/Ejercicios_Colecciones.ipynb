{
 "cells": [
  {
   "cell_type": "markdown",
   "metadata": {},
   "source": [
    "![imagen](./img/ejercicios.png)"
   ]
  },
  {
   "cell_type": "markdown",
   "metadata": {},
   "source": []
  },
  {
   "cell_type": "markdown",
   "metadata": {},
   "source": []
  },
  {
   "cell_type": "markdown",
   "metadata": {},
   "source": [
    "## Ejercicio 1\n",
    "Dada la siguiente lista:\n",
    "> ```ejer_1 = [1,2,3,4,5]```\n",
    "\n",
    "Inviértela para que quede de la siguiente manera\n",
    "> ```ejer_1 = [5,4,3,2,1]```"
   ]
  },
  {
   "cell_type": "code",
   "execution_count": 1,
   "metadata": {},
   "outputs": [
    {
     "name": "stdout",
     "output_type": "stream",
     "text": [
      "[5, 4, 3, 2, 1]\n"
     ]
    }
   ],
   "source": [
    "ejer_1 = [1,2,3,4,5]\n",
    "\n",
    "ejer_1.reverse ()\n",
    "print (ejer_1)"
   ]
  },
  {
   "cell_type": "code",
   "execution_count": 3,
   "metadata": {},
   "outputs": [
    {
     "data": {
      "text/plain": [
       "[5, 4, 3, 2, 1]"
      ]
     },
     "execution_count": 3,
     "metadata": {},
     "output_type": "execute_result"
    }
   ],
   "source": [
    "# OTRA FORMA\n",
    "ejer_1 = [1,2,3,4,5]\n",
    "\n",
    "ejer_1 [-1 : : -1]"
   ]
  },
  {
   "cell_type": "markdown",
   "metadata": {},
   "source": [
    "## Ejercicio 3\n",
    "Crea una lista nueva con todas las combinaciones de las siguientes dos listas:\n",
    "> ```ejer_3_1 = [\"Hola\", \"amigo\"]```\n",
    ">\n",
    "> ```ejer_3_2 = [\"Que\", \"tal\"]```\n",
    "\n",
    "Obten el siguiente output:\n",
    "\n",
    "```['Hola Que', 'Hola tal', 'amigo Que', 'amigo tal']```"
   ]
  },
  {
   "cell_type": "code",
   "execution_count": 5,
   "metadata": {},
   "outputs": [
    {
     "name": "stdout",
     "output_type": "stream",
     "text": [
      "[('Hola', 'Que'), ('Hola', 'tal'), ('amigo', 'Que'), ('amigo', 'tal')]\n"
     ]
    }
   ],
   "source": [
    "ejer_3_1 = [\"Hola\", \"amigo\"]\n",
    "ejer_3_2 = [\"Que\", \"tal\"]\n",
    "\n",
    "lista_combinada = []\n",
    "\n",
    "for i in ejer_3_1:\n",
    "    for n in ejer_3_2:\n",
    "        lista_combinada.append ((i,n)) \n",
    "\n",
    "print (lista_combinada)"
   ]
  },
  {
   "attachments": {},
   "cell_type": "markdown",
   "metadata": {},
   "source": [
    "## Ejercicio 4\n",
    "Dada la siguiente lista, encuentra por el índice el valor 45 y sustitúyelo por el 0\n",
    "> ```ejer_4 = [20, 47, 19, 29, 45, 67, 78, 90]```"
   ]
  },
  {
   "cell_type": "code",
   "execution_count": 2,
   "metadata": {},
   "outputs": [
    {
     "name": "stdout",
     "output_type": "stream",
     "text": [
      "[20, 47, 19, 29, 0, 67, 78, 90]\n"
     ]
    }
   ],
   "source": [
    "ejer_4 = [20, 47, 19, 29, 45, 67, 78, 90]\n",
    "\n",
    "indice = ejer_4.index (45)\n",
    "\n",
    "ejer_4 [indice] = 0\n",
    "\n",
    "print (ejer_4)\n",
    "\n"
   ]
  },
  {
   "cell_type": "code",
   "execution_count": 13,
   "metadata": {},
   "outputs": [
    {
     "name": "stdout",
     "output_type": "stream",
     "text": [
      "[20, 47, 19, 29, 0, 67, 78, 90]\n",
      "[20, 47, 19, 29, 0, 67, 78, 90]\n"
     ]
    }
   ],
   "source": [
    "# OTRA FORMA\n",
    "ejer_4 = [20, 47, 19, 29, 45, 67, 78, 90]\n",
    "ejer_4 [ejer_4.index (45)] = 0\n",
    "print (ejer_4)\n",
    " \n",
    "#OTRA FORMA\n",
    "for i, value in enumerate (ejer_4):\n",
    "    if value == 45:\n",
    "        ejer_4 [i] = 0\n",
    "print (ejer_4)"
   ]
  },
  {
   "cell_type": "markdown",
   "metadata": {},
   "source": [
    "## Ejercicio 5\n",
    "Dada la siguiente lista, elimina todos los valores iguales a 3\n",
    "> ```ejer_5 = [3, 20, 3, 47, 19, 3, 29, 45, 67, 78, 90, 3, 3]```\n",
    "\n",
    "TIP: No intentes eliminar elementos sobre la lista que estás iterando. Haz una copia con `ejer_5.copy()`."
   ]
  },
  {
   "cell_type": "code",
   "execution_count": 5,
   "metadata": {},
   "outputs": [
    {
     "name": "stdout",
     "output_type": "stream",
     "text": [
      "[20, 47, 19, 29, 45, 67, 78, 90]\n"
     ]
    }
   ],
   "source": [
    "ejer_5 = [3, 20, 3, 47, 19, 3, 29, 45, 67, 78, 90, 3, 3]\n",
    "\n",
    "while 3 in ejer_5:\n",
    "    ejer_5.remove (3)\n",
    "\n",
    "print (ejer_5)"
   ]
  },
  {
   "attachments": {},
   "cell_type": "markdown",
   "metadata": {},
   "source": [
    "## Ejercicio 6\n",
    "1. Crea una tupla con 3 elementos\n",
    "2. Crea otra tupla con un elemento y comprueba su tipo\n",
    "3. Crea una tupla con elementos de diferentes tipos\n",
    "4. Imprime por pantalla el primer y último elemento de la tupla del apartado 3. Usa `len` para el último\n",
    "5. Añade un elemento a la tupla del apartado 3.\n",
    "6. Eliminar un elemento de la tupla del apartado 5, que se encuentre más o menos en la mitad.\n",
    "7. Convierte la tupla del apartado 5 en una lista"
   ]
  },
  {
   "cell_type": "code",
   "execution_count": 15,
   "metadata": {},
   "outputs": [
    {
     "name": "stdout",
     "output_type": "stream",
     "text": [
      "<class 'tuple'>\n",
      "('Rojo', 3, 'Blanco', 'Verde')\n",
      "Rojo\n",
      "Verde\n",
      "('Rojo', 3, 'Blanco', 'Verde', 5)\n",
      "('Rojo', 3, 'Verde', 5)\n",
      "['Rojo', 3, 'Blanco', 'Verde', 5]\n"
     ]
    }
   ],
   "source": [
    "#1\n",
    "tupla_1 = (\"Rojo\", \"Blanco\", \"Verde\")\n",
    "\n",
    "#2\n",
    "tupla_2 = (3,)\n",
    "print (type (tupla_2))\n",
    "\n",
    "#3\n",
    "tupla_3 = (\"Rojo\", 3, \"Blanco\", \"Verde\")\n",
    "print (tupla_3)\n",
    "\n",
    "#4\n",
    "print (tupla_3 [0])\n",
    "print (tupla_3 [len (tupla_3)-1])\n",
    "\n",
    "#5\n",
    "tupla_4 = tupla_3 + (5,)\n",
    "print (tupla_4)\n",
    "\n",
    "#6\n",
    "tupla_4 = tuple (i for i in tupla_4 if i != \"Blanco\")\n",
    "print (tupla_4)\n",
    "\n",
    "#7\n",
    "tupla_4 = ('Rojo', 3, 'Blanco', 'Verde', 5)\n",
    "lista_4 = list (tupla_4)\n",
    "print (lista_4)\n"
   ]
  },
  {
   "attachments": {},
   "cell_type": "markdown",
   "metadata": {},
   "source": [
    "## Ejercicio 7\n",
    "Concatena todos los elementos de la tupla en un único string. Para ello utiliza el metodo `.join()` de los Strings\n",
    "> ```ejer_7 = (\"cien\", \"cañones\", \"por\", \"banda\")```\n",
    "\n",
    "Resultado: `cien cañones por banda`"
   ]
  },
  {
   "cell_type": "code",
   "execution_count": 16,
   "metadata": {},
   "outputs": [
    {
     "name": "stdout",
     "output_type": "stream",
     "text": [
      "cien cañones por banda\n",
      "cien cañones por banda\n"
     ]
    }
   ],
   "source": [
    "ejer_7 = (\"cien\", \"cañones\", \"por\", \"banda\")\n",
    "unido = \" \".join (ejer_7)\n",
    "print (unido)\n",
    "print (*ejer_7)\n"
   ]
  },
  {
   "cell_type": "markdown",
   "metadata": {},
   "source": [
    "## Ejercicio 8\n",
    "Obten el tercer elemento de la siguiente tupla, y el tercero empezando por la cola\n",
    "> ```ejer_8 = (3, 20, 3, 47, 19, 3, 29, 45, 67, 78, 90, 3, 3)```"
   ]
  },
  {
   "cell_type": "code",
   "execution_count": 26,
   "metadata": {},
   "outputs": [
    {
     "name": "stdout",
     "output_type": "stream",
     "text": [
      "3\n",
      "90\n"
     ]
    }
   ],
   "source": [
    "ejer_8 = (3, 20, 3, 47, 19, 3, 29, 45, 67, 78, 90, 3, 3)\n",
    "\n",
    "tercer_elemento = ejer_8 [2]\n",
    "print (tercer_elemento)\n",
    "ultimo_elemento = ejer_8 [-3]\n",
    "print (ultimo_elemento)"
   ]
  },
  {
   "cell_type": "markdown",
   "metadata": {},
   "source": [
    "## Ejercicio 11\n",
    "Convierte la siguiente lista en un diccionario\n",
    "> ```ejer_11 = [(\"x\", 1), (\"x\", 2), (\"x\", 3), (\"y\", 1), (\"y\", 2), (\"z\", 1)]```\n",
    "\n",
    "TIP: Puedes usar dos variables de control en un bucle `for`. Una por cada valor de las tuplas."
   ]
  },
  {
   "cell_type": "code",
   "execution_count": 31,
   "metadata": {},
   "outputs": [
    {
     "name": "stdout",
     "output_type": "stream",
     "text": [
      "{'x': [1, 2, 3], 'y': [1, 2], 'z': [1]}\n"
     ]
    }
   ],
   "source": [
    "ejer_11 = [(\"x\", 1), (\"x\", 2), (\"x\", 3), (\"y\", 1), (\"y\", 2), (\"z\", 1)]\n",
    "\n",
    "diccionario = {}\n",
    "\n",
    "for clave, valor in ejer_11:\n",
    "    if clave in diccionario:\n",
    "        diccionario [clave].append (valor)\n",
    "    else:\n",
    "        diccionario [clave] = [valor]\n",
    "        \n",
    "        \n",
    "print (diccionario)"
   ]
  },
  {
   "cell_type": "code",
   "execution_count": 20,
   "metadata": {},
   "outputs": [
    {
     "name": "stdout",
     "output_type": "stream",
     "text": [
      "{'x': [1, 2, 3], 'y': [1, 2], 'z': [1]}\n"
     ]
    }
   ],
   "source": [
    "# OTRA FORMA\n",
    "ejer_11 = [(\"x\", 1), (\"x\", 2), (\"x\", 3), (\"y\", 1), (\"y\", 2), (\"z\", 1)]\n",
    "\n",
    "diccionario = {}\n",
    "for i, j in ejer_11:\n",
    "    if not i in diccionario:\n",
    "        diccionario [i] = [j]\n",
    "    else: \n",
    "        diccionario [i].append (j)\n",
    "        \n",
    "print (diccionario)"
   ]
  },
  {
   "attachments": {},
   "cell_type": "markdown",
   "metadata": {},
   "source": [
    "## Ejercicio 12\n",
    "1. Crea una lista ordenada ascendente con las claves del diccionario\n",
    "2. Crea otra lista ordenada descendente con los valores\n",
    "3. Añade una nueva clave/valor\n",
    "4. Busca la clave igual a 2 dentro del diccionario\n",
    "5. Itera la clave y el valor del diccionario con un único for\n",
    "> ```ejer_12 = {4:78, 2:98, 8:234, 5:29}```"
   ]
  },
  {
   "cell_type": "code",
   "execution_count": 22,
   "metadata": {},
   "outputs": [
    {
     "name": "stdout",
     "output_type": "stream",
     "text": [
      "[2, 4, 5, 8]\n",
      "[234, 98, 78, 29]\n",
      "{4: 78, 2: 98, 8: 234, 5: 29, 3: 147}\n",
      "98\n",
      "4 : 78\n",
      "2 : 98\n",
      "8 : 234\n",
      "5 : 29\n",
      "3 : 147\n"
     ]
    }
   ],
   "source": [
    "ejer_12 = {4:78, 2:98, 8:234, 5:29}\n",
    "\n",
    "#1\n",
    "lista_ascendente = sorted (ejer_12.keys())\n",
    "print (lista_ascendente)\n",
    "\n",
    "#2\n",
    "lista_descendente = sorted (ejer_12.values(), reverse = True)\n",
    "print (lista_descendente)\n",
    "\n",
    "#3\n",
    "ejer_12 [3] = 147\n",
    "print (ejer_12)\n",
    "\n",
    "#4\n",
    "if 2 in ejer_12.keys ():\n",
    "    print (ejer_12 [2])\n",
    "\n",
    "#5\n",
    "for clave,valor in ejer_12.items ():\n",
    "    print (clave, \":\", valor)\n"
   ]
  },
  {
   "cell_type": "markdown",
   "metadata": {},
   "source": [
    "## Ejercicio 13\n",
    "Junta ambos diccionarios. Para ello, utiliza `update`\n",
    "> ```ejer_13_1 = {1: 11, 2: 22}```\n",
    ">\n",
    "> ```ejer_13_2 = {3: 33, 4: 44}```"
   ]
  },
  {
   "cell_type": "code",
   "execution_count": 43,
   "metadata": {},
   "outputs": [
    {
     "name": "stdout",
     "output_type": "stream",
     "text": [
      "{1: 11, 2: 22, 3: 33, 4: 44}\n"
     ]
    }
   ],
   "source": [
    "ejer_13_1 = {1: 11, 2: 22}\n",
    "ejer_13_2 = {3: 33, 4: 44}\n",
    "\n",
    "ejer_13_1.update (ejer_13_2)\n",
    "print (ejer_13_1)"
   ]
  },
  {
   "cell_type": "markdown",
   "metadata": {},
   "source": [
    "## Ejercicio 14\n",
    "Suma todos los valores del dicionario\n",
    "> ```ejer_14 = {1: 11, 2: 22, 3: 33, 4: 44, 5: 55}```"
   ]
  },
  {
   "cell_type": "code",
   "execution_count": 47,
   "metadata": {},
   "outputs": [
    {
     "name": "stdout",
     "output_type": "stream",
     "text": [
      "165\n"
     ]
    }
   ],
   "source": [
    "ejer_15 = {1: 11, 2: 22, 3: 33, 4: 44, 5: 55}\n",
    "suma = sum (ejer_15.values())\n",
    "\n",
    "print (suma)"
   ]
  },
  {
   "cell_type": "markdown",
   "metadata": {},
   "source": [
    "## Ejercicio 15\n",
    "Multiplica todos los valores del diccionario\n",
    "> ```ejer_15 = {1: 11, 2: 22, 3: 33, 4: 44, 5: 55}```"
   ]
  },
  {
   "cell_type": "code",
   "execution_count": 46,
   "metadata": {},
   "outputs": [
    {
     "name": "stdout",
     "output_type": "stream",
     "text": [
      "19326120\n"
     ]
    }
   ],
   "source": [
    "ejer_15 = {1: 11, 2: 22, 3: 33, 4: 44, 5: 55}\n",
    "multiplicacion = 1\n",
    "\n",
    "for valor in ejer_15.values():\n",
    "    multiplicacion *= valor\n",
    "print (multiplicacion)\n",
    "\n"
   ]
  },
  {
   "cell_type": "code",
   "execution_count": 24,
   "metadata": {},
   "outputs": [
    {
     "name": "stdout",
     "output_type": "stream",
     "text": [
      "Collecting numpy\n",
      "  Downloading numpy-2.2.5-cp311-cp311-win_amd64.whl.metadata (60 kB)\n",
      "     ---------------------------------------- 0.0/60.8 kB ? eta -:--:--\n",
      "     ------ --------------------------------- 10.2/60.8 kB ? eta -:--:--\n",
      "     ------------------- ------------------ 30.7/60.8 kB 435.7 kB/s eta 0:00:01\n",
      "     ------------------------------- ------ 51.2/60.8 kB 525.1 kB/s eta 0:00:01\n",
      "     -------------------------------------- 60.8/60.8 kB 404.8 kB/s eta 0:00:00\n",
      "Downloading numpy-2.2.5-cp311-cp311-win_amd64.whl (12.9 MB)\n",
      "   ---------------------------------------- 0.0/12.9 MB ? eta -:--:--\n",
      "   ---------------------------------------- 0.1/12.9 MB 4.3 MB/s eta 0:00:03\n",
      "    --------------------------------------- 0.3/12.9 MB 6.3 MB/s eta 0:00:03\n",
      "   - -------------------------------------- 0.6/12.9 MB 5.6 MB/s eta 0:00:03\n",
      "   --- ------------------------------------ 1.0/12.9 MB 7.2 MB/s eta 0:00:02\n",
      "   --- ------------------------------------ 1.3/12.9 MB 5.8 MB/s eta 0:00:03\n",
      "   ---- ----------------------------------- 1.5/12.9 MB 6.1 MB/s eta 0:00:02\n",
      "   ------ --------------------------------- 2.0/12.9 MB 6.4 MB/s eta 0:00:02\n",
      "   ------ --------------------------------- 2.2/12.9 MB 6.1 MB/s eta 0:00:02\n",
      "   ------- -------------------------------- 2.5/12.9 MB 6.4 MB/s eta 0:00:02\n",
      "   --------- ------------------------------ 2.9/12.9 MB 6.4 MB/s eta 0:00:02\n",
      "   --------- ------------------------------ 3.2/12.9 MB 6.3 MB/s eta 0:00:02\n",
      "   ----------- ---------------------------- 3.7/12.9 MB 6.7 MB/s eta 0:00:02\n",
      "   ------------ --------------------------- 4.0/12.9 MB 6.6 MB/s eta 0:00:02\n",
      "   -------------- ------------------------- 4.7/12.9 MB 7.2 MB/s eta 0:00:02\n",
      "   --------------- ------------------------ 5.2/12.9 MB 7.3 MB/s eta 0:00:02\n",
      "   ----------------- ---------------------- 5.6/12.9 MB 7.5 MB/s eta 0:00:01\n",
      "   ------------------ --------------------- 5.9/12.9 MB 7.3 MB/s eta 0:00:01\n",
      "   ------------------- -------------------- 6.4/12.9 MB 7.5 MB/s eta 0:00:01\n",
      "   --------------------- ------------------ 6.9/12.9 MB 7.6 MB/s eta 0:00:01\n",
      "   ---------------------- ----------------- 7.3/12.9 MB 7.6 MB/s eta 0:00:01\n",
      "   ------------------------ --------------- 7.9/12.9 MB 7.8 MB/s eta 0:00:01\n",
      "   -------------------------- ------------- 8.5/12.9 MB 8.0 MB/s eta 0:00:01\n",
      "   --------------------------- ------------ 8.9/12.9 MB 8.0 MB/s eta 0:00:01\n",
      "   --------------------------- ------------ 8.9/12.9 MB 8.0 MB/s eta 0:00:01\n",
      "   ---------------------------- ----------- 9.4/12.9 MB 7.8 MB/s eta 0:00:01\n",
      "   ------------------------------ --------- 9.8/12.9 MB 7.7 MB/s eta 0:00:01\n",
      "   -------------------------------- ------- 10.4/12.9 MB 8.0 MB/s eta 0:00:01\n",
      "   --------------------------------- ------ 10.7/12.9 MB 8.2 MB/s eta 0:00:01\n",
      "   ---------------------------------- ----- 11.1/12.9 MB 8.0 MB/s eta 0:00:01\n",
      "   ----------------------------------- ---- 11.5/12.9 MB 8.2 MB/s eta 0:00:01\n",
      "   ------------------------------------- -- 12.0/12.9 MB 8.5 MB/s eta 0:00:01\n",
      "   -------------------------------------- - 12.4/12.9 MB 8.7 MB/s eta 0:00:01\n",
      "   ---------------------------------------  12.8/12.9 MB 8.7 MB/s eta 0:00:01\n",
      "   ---------------------------------------  12.9/12.9 MB 8.6 MB/s eta 0:00:01\n",
      "   ---------------------------------------  12.9/12.9 MB 8.4 MB/s eta 0:00:01\n",
      "   ---------------------------------------  12.9/12.9 MB 8.4 MB/s eta 0:00:01\n",
      "   ---------------------------------------  12.9/12.9 MB 8.4 MB/s eta 0:00:01\n",
      "   ---------------------------------------- 12.9/12.9 MB 7.5 MB/s eta 0:00:00\n",
      "Installing collected packages: numpy\n",
      "Successfully installed numpy-2.2.5\n",
      "Note: you may need to restart the kernel to use updated packages.\n"
     ]
    },
    {
     "name": "stderr",
     "output_type": "stream",
     "text": [
      "\n",
      "[notice] A new release of pip is available: 24.0 -> 25.0.1\n",
      "[notice] To update, run: python.exe -m pip install --upgrade pip\n"
     ]
    }
   ],
   "source": [
    "pip install numpy\n"
   ]
  },
  {
   "cell_type": "code",
   "execution_count": 25,
   "metadata": {},
   "outputs": [
    {
     "name": "stdout",
     "output_type": "stream",
     "text": [
      "Package                 Version\n",
      "----------------------- -----------\n",
      "asttokens               3.0.0\n",
      "colorama                0.4.6\n",
      "comm                    0.2.2\n",
      "debugpy                 1.8.14\n",
      "decorator               5.2.1\n",
      "executing               2.2.0\n",
      "ipykernel               6.29.5\n",
      "ipython                 9.1.0\n",
      "ipython_pygments_lexers 1.1.1\n",
      "jedi                    0.19.2\n",
      "jupyter_client          8.6.3\n",
      "jupyter_core            5.7.2\n",
      "matplotlib-inline       0.1.7\n",
      "nest-asyncio            1.6.0\n",
      "numpy                   2.2.5\n",
      "packaging               24.2\n",
      "parso                   0.8.4\n",
      "pip                     24.0\n",
      "platformdirs            4.3.7\n",
      "prompt_toolkit          3.0.50\n",
      "psutil                  7.0.0\n",
      "pure_eval               0.2.3\n",
      "Pygments                2.19.1\n",
      "python-dateutil         2.9.0.post0\n",
      "pywin32                 310\n",
      "pyzmq                   26.4.0\n",
      "setuptools              65.5.0\n",
      "six                     1.17.0\n",
      "stack-data              0.6.3\n",
      "tornado                 6.4.2\n",
      "traitlets               5.14.3\n",
      "typing_extensions       4.13.2\n",
      "wcwidth                 0.2.13\n",
      "Note: you may need to restart the kernel to use updated packages.\n"
     ]
    },
    {
     "name": "stderr",
     "output_type": "stream",
     "text": [
      "\n",
      "[notice] A new release of pip is available: 24.0 -> 25.0.1\n",
      "[notice] To update, run: python.exe -m pip install --upgrade pip\n"
     ]
    }
   ],
   "source": [
    "pip list"
   ]
  },
  {
   "cell_type": "code",
   "execution_count": null,
   "metadata": {},
   "outputs": [
    {
     "data": {
      "text/plain": [
       "np.int64(19326120)"
      ]
     },
     "execution_count": 30,
     "metadata": {},
     "output_type": "execute_result"
    }
   ],
   "source": [
    "import numpy as np\n",
    "\n",
    "ejer_15 = {1: 11, 2: 22, 3: 33, 4: 44, 5: 55}\n",
    "np.prod (list (ejer_15.values()))"
   ]
  },
  {
   "cell_type": "markdown",
   "metadata": {},
   "source": [
    "## Ejercicio 16\n",
    "1. Crea un set de tres elementos\n",
    "2. Añade un cuarto\n",
    "3. Elimina el último elemento añadido\n",
    "4. Elimina el elemento 10, si está presente. Usa `discard()`"
   ]
  },
  {
   "cell_type": "code",
   "execution_count": 52,
   "metadata": {},
   "outputs": [
    {
     "name": "stdout",
     "output_type": "stream",
     "text": [
      "{'mesa', 'ventana', 'puerta', 'armario'}\n",
      "{'ventana', 'puerta', 'armario'}\n",
      "{'ventana', 'puerta', 'armario'}\n"
     ]
    }
   ],
   "source": [
    "#1\n",
    "set = {\"ventana\", \"puerta\", \"armario\"}\n",
    "\n",
    "#2\n",
    "set.add (\"mesa\")\n",
    "print (set)\n",
    "\n",
    "#3\n",
    "set.remove (\"mesa\")\n",
    "print (set)\n",
    "\n",
    "#4\n",
    "set.discard (10)\n",
    "print (set)\n"
   ]
  }
 ],
 "metadata": {
  "kernelspec": {
   "display_name": "Python 3",
   "language": "python",
   "name": "python3"
  },
  "language_info": {
   "codemirror_mode": {
    "name": "ipython",
    "version": 3
   },
   "file_extension": ".py",
   "mimetype": "text/x-python",
   "name": "python",
   "nbconvert_exporter": "python",
   "pygments_lexer": "ipython3",
   "version": "3.11.9"
  }
 },
 "nbformat": 4,
 "nbformat_minor": 4
}

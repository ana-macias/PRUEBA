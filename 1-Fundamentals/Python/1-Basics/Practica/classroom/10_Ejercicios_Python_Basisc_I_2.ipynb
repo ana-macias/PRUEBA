{
  "cells": [
    {
      "cell_type": "markdown",
      "metadata": {
        "id": "GB2K42EgK9q5"
      },
      "source": [
        "![TheBridge_logo_RGB_color.jpg](attachment:TheBridge_logo_RGB_color.jpg)"
      ]
    },
    {
      "cell_type": "markdown",
      "metadata": {
        "id": "GnwVlO37K9q6"
      },
      "source": [
        "![imagen](./img/ejercicios.png)"
      ]
    },
    {
      "cell_type": "markdown",
      "metadata": {
        "id": "_9pTa0PXK9q6"
      },
      "source": [
        "## EJERCICIOS PYTHON BASICO 2:\n",
        "## Tipos y conversión de tipos"
      ]
    },
    {
      "cell_type": "markdown",
      "metadata": {
        "id": "tYmV-veoK9q6"
      },
      "source": [
        "Completa los siguiente ejercicios, la solución a los mismos se publicarán en el repo del curso a lo largo del sprint"
      ]
    },
    {
      "cell_type": "markdown",
      "metadata": {
        "id": "YAdFbIOXK9q7"
      },
      "source": [
        "![ejercicio.png](./img/ejercicio.png)\n",
        "\n",
        "## Ejercicio 1\n",
        "\n",
        "1. Crea dos variables numericas: un `int` y un `float`\n",
        "2. Comprueba sus tipos\n",
        "3. Sumalas en otra nueva\n",
        "4. ¿De qué tipo es la nueva variable?\n",
        "5. Elimina las dos primeras variables creadas"
      ]
    },
    {
      "cell_type": "code",
      "execution_count": 12,
      "metadata": {
        "id": "8QZmuLOsK9q7"
      },
      "outputs": [
        {
          "name": "stdout",
          "output_type": "stream",
          "text": [
            "<class 'int'>\n",
            "<class 'float'>\n",
            "32.32\n",
            "<class 'float'>\n"
          ]
        }
      ],
      "source": [
        "numero_entero = 16\n",
        "numero_decimal = 16.32\n",
        "print (type (numero_entero))\n",
        "print (type (numero_decimal))\n",
        "numero = numero_entero + numero_decimal\n",
        "print (numero)\n",
        "print (type (numero))\n",
        "\n",
        "del numero_entero\n",
        "del numero_decimal"
      ]
    },
    {
      "cell_type": "markdown",
      "metadata": {
        "id": "f5xfpkpQK9q7"
      },
      "source": [
        "![ejercicio.png](./img/ejercicio.png)\n",
        "\n",
        "## Ejercicio 2\n",
        "Escribe un programa para pasar de grados a radianes. Hay que usar `input`. Recuerda que la conversión se realiza mediante\n",
        "\n",
        "radianes = grados*(pi/180)"
      ]
    },
    {
      "cell_type": "code",
      "execution_count": 4,
      "metadata": {
        "id": "V50TUQMzK9q7"
      },
      "outputs": [
        {
          "name": "stdout",
          "output_type": "stream",
          "text": [
            "0.7853999999999999\n"
          ]
        }
      ],
      "source": [
        "grados_txt = input()\n",
        "grados_float = float (grados_txt)\n",
        "pi = 3.1416\n",
        "radianes = (grados_float*pi)/180\n",
        "print (radianes)\n"
      ]
    },
    {
      "cell_type": "markdown",
      "metadata": {
        "id": "zX3-p58CK9q7"
      },
      "source": [
        "![ejercicio.png](./img/ejercicio.png)\n",
        "\n",
        "## Ejercicio 3\n",
        "Escribe un programa que calcule el area de un paralelogramo (base x altura). También con `input`"
      ]
    },
    {
      "cell_type": "code",
      "execution_count": null,
      "metadata": {
        "id": "s2QfNiBAK9q7"
      },
      "outputs": [
        {
          "name": "stdout",
          "output_type": "stream",
          "text": [
            "27.5625\n"
          ]
        }
      ],
      "source": [
        "base = input()\n",
        "base_float = float(base)\n",
        "altura = input()\n",
        "altura_float = float(altura)\n",
        "area = base_float * altura_float\n",
        "print (area)\n"
      ]
    },
    {
      "cell_type": "markdown",
      "metadata": {
        "id": "-6TBo_HvK9q8"
      },
      "source": [
        "![ejercicio.png](./img/ejercicio.png)\n",
        "\n",
        "## Ejercicio 4\n",
        "Escribe un programa que calcule el area de un paralelogramo (base x altura). También con `input`. En este caso debe ser capaz de admitir valores reales, con decimales, para base y altura en español. (PISTA: Recuerda que tendrás que hacer uso del método replace)"
      ]
    },
    {
      "cell_type": "code",
      "execution_count": 11,
      "metadata": {
        "id": "uzUIa1JqK9q8"
      },
      "outputs": [
        {
          "name": "stdout",
          "output_type": "stream",
          "text": [
            "5.289999999999999\n"
          ]
        }
      ],
      "source": [
        "base = input()\n",
        "base1 = base.replace (\",\", \".\")\n",
        "base1_float = float(base1)\n",
        "altura = input()\n",
        "altura1 = altura.replace (\",\" , \".\")\n",
        "altura1_float = float(altura1)\n",
        "area = base1_float * altura1_float\n",
        "print (area)"
      ]
    },
    {
      "cell_type": "markdown",
      "metadata": {
        "id": "5zKugi5iK9q8"
      },
      "source": [
        "![ejercicio.png](./img/ejercicio.png)\n",
        "\n",
        "## Ejercicio 5\n",
        "Complete el siguiente código para solicitar al usuario su nombre y su edad. Luego, calcule en qué año nació el usuario y muestre el resultado."
      ]
    },
    {
      "cell_type": "code",
      "execution_count": 2,
      "metadata": {
        "id": "LISfTnRkK9q8"
      },
      "outputs": [
        {
          "name": "stdout",
          "output_type": "stream",
          "text": [
            "ana, naciste en el año 1974.\n"
          ]
        }
      ],
      "source": [
        "nombre = input(\"¿Cuál es tu nombre? \")\n",
        "edad = int(input(\"¿Cuál es tu edad? \"))\n",
        "año_actual = 2025  # Puedes cambiarlo según el año en curso\n",
        "año_nacimiento = año_actual - edad\n",
        "\n",
        "print(f\"{nombre}, naciste en el año {año_nacimiento}.\")\n"
      ]
    }
  ],
  "metadata": {
    "colab": {
      "provenance": []
    },
    "kernelspec": {
      "display_name": "Python 3",
      "language": "python",
      "name": "python3"
    },
    "language_info": {
      "codemirror_mode": {
        "name": "ipython",
        "version": 3
      },
      "file_extension": ".py",
      "mimetype": "text/x-python",
      "name": "python",
      "nbconvert_exporter": "python",
      "pygments_lexer": "ipython3",
      "version": "3.11.9"
    },
    "orig_nbformat": 4
  },
  "nbformat": 4,
  "nbformat_minor": 0
}

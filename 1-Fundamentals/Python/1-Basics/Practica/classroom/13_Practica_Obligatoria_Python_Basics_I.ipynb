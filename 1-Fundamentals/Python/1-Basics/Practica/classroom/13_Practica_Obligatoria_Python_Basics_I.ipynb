{
  "cells": [
    {
      "cell_type": "markdown",
      "metadata": {
        "id": "59zPhBxXNPxs"
      },
      "source": [
        "## PRACTICA OBLIGATORIA: PYTHON"
      ]
    },
    {
      "cell_type": "markdown",
      "metadata": {
        "id": "mv2kb1GMNPxs"
      },
      "source": [
        "* La práctica obligatoria de esta unidad consiste en dos ejercicios de programación libre a completar.   \n",
        "* Recuerda que debes subirla a tu repositorio personal antes de la sesión en vivo para que puntúe adecuadamente.  \n",
        "* Recuerda también que no es necesario que esté perfecta, sólo es necesario que se vea el esfuerzo.\n",
        "* Esta práctica se resolverá en la sesión en vivo correspondiente y la solución se publicará en el repo del curso."
      ]
    },
    {
      "cell_type": "markdown",
      "metadata": {
        "id": "Kl9JzST2NPxt"
      },
      "source": [
        "\n",
        "## PARTE I\n",
        "\n",
        "En este ejercicio debes simular un chatbot al que le haremos pedidos de pizzas.\n",
        "\n",
        "1. El chatbot tiene que saludar con un: \"Buenas tardes, bienvenido al servicio de pedido online, el precio de nuestra pizzas es de 8,95 para la familiar o de 9,90 para la mediana ¿Cuántas pizzas  familiares desea?\"\n",
        "2. El ususario tiene que introducir un número de pizzas en una variable llamada 'pizz_familiar'\n",
        "3. El chatbot debe responder: \"Estupendo, ¿cuántas pizzas medianas desea?\" y guardar el número de pizzas medianas en otra variable 'pizz_mediana'\n",
        "4. Además debe responder del chatbot: \"Estupendo, se están preparando 'pizz' pizzas familiares y 'pizz_mediana' pizzas medianas. Digame su dirección\"\n",
        "5. El ususario tiene que introducir una direccion en formato String en otra variable llamada 'direcc'\n",
        "6. El programa debe calcular el monto total\n",
        "7. Respuesta final del chatbot: \"Le mandaremos las '(número total de pizzas)' pizzas a la dirección 'direcc'. Serán <precio total a pagar en euros>. Muchas gracias por su pedido.\"\n",
        "         \n"
      ]
    },
    {
      "cell_type": "code",
      "execution_count": 17,
      "metadata": {
        "id": "qkKibyt-NPxt"
      },
      "outputs": [
        {
          "name": "stdout",
          "output_type": "stream",
          "text": [
            "Buenas tardes, bienvenido al servicio de pedido online, \n",
            "el precio de nuestra pizzas es de 8,95 para la familiar o\n",
            "de 9,90 para la mediana ¿Cuántas pizzas  familiares desea?\n",
            "pizz_familiar: 1\n",
            "Estupendo, ¿cuántas pizzas medianas desea?\n",
            "Pizz_mediana: 2\n",
            "Estupendo, se están preparando 1 pizzas familiares y 2 pizzas medianas.\n",
            "Digame su dirección\n",
            "direcc: amezaga\n",
            "Le mandaremos las 3 pizzas a la dirección amezaga . \n",
            "Serán 28.75 euros. \n",
            "Muchas gracias por su pedido.\n"
          ]
        }
      ],
      "source": [
        "print(\"Buenas tardes, bienvenido al servicio de pedido online, \\nel precio de nuestra pizzas es de 8,95 para la familiar o\\nde 9,90 para la mediana ¿Cuántas pizzas  familiares desea?\")    \n",
        "pizz_familiar = input()\n",
        "print(\"pizz_familiar:\",pizz_familiar)\n",
        "pizza_familiar = int(pizz_familiar)\n",
        "print (\"Estupendo, ¿cuántas pizzas medianas desea?\")\n",
        "pizz_mediana = input()\n",
        "print(\"Pizz_mediana:\", pizz_mediana)\n",
        "pizza_mediana = int(pizz_mediana)\n",
        "print(\"Estupendo, se están preparando\", pizza_familiar, \"pizzas familiares y\", pizza_mediana, \"pizzas medianas.\\nDigame su dirección\")\n",
        "direcc = input ()\n",
        "print(\"direcc:\", direcc)\n",
        "total = pizza_familiar + pizza_mediana\n",
        "precio_familiar = 8.95\n",
        "precio_mediana = 9.90\n",
        "precio_total_familiar = pizza_familiar * precio_familiar\n",
        "precio_total_mediana = pizza_mediana * precio_mediana\n",
        "precio = precio_total_familiar + precio_total_mediana\n",
        "print (\"Le mandaremos las\", total, \"pizzas a la dirección\", direcc,\". \\nSerán\", precio,\"euros. \\nMuchas gracias por su pedido.\")"
      ]
    },
    {
      "cell_type": "markdown",
      "metadata": {
        "id": "f0oqoGDGNPxt"
      },
      "source": [
        "\n",
        "## Parte II\n",
        "\n",
        "Crea un programa que realice las siguientes acciones:\n",
        "\n",
        "1. Solicite al usuario que introduzca 3 números enteros separados por comas (por ejemplo: 1,2,3).\n",
        "2. Convierta esa entrada en una lista de números enteros.\n",
        "3. Utilizando funciones built-in, determine el número máximo, el número mínimo y la suma total de los números introducidos.\n",
        "4. Determine la verdad o falsedad de la siguiente afirmación: \"El número máximo menos el número mínimo es igual a la suma total dividida por 5\".\n",
        "5. Muestre los resultados utilizando print."
      ]
    },
    {
      "cell_type": "code",
      "execution_count": 27,
      "metadata": {
        "id": "rAlpWiQ9NPxt"
      },
      "outputs": [
        {
          "name": "stdout",
          "output_type": "stream",
          "text": [
            "Introduzca tres números enteros separados por comas\n",
            "[1, 2, 3]\n",
            "3\n",
            "1\n",
            "6\n",
            "El número máximo menos el número mínimo es igual a la suma total dividida por 5\n",
            "False\n"
          ]
        }
      ],
      "source": [
        "print (\"Introduzca tres números enteros separados por comas\")\n",
        "numero1 = input()\n",
        "numero2 = input()\n",
        "numero3 = input()\n",
        "numeros = [int(numero1),int(numero2),int(numero3)]\n",
        "print (numeros)\n",
        "print (max (numeros))\n",
        "print (min (numeros))\n",
        "print (sum (numeros))\n",
        "print (\"El número máximo menos el número mínimo es igual a la suma total dividida por 5\")\n",
        "max = max (numeros)\n",
        "min = min (numeros)\n",
        "sum = sum (numeros)\n",
        "print ((max - min)==(sum/5))"
      ]
    },
    {
      "cell_type": "code",
      "execution_count": null,
      "metadata": {},
      "outputs": [],
      "source": []
    }
  ],
  "metadata": {
    "colab": {
      "provenance": []
    },
    "kernelspec": {
      "display_name": "Python 3",
      "language": "python",
      "name": "python3"
    },
    "language_info": {
      "codemirror_mode": {
        "name": "ipython",
        "version": 3
      },
      "file_extension": ".py",
      "mimetype": "text/x-python",
      "name": "python",
      "nbconvert_exporter": "python",
      "pygments_lexer": "ipython3",
      "version": "3.11.9"
    },
    "orig_nbformat": 4
  },
  "nbformat": 4,
  "nbformat_minor": 0
}

{
  "cells": [
    {
      "cell_type": "markdown",
      "metadata": {
        "id": "59zPhBxXNPxs"
      },
      "source": [
        "## PRACTICA OBLIGATORIA: PYTHON"
      ]
    },
    {
      "cell_type": "markdown",
      "metadata": {
        "id": "mv2kb1GMNPxs"
      },
      "source": [
        "* La práctica obligatoria de esta unidad consiste en dos ejercicios de programación libre a completar.   \n",
        "* Recuerda que debes subirla a tu repositorio personal antes de la sesión en vivo para que puntúe adecuadamente.  \n",
        "* Recuerda también que no es necesario que esté perfecta, sólo es necesario que se vea el esfuerzo.\n",
        "* Esta práctica se resolverá en la sesión en vivo correspondiente y la solución se publicará en el repo del curso."
      ]
    },
    {
      "cell_type": "markdown",
      "metadata": {
        "id": "Kl9JzST2NPxt"
      },
      "source": [
        "\n",
        "## PARTE I\n",
        "\n",
        "En este ejercicio debes simular un chatbot al que le haremos pedidos de pizzas.\n",
        "\n",
        "1. El chatbot tiene que saludar con un: \"Buenas tardes, bienvenido al servicio de pedido online, el precio de nuestra pizzas es de 8,95 para la familiar o de 9,90 para la mediana ¿Cuántas pizzas  familiares desea?\"\n",
        "2. El ususario tiene que introducir un número de pizzas en una variable llamada 'pizz_familiar'\n",
        "3. El chatbot debe responder: \"Estupendo, ¿cuántas pizzas medianas desea?\" y guardar el número de pizzas medianas en otra variable 'pizz_mediana'\n",
        "4. Además debe responder del chatbot: \"Estupendo, se están preparando 'pizz' pizzas familiares y 'pizz_mediana' pizzas medianas. Digame su dirección\"\n",
        "5. El ususario tiene que introducir una direccion en formato String en otra variable llamada 'direcc'\n",
        "6. El programa debe calcular el monto total\n",
        "7. Respuesta final del chatbot: \"Le mandaremos las '(número total de pizzas)' pizzas a la dirección 'direcc'. Serán <precio total a pagar en euros>. Muchas gracias por su pedido.\"\n",
        "         \n"
      ]
    },
    {
      "cell_type": "code",
      "execution_count": 26,
      "metadata": {
        "id": "qkKibyt-NPxt"
      },
      "outputs": [
        {
          "name": "stdout",
          "output_type": "stream",
          "text": [
            "Buenas tardes, bienvenido al servicio de pedido online, \n",
            "el precio de nuestra pizzas es de 8,95 para la familiar o\n",
            "de 9,90 para la mediana ¿Cuántas pizzas  familiares desea?\n",
            "pizz_familiar: 1\n",
            "Estupendo, ¿cuántas pizzas medianas desea?\n",
            "pizz_mediana: 2\n",
            "Estupendo, se están preparando 'pizz' pizzas familiares y 'pizz_mediana' pizzas medianas.\n",
            "Digame su dirección\n",
            "direcc: amezaga\n"
          ]
        },
        {
          "ename": "NameError",
          "evalue": "name 'pizza_familiar' is not defined",
          "output_type": "error",
          "traceback": [
            "\u001b[31m---------------------------------------------------------------------------\u001b[39m",
            "\u001b[31mNameError\u001b[39m                                 Traceback (most recent call last)",
            "\u001b[36mCell\u001b[39m\u001b[36m \u001b[39m\u001b[32mIn[26]\u001b[39m\u001b[32m, line 7\u001b[39m\n\u001b[32m      5\u001b[39m \u001b[38;5;28mprint\u001b[39m(\u001b[33m\"\u001b[39m\u001b[33mEstupendo, se están preparando \u001b[39m\u001b[33m'\u001b[39m\u001b[33mpizz\u001b[39m\u001b[33m'\u001b[39m\u001b[33m pizzas familiares y \u001b[39m\u001b[33m'\u001b[39m\u001b[33mpizz_mediana\u001b[39m\u001b[33m'\u001b[39m\u001b[33m pizzas medianas.\u001b[39m\u001b[38;5;130;01m\\n\u001b[39;00m\u001b[33mDigame su dirección\u001b[39m\u001b[33m\"\u001b[39m)\n\u001b[32m      6\u001b[39m direcc = \u001b[38;5;28mprint\u001b[39m(\u001b[33m\"\u001b[39m\u001b[33mdirecc:\u001b[39m\u001b[33m\"\u001b[39m,\u001b[38;5;28minput\u001b[39m ())\n\u001b[32m----> \u001b[39m\u001b[32m7\u001b[39m total = \u001b[38;5;28msum\u001b[39m(\u001b[43mpizza_familiar\u001b[49m,pizza_mediana)\n\u001b[32m      8\u001b[39m \u001b[38;5;28mprint\u001b[39m (\u001b[33m\"\u001b[39m\u001b[33mLe mandaremos las\u001b[39m\u001b[33m\"\u001b[39m, total, \u001b[33m\"\u001b[39m\u001b[33mpizzas a la dirección\u001b[39m\u001b[33m\"\u001b[39m, direcc,\u001b[33m\"\u001b[39m\u001b[33m. Serán\u001b[39m\u001b[33m\"\u001b[39m, \u001b[33m\"\u001b[39m\u001b[33m<precio total a pagar en euros>. Muchas gracias por su pedido.\u001b[39m\u001b[33m\"\u001b[39m)\n",
            "\u001b[31mNameError\u001b[39m: name 'pizza_familiar' is not defined"
          ]
        }
      ],
      "source": [
        "print(\"Buenas tardes, bienvenido al servicio de pedido online, \\nel precio de nuestra pizzas es de 8,95 para la familiar o\\nde 9,90 para la mediana ¿Cuántas pizzas  familiares desea?\")    \n",
        "pizz_familiar = print(\"pizz_familiar:\",input())\n",
        "print (\"Estupendo, ¿cuántas pizzas medianas desea?\")\n",
        "pizz_mediana = print(\"pizz_mediana:\",input())\n",
        "print(\"Estupendo, se están preparando 'pizz' pizzas familiares y 'pizz_mediana' pizzas medianas.\\nDigame su dirección\")\n",
        "direcc = print(\"direcc:\",input ())\n",
        "total = sum(pizza_familiar,pizza_mediana)\n",
        "print (\"Le mandaremos las\", total, \"pizzas a la dirección\", direcc,\". Serán\", \"<precio total a pagar en euros>. Muchas gracias por su pedido.\")"
      ]
    },
    {
      "cell_type": "markdown",
      "metadata": {
        "id": "f0oqoGDGNPxt"
      },
      "source": [
        "\n",
        "## Parte II\n",
        "\n",
        "Crea un programa que realice las siguientes acciones:\n",
        "\n",
        "1. Solicite al usuario que introduzca 3 números enteros separados por comas (por ejemplo: 1,2,3).\n",
        "2. Convierta esa entrada en una lista de números enteros.\n",
        "3. Utilizando funciones built-in, determine el número máximo, el número mínimo y la suma total de los números introducidos.\n",
        "4. Determine la verdad o falsedad de la siguiente afirmación: \"El número máximo menos el número mínimo es igual a la suma total dividida por 5\".\n",
        "5. Muestre los resultados utilizando print."
      ]
    },
    {
      "cell_type": "code",
      "execution_count": null,
      "metadata": {
        "id": "rAlpWiQ9NPxt"
      },
      "outputs": [],
      "source": []
    }
  ],
  "metadata": {
    "colab": {
      "provenance": []
    },
    "kernelspec": {
      "display_name": "Python 3",
      "language": "python",
      "name": "python3"
    },
    "language_info": {
      "codemirror_mode": {
        "name": "ipython",
        "version": 3
      },
      "file_extension": ".py",
      "mimetype": "text/x-python",
      "name": "python",
      "nbconvert_exporter": "python",
      "pygments_lexer": "ipython3",
      "version": "3.11.9"
    },
    "orig_nbformat": 4
  },
  "nbformat": 4,
  "nbformat_minor": 0
}

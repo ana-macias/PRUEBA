{
 "cells": [
  {
   "attachments": {},
   "cell_type": "markdown",
   "metadata": {},
   "source": [
    "## Juego del Ahorcado\n",
    "Desarrolla el juego del ahorcado en python. En cada turno irá mostrando por pantalla ```_ _ _ _ _``` las rayas bajas correspondientes al número de letras que tiene la palabra a adivinar. El usuario deberá insertar una letra y, si esa letra existe, se mostrará o mostrarán las letras acertadas ```S _ S _ _``` en sus posiciones correspondientes. \n",
    "\n",
    "Si falla, se mostrará el número de errores que lleva y, si lleva x errores, entonces se mostrará \"Fin del juego\"."
   ]
  },
  {
   "cell_type": "markdown",
   "metadata": {},
   "source": [
    "1. Inicializa el juego: declara una palabra a adivinar y muestra por pantalla la palabra oculta.\n"
   ]
  },
  {
   "cell_type": "markdown",
   "metadata": {},
   "source": [
    "\n",
    "```python\n",
    "_ _ _ _ _ _ _ _\n",
    "```"
   ]
  },
  {
   "cell_type": "markdown",
   "metadata": {},
   "source": [
    "2. Funcionamiento turnos: mediante un bucle genera el sistema de turnos donde el usuario introduce una letra y le va mostrando su progreso y sus vidas."
   ]
  },
  {
   "cell_type": "markdown",
   "metadata": {},
   "source": [
    "3. Desarrolla la finalización de la partida, tanto si gana como si pierde."
   ]
  },
  {
   "cell_type": "code",
   "execution_count": null,
   "metadata": {},
   "outputs": [
    {
     "name": "stdout",
     "output_type": "stream",
     "text": [
      "Bienvenido al juego del Ahorcado!\n",
      "\n",
      "Palabra: _ _ _ _ _\n",
      "Errores: 0/5\n",
      "¡La letra s no está en la palabra!\n",
      "\n",
      "Palabra: _ _ _ _ _\n",
      "Errores: 1/5\n",
      "¡La letra l no está en la palabra!\n",
      "\n",
      "Palabra: _ _ _ _ _\n",
      "Errores: 2/5\n",
      "¡La letra h no está en la palabra!\n",
      "\n",
      "Palabra: _ _ _ _ _\n",
      "Errores: 3/5\n",
      "¡La letra i no está en la palabra!\n",
      "\n",
      "Palabra: _ _ _ _ _\n",
      "Errores: 4/5\n",
      "¡La letra b no está en la palabra!\n",
      "\n",
      "Fin del juego! Has alcanzado el número máximo de errores.\n",
      "La palabra era: perro\n"
     ]
    }
   ],
   "source": [
    "import random\n",
    "def juego_del_ahorcado():\n",
    "\n",
    "    palabras = [\"perro\", \"gato\", \"conejo\", \"ardilla\", \"serpiente\"]\n",
    "    \n",
    "    palabra_secreta = random.choice(palabras)\n",
    "    \n",
    "    palabra_mostrada = ['_'] * len(palabra_secreta)\n",
    "    \n",
    "    intentos_fallidos = 0\n",
    "    max_intentos = 5  \n",
    "\n",
    "    print(\"Bienvenido al juego del Ahorcado!\")\n",
    "    \n",
    "    while intentos_fallidos < max_intentos:\n",
    "        print(\"\\nPalabra:\", ' '.join(palabra_mostrada))\n",
    "        print(f\"Errores: {intentos_fallidos}/{max_intentos}\")\n",
    "        \n",
    "        letra = input(\"Ingresa una letra:\").lower()\n",
    "\n",
    "        if len(letra) != 1 or not letra.isalpha():\n",
    "            print(\"Por favor, ingresa solo una letra.\")\n",
    "            continue\n",
    "        \n",
    "        if letra in palabra_secreta:\n",
    "        \n",
    "            for i in range(len(palabra_secreta)):\n",
    "                if palabra_secreta[i] == letra:\n",
    "                    palabra_mostrada[i] = letra\n",
    "            print(\"¡Buena suerte! Has acertado una letra.\")\n",
    "        else:\n",
    "            intentos_fallidos += 1\n",
    "            print(f\"¡La letra {letra} no está en la palabra!\")\n",
    "        \n",
    "        \n",
    "        if ''.join(palabra_mostrada) == palabra_secreta:\n",
    "            print(\"\\n¡Felicidades, has ganado!\")\n",
    "            print(\"La palabra era:\", palabra_secreta)\n",
    "            break\n",
    "    \n",
    "    \n",
    "    if intentos_fallidos == max_intentos:\n",
    "        print(\"\\nFin del juego! Has alcanzado el número máximo de errores.\")\n",
    "        print(\"La palabra era:\", palabra_secreta)\n",
    "\n",
    "\n",
    "juego_del_ahorcado()\n",
    "\n"
   ]
  },
  {
   "cell_type": "markdown",
   "metadata": {},
   "source": [
    "4. Encapsula el juego en una función llamada ```jugar_ahorcado()``` con la palabra a adivinar y el número de vidas para seleccionar la dificultad como argumentos de entrada."
   ]
  },
  {
   "cell_type": "code",
   "execution_count": null,
   "metadata": {},
   "outputs": [],
   "source": []
  }
 ],
 "metadata": {
  "kernelspec": {
   "display_name": "Python 3",
   "language": "python",
   "name": "python3"
  },
  "language_info": {
   "codemirror_mode": {
    "name": "ipython",
    "version": 3
   },
   "file_extension": ".py",
   "mimetype": "text/x-python",
   "name": "python",
   "nbconvert_exporter": "python",
   "pygments_lexer": "ipython3",
   "version": "3.11.9"
  },
  "orig_nbformat": 4
 },
 "nbformat": 4,
 "nbformat_minor": 2
}

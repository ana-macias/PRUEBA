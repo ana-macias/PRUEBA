{
 "cells": [
  {
   "cell_type": "markdown",
   "metadata": {},
   "source": [
    "![imagen](./img/ejercicios.png)"
   ]
  },
  {
   "cell_type": "markdown",
   "metadata": {},
   "source": [
    "# Ejercicios funciones\n",
    "## Ejercicio 1\n",
    "Escribe una función que convierta números del 1 al 7 en nombres de los dias de la semana. La función constará de un único argumento numérico y una salida de tipo string"
   ]
  },
  {
   "cell_type": "code",
   "execution_count": 8,
   "metadata": {},
   "outputs": [],
   "source": [
    "def dia_semana (numero):\n",
    "    semana = [\"Lunes\", \"Martes\", \"Miércoles\", \"Jueves\", \"Viernes\", \"Sábado\", \"Domingo\"]\n",
    "    if 1 <= numero <= 7:\n",
    "        return semana [numero -1]\n",
    "    else:\n",
    "        return \"No corresponde a ningún día de la semana\""
   ]
  },
  {
   "cell_type": "code",
   "execution_count": 10,
   "metadata": {},
   "outputs": [
    {
     "name": "stdout",
     "output_type": "stream",
     "text": [
      "Miércoles\n",
      "<class 'function'>\n"
     ]
    }
   ],
   "source": [
    "print (dia_semana (3))"
   ]
  },
  {
   "cell_type": "code",
   "execution_count": 2,
   "metadata": {},
   "outputs": [],
   "source": [
    "# OTRA FORMA\n",
    "dia = 4\n",
    "\n",
    "match dia:\n",
    "    case 1:\n",
    "        salida = \"Lunes\"\n",
    "    case 2:\n",
    "        salida = \"Martes\"\n",
    "    case 3:\n",
    "        salida = \"Miércoles\"\n",
    "    case 4:\n",
    "        salida = \"Jueves\"\n",
    "    case 5:\n",
    "        salida = \"Viernes\"\n",
    "    case 6:\n",
    "        salida = \"Sábado\"\n",
    "    case 7:\n",
    "        salida = \"Domingo\"\n",
    "    case _:\n",
    "        salida = \"Día NO váido\""
   ]
  },
  {
   "cell_type": "code",
   "execution_count": 6,
   "metadata": {},
   "outputs": [],
   "source": [
    "# ENCAPSULAMOS EN UNA FUNCION\n",
    "\n",
    "def fun_dias (dia):\n",
    "    match dia:\n",
    "        case 1:\n",
    "            salida = \"Lunes\"\n",
    "        case 2:\n",
    "            salida = \"Martes\"\n",
    "        case 3:\n",
    "            salida = \"Miércoles\"\n",
    "        case 4:\n",
    "            salida = \"Jueves\"\n",
    "        case 5:\n",
    "            salida = \"Viernes\"\n",
    "        case 6:\n",
    "            salida = \"Sábado\"\n",
    "        case 7:\n",
    "            salida = \"Domingo\"\n",
    "        case _:\n",
    "            salida = \"Día NO váido\"\n",
    "    return salida"
   ]
  },
  {
   "cell_type": "code",
   "execution_count": null,
   "metadata": {},
   "outputs": [
    {
     "name": "stdout",
     "output_type": "stream",
     "text": [
      "Miércoles\n"
     ]
    }
   ],
   "source": [
    "# DEVUELVE EL RETURN\n",
    "dia_semana = fun_dias (3)\n",
    "print (dia_semana)"
   ]
  },
  {
   "cell_type": "markdown",
   "metadata": {},
   "source": [
    "## Ejercicio 2\n",
    "En el ejercicio 8 de flujos de control, creábamos una pirámide invertida de números desde el 5. Crea una función que replique el comportamiento de la pirámide, y utiliza un único parámetro de entrada de la función para determinar el número de filas de la pirámide."
   ]
  },
  {
   "cell_type": "code",
   "execution_count": 23,
   "metadata": {},
   "outputs": [],
   "source": [
    "def piramide (filas):\n",
    "    for i in range (filas):\n",
    "        linea = ''\n",
    "        for numero in range (filas -i,0,-1):\n",
    "            linea += str (numero)\n",
    "        print (linea)"
   ]
  },
  {
   "cell_type": "code",
   "execution_count": 25,
   "metadata": {},
   "outputs": [
    {
     "name": "stdout",
     "output_type": "stream",
     "text": [
      "87654321\n",
      "7654321\n",
      "654321\n",
      "54321\n",
      "4321\n",
      "321\n",
      "21\n",
      "1\n"
     ]
    }
   ],
   "source": [
    "piramide (8)"
   ]
  },
  {
   "cell_type": "code",
   "execution_count": 8,
   "metadata": {},
   "outputs": [
    {
     "name": "stdout",
     "output_type": "stream",
     "text": [
      "5 4 3 2 1\n",
      "4 3 2 1\n",
      "3 2 1\n",
      "2 1\n",
      "1\n"
     ]
    }
   ],
   "source": [
    "# OTRA FORMA\n",
    "lista = list (range (5,0,-1))\n",
    "while len (lista) > 0:\n",
    "    print (*lista)\n",
    "    lista.pop (0)"
   ]
  },
  {
   "cell_type": "code",
   "execution_count": 11,
   "metadata": {},
   "outputs": [],
   "source": [
    "# ENCAPSULAMOS EN LA FUNCION\n",
    "def piramide (num):\n",
    "    lista = list (range (num,0,-1))\n",
    "    \n",
    "    while len (lista) > 0:\n",
    "        print (*lista)\n",
    "        lista.pop (0)\n",
    "    print (lista)"
   ]
  },
  {
   "cell_type": "code",
   "execution_count": 12,
   "metadata": {},
   "outputs": [
    {
     "name": "stdout",
     "output_type": "stream",
     "text": [
      "9 8 7 6 5 4 3 2 1\n",
      "8 7 6 5 4 3 2 1\n",
      "7 6 5 4 3 2 1\n",
      "6 5 4 3 2 1\n",
      "5 4 3 2 1\n",
      "4 3 2 1\n",
      "3 2 1\n",
      "2 1\n",
      "1\n",
      "[]\n"
     ]
    }
   ],
   "source": [
    "piramide (9)\n"
   ]
  },
  {
   "cell_type": "markdown",
   "metadata": {},
   "source": [
    "## Ejercicio 3\n",
    "Escribe una función que compare dos números. La función tiene dos argumentos y hay tres salidas posibles: que sean iguales, que el primero sea  mayor que el segundo, o que el segundo sea mayor que el primero"
   ]
  },
  {
   "cell_type": "code",
   "execution_count": 27,
   "metadata": {},
   "outputs": [],
   "source": [
    "def comparar (x,y):\n",
    "    if x == y:\n",
    "        return \"numeros iguales\"\n",
    "    elif x > y:\n",
    "        return \"el primero es mayor que el segundo\"\n",
    "    else:\n",
    "        return \"el primero es menor que el segundo\""
   ]
  },
  {
   "cell_type": "code",
   "execution_count": 30,
   "metadata": {},
   "outputs": [
    {
     "data": {
      "text/plain": [
       "'el primero es mayor que el segundo'"
      ]
     },
     "execution_count": 30,
     "metadata": {},
     "output_type": "execute_result"
    }
   ],
   "source": [
    "comparar (6,5)"
   ]
  },
  {
   "cell_type": "code",
   "execution_count": null,
   "metadata": {},
   "outputs": [],
   "source": [
    "# OTRA FORMA\n",
    "num_1 = 2\n",
    "num_2 = 5\n",
    "num:int # se crea una tercera varaible vacía\n",
    "\n",
    "if num_1 == num_2:\n",
    "    salida = \"Los núneros son iguales\"\n",
    "elif num_1 > num_2:\n",
    "    salida = \"El número uno es mayor que el numero 2\"\n",
    "elif num_1 < num_2:\n",
    "    salida = \"El número uno es menor que el numero 2\"\n",
    "print (salida)"
   ]
  },
  {
   "cell_type": "code",
   "execution_count": 16,
   "metadata": {},
   "outputs": [],
   "source": [
    "# ENCAPSULAMOS\n",
    "def numeros (num_1, num_2):\n",
    "    if num_1 == num_2:\n",
    "        salida = \"Los núneros son iguales\"\n",
    "    elif num_1 > num_2:\n",
    "        salida = \"El número uno es mayor que el numero dos\"\n",
    "    elif num_1 < num_2:\n",
    "        salida = \"El número uno es menor que el numero dos\"\n",
    "    return salida\n",
    "    "
   ]
  },
  {
   "cell_type": "code",
   "execution_count": 17,
   "metadata": {},
   "outputs": [
    {
     "name": "stdout",
     "output_type": "stream",
     "text": [
      "El número uno es menor que el numero dos\n"
     ]
    }
   ],
   "source": [
    "salida_numero = numeros (5,9)\n",
    "print (salida_numero)"
   ]
  },
  {
   "attachments": {},
   "cell_type": "markdown",
   "metadata": {},
   "source": [
    "## Ejercicio 4\n",
    "Escribe una función que sea un contador de letras. En el primer argumento tienes que introducir un texto, y el segundo que sea una letra que contar. La función tiene que devolver un entero con el número de veces que aparece esa letra, tanto mayúscula, como minúscula"
   ]
  },
  {
   "cell_type": "code",
   "execution_count": 31,
   "metadata": {},
   "outputs": [],
   "source": [
    "def contador_letras (texto,letra):\n",
    "    texto = texto.lower ()\n",
    "    letra = letra.lower ()\n",
    "    return texto.count (letra)"
   ]
  },
  {
   "cell_type": "code",
   "execution_count": 32,
   "metadata": {},
   "outputs": [
    {
     "data": {
      "text/plain": [
       "3"
      ]
     },
     "execution_count": 32,
     "metadata": {},
     "output_type": "execute_result"
    }
   ],
   "source": [
    "contador_letras (\"Me llamo Ana\", \"a\")"
   ]
  },
  {
   "cell_type": "code",
   "execution_count": null,
   "metadata": {},
   "outputs": [],
   "source": [
    "# OTRA FORMA\n",
    "conteo = \"Hola mundo\".count (o)\n",
    "print (conteo)"
   ]
  },
  {
   "cell_type": "code",
   "execution_count": null,
   "metadata": {},
   "outputs": [],
   "source": [
    "texto = \"Hola mundo\"\n",
    "letra = \"0\"\n",
    "\n",
    "texto = texto.lower ()\n",
    "conteo = texto.count (letra)\n",
    "print (conteo)"
   ]
  },
  {
   "cell_type": "code",
   "execution_count": 21,
   "metadata": {},
   "outputs": [],
   "source": [
    "# AHORA ENCAPSULAMOS EN UNA FUNCION\n",
    "\n",
    "def contar_letras (texto,letra):\n",
    "    texto = texto.lower ()\n",
    "    letra = letra.lower ()\n",
    "    conteo = texto.count (letra)\n",
    "    return conteo"
   ]
  },
  {
   "cell_type": "code",
   "execution_count": 20,
   "metadata": {},
   "outputs": [
    {
     "name": "stdout",
     "output_type": "stream",
     "text": [
      "4\n"
     ]
    }
   ],
   "source": [
    "resultado = contar_letras (\"Me gusta a fruta de verAno\", \"a\")\n",
    "print (resultado)"
   ]
  },
  {
   "cell_type": "markdown",
   "metadata": {},
   "source": [
    "## Ejercicio 5\n",
    "Escribe una función que tenga un único argumento, un string. La salida de la función tiene que ser un diccionario con el conteo de todas las letras de ese string, siendo la clave la letra y el valor el conteo."
   ]
  },
  {
   "cell_type": "code",
   "execution_count": 33,
   "metadata": {},
   "outputs": [],
   "source": [
    "def contar_letras (texto):\n",
    "    texto = texto.lower ()\n",
    "    letras = set (texto)\n",
    "    contar = {}\n",
    "    for letra in letras:\n",
    "        if letra.isalpha ():\n",
    "            contar [letra] = texto.count (letra)\n",
    "    return contar\n",
    "    "
   ]
  },
  {
   "cell_type": "code",
   "execution_count": 35,
   "metadata": {},
   "outputs": [
    {
     "data": {
      "text/plain": [
       "{'s': 4, 'e': 2, 'l': 2, 'o': 4, 't': 1, 'r': 1, 'b': 2, 'n': 1, 'a': 2}"
      ]
     },
     "execution_count": 35,
     "metadata": {},
     "output_type": "execute_result"
    }
   ],
   "source": [
    "contar_letras (\"Los arboles son abetos\")"
   ]
  },
  {
   "cell_type": "code",
   "execution_count": 25,
   "metadata": {},
   "outputs": [
    {
     "name": "stdout",
     "output_type": "stream",
     "text": [
      "{'l': 2, 'o': 5, 's': 5, 'a': 2, 'r': 2, 'b': 2, 'e': 4, 'n': 2, 't': 1, 'c': 1, 'u': 1, 'i': 1, 'f': 1, 'm': 1}\n"
     ]
    }
   ],
   "source": [
    "# OTRA FORMA\n",
    "texto = \"Los arboles son abetos cuneiformes\"\n",
    "\n",
    "texto = texto.lower ()\n",
    "dict = {}\n",
    "\n",
    "for i in texto:\n",
    "    if i in {\" \", \",\"} or i in dict.keys ():\n",
    "        pass\n",
    "    else: \n",
    "        dict [i] = texto.count (i)\n",
    "        \n",
    "print (dict)\n",
    "        "
   ]
  },
  {
   "cell_type": "code",
   "execution_count": 27,
   "metadata": {},
   "outputs": [],
   "source": [
    "# ENCAPSULAMOS\n",
    "\n",
    "def contar_letras (texto):\n",
    "    texto = texto.lower ()\n",
    "    dict = {}\n",
    "\n",
    "    for i in texto:\n",
    "        if i in {\" \", \",\"} or i in dict.keys ():\n",
    "            pass\n",
    "        else: \n",
    "            dict [i] = texto.count (i)\n",
    "    return dict\n",
    "    "
   ]
  },
  {
   "cell_type": "code",
   "execution_count": 28,
   "metadata": {},
   "outputs": [
    {
     "name": "stdout",
     "output_type": "stream",
     "text": [
      "{'l': 2, 'o': 5, 's': 5, 'a': 2, 'r': 2, 'b': 2, 'e': 4, 'n': 2, 't': 1, 'c': 1, 'u': 1, 'i': 1, 'f': 1, 'm': 1}\n"
     ]
    }
   ],
   "source": [
    "dict_final = contar_letras (\"Los arboles son abetos cuneiformes\")\n",
    "print (dict_final)"
   ]
  },
  {
   "cell_type": "markdown",
   "metadata": {},
   "source": [
    "## Ejercicio 6\n",
    "Escribir una función que añada o elimine elementos en una lista. La función necesita los siguientes argumentos:\n",
    "* lista: la lista donde se añadirán o eliminarán los elementos\n",
    "* comando: \"add\" o \"remove\"\n",
    "* elemento: Por defecto es None.\n",
    "\n",
    "Tendrá como salida la lista"
   ]
  },
  {
   "cell_type": "code",
   "execution_count": 36,
   "metadata": {},
   "outputs": [],
   "source": [
    "def añadir_eliminar (lista, comando, elemento=None):    \n",
    "    if comando == \"add\":\n",
    "        if elemento is not None:\n",
    "            lista.append (elemento)\n",
    "    elif comando == \"remove\":\n",
    "        if elemento in lista:\n",
    "            lista.remove (elemento)\n",
    "    return lista"
   ]
  },
  {
   "cell_type": "code",
   "execution_count": 39,
   "metadata": {},
   "outputs": [
    {
     "name": "stdout",
     "output_type": "stream",
     "text": [
      "[1, 2, 3, 4]\n",
      "[1, 3, 4]\n"
     ]
    }
   ],
   "source": [
    "lista = [1,2,3]\n",
    "añadir_eliminar (lista,\"add\",4)\n",
    "print (lista)\n",
    "añadir_eliminar (lista, \"remove\", 2)\n",
    "print (lista)"
   ]
  },
  {
   "cell_type": "code",
   "execution_count": 36,
   "metadata": {},
   "outputs": [],
   "source": [
    "# OTRA FORMA\n",
    "lista = [4,5,6,7]\n",
    "comando = \"Remove\"\n",
    "elemento = 2"
   ]
  },
  {
   "cell_type": "code",
   "execution_count": 37,
   "metadata": {},
   "outputs": [
    {
     "name": "stdout",
     "output_type": "stream",
     "text": [
      "El comando es Remove\n",
      "Elememto NO encontrado\n",
      "[4, 5, 6, 7]\n"
     ]
    }
   ],
   "source": [
    "if comando == \"Add\":\n",
    "    print (\"El comando es Add\")\n",
    "    lista.append (elemento)\n",
    "elif comando == \"Remove\":\n",
    "    try:\n",
    "        print (\"El comando es Remove\")\n",
    "        lista.remove (elemento)\n",
    "    except:\n",
    "        print (\"Elememto NO encontrado\")\n",
    "else:\n",
    "    print (\"Comando incorrecto\")\n",
    "\n",
    "print (lista)"
   ]
  },
  {
   "cell_type": "code",
   "execution_count": 45,
   "metadata": {},
   "outputs": [],
   "source": [
    "lista = [4,5,6,7]\n",
    "comando = \"add\"\n",
    "elemento = 5"
   ]
  },
  {
   "cell_type": "code",
   "execution_count": 38,
   "metadata": {},
   "outputs": [],
   "source": [
    "# ENCAPSULAMOS\n",
    "\n",
    "def añadir_eliminar (lista, comando, elemento):\n",
    "    if comando == \"Add\":\n",
    "        print (\"El comando es Add\")\n",
    "        lista.append (elemento)\n",
    "        \n",
    "    elif comando == \"Remove\":\n",
    "        try:\n",
    "            print (\"El comando es Remove\")\n",
    "            lista.remove (elemento)\n",
    "        except:\n",
    "            print (\"Elememto NO encontrado\")\n",
    "    else:\n",
    "        print (\"Comando incorrecto\")\n",
    "    \n",
    "    return (lista)"
   ]
  },
  {
   "cell_type": "code",
   "execution_count": 48,
   "metadata": {},
   "outputs": [
    {
     "name": "stdout",
     "output_type": "stream",
     "text": [
      "Comando incorrecto\n",
      "[4, 5, 6, 7]\n"
     ]
    }
   ],
   "source": [
    "lista_modificada = añadir_eliminar (lista, comando, elemento)\n",
    "print (lista_modificada)"
   ]
  },
  {
   "cell_type": "markdown",
   "metadata": {},
   "source": [
    "## Ejercicio 7\n",
    "Crea una función que reciba un número arbitrario de palabras, y devuelva una frase completa, separando las palabras con espacios."
   ]
  },
  {
   "cell_type": "code",
   "execution_count": 40,
   "metadata": {},
   "outputs": [],
   "source": [
    "def frase_completa (*palabras):\n",
    "    frase = \"\"\n",
    "    for palabra in palabras:\n",
    "        frase += palabra + \" \"\n",
    "    return frase"
   ]
  },
  {
   "cell_type": "code",
   "execution_count": 43,
   "metadata": {},
   "outputs": [
    {
     "data": {
      "text/plain": [
       "'Hola, me llamo Ana '"
      ]
     },
     "execution_count": 43,
     "metadata": {},
     "output_type": "execute_result"
    }
   ],
   "source": [
    "frase_completa (\"Hola,\",\"me\", \"llamo\", \"Ana\")"
   ]
  },
  {
   "cell_type": "code",
   "execution_count": 51,
   "metadata": {},
   "outputs": [],
   "source": [
    "# OTRA FORMA\n",
    "def frases (*arg):\n",
    "    return \" \".join (arg)"
   ]
  },
  {
   "cell_type": "code",
   "execution_count": 55,
   "metadata": {},
   "outputs": [
    {
     "name": "stdout",
     "output_type": "stream",
     "text": [
      "Hola, me llamo Ana\n"
     ]
    }
   ],
   "source": [
    "resultado = frases (\"Hola,\",\"me\", \"llamo\", \"Ana\")\n",
    "print (resultado)"
   ]
  },
  {
   "cell_type": "markdown",
   "metadata": {},
   "source": [
    "## Ejercicio 8\n",
    "Escribe un programa que obtenga el enésimo número de la [serie de Fibonacci](https://es.wikipedia.org/wiki/Sucesi%C3%B3n_de_Fibonacci). Tienes que crear una función recursiva con un único argumento.\n",
    "\n",
    "```Python\n",
    "fibonacci(2) = 1\n",
    "fibonacci(4) = 3\n",
    "fibonacci(5) = 5\n",
    "fibonacci(8) = 21\n",
    "```"
   ]
  },
  {
   "cell_type": "markdown",
   "metadata": {},
   "source": [
    "fibonacci(n) = fibonacci(n-1) + fibonacci(n-2)"
   ]
  },
  {
   "cell_type": "code",
   "execution_count": 56,
   "metadata": {},
   "outputs": [],
   "source": [
    "# Posicion: 0  1  2  3  4  5  6  7  8...\n",
    "# Valor:    0  1  1  2  3  5  8  13 21...\n",
    "\n",
    "def serie_Fibonacci (n):\n",
    "    if n <= 0:\n",
    "        return 0\n",
    "    elif n == 1:\n",
    "        return 1\n",
    "    else:\n",
    "        return serie_Fibonacci (n-1) + serie_Fibonacci (n-2)\n",
    "    "
   ]
  },
  {
   "cell_type": "code",
   "execution_count": 58,
   "metadata": {},
   "outputs": [
    {
     "data": {
      "text/plain": [
       "55"
      ]
     },
     "execution_count": 58,
     "metadata": {},
     "output_type": "execute_result"
    }
   ],
   "source": [
    "serie_Fibonacci (10)\n"
   ]
  },
  {
   "cell_type": "code",
   "execution_count": 59,
   "metadata": {},
   "outputs": [],
   "source": [
    "# OTRA FORMA\n",
    "def fibonacci (n):\n",
    "    if n == 0 or n == 1:\n",
    "       return n\n",
    "    else:\n",
    "        total = fibonacci (n-1) + fibonacci (n-2) \n",
    "        return total\n",
    "\n"
   ]
  },
  {
   "cell_type": "code",
   "execution_count": 60,
   "metadata": {},
   "outputs": [
    {
     "name": "stdout",
     "output_type": "stream",
     "text": [
      "8\n"
     ]
    }
   ],
   "source": [
    "numero = fibonacci (6)\n",
    "print (numero)"
   ]
  },
  {
   "attachments": {},
   "cell_type": "markdown",
   "metadata": {},
   "source": [
    "## Ejercicio 9\n",
    "Define en una única celda las siguientes funciones:\n",
    "* Función que calcule el área de un cuadrado\n",
    "* Función que calcule el área de un triángulo\n",
    "* Función que calcule el área de un círculo\n",
    "\n",
    "En otra celda, calcular el area de:\n",
    "* Dos círculos de radio 10 + un triángulo de base 3 y altura 7\n",
    "* Un cuadrado de lado = 10 + 3 círculos (uno de radio = 4 y los otros dos de radio = 6) + 5 triángulos de base = 2 + altura = 4"
   ]
  },
  {
   "cell_type": "code",
   "execution_count": null,
   "metadata": {},
   "outputs": [],
   "source": [
    "# Area de un cuadrado\n",
    "def area_cuadrado (lado):\n",
    "    return lado ** 2\n",
    "\n",
    "# Area de un triangulo\n",
    "def area_triangulo (base, altura):\n",
    "    return (base * altura) / 2\n",
    "\n",
    "# Area de un circulo\n",
    "def area_circulo (pi, radio):\n",
    "    pi = 3.1416\n",
    "    return 3.1416 * radio **2\n"
   ]
  },
  {
   "cell_type": "code",
   "execution_count": 80,
   "metadata": {},
   "outputs": [
    {
     "name": "stdout",
     "output_type": "stream",
     "text": [
      "638.8199999999999\n",
      "396.4608\n"
     ]
    }
   ],
   "source": [
    "area_total_1 = 2 * (area_circulo (pi,10)) + area_triangulo (3,7)\n",
    "print (area_total_1)\n",
    "\n",
    "area_total_2 = area_cuadrado (10) + area_circulo (pi,4) + 2 * (area_circulo(pi,6)) + 5 * (area_triangulo (2,4)) \n",
    "print (area_total_2)"
   ]
  },
  {
   "cell_type": "code",
   "execution_count": null,
   "metadata": {},
   "outputs": [],
   "source": [
    "# OTRA FORMA\n",
    "\n",
    "import math\n"
   ]
  },
  {
   "cell_type": "code",
   "execution_count": 62,
   "metadata": {},
   "outputs": [],
   "source": [
    "def cuadarado (l):\n",
    "   \n",
    "    return l**2\n",
    "\n",
    "def triangulo (b,a):\n",
    "    \n",
    "    return b * a / 2\n",
    "\n",
    "def circulo (r):\n",
    "    \n",
    "    return math.pim * r**2"
   ]
  },
  {
   "cell_type": "markdown",
   "metadata": {},
   "source": [
    "## Ejercicio 10\n",
    "\n",
    "Guarda las funciones de estos ejercicios en un fichero llamado `funciones.py` e importalas desde este jupyter notebook para probar que puedes hacer uso de ellas."
   ]
  },
  {
   "cell_type": "code",
   "execution_count": 82,
   "metadata": {},
   "outputs": [
    {
     "name": "stdout",
     "output_type": "stream",
     "text": [
      "78.53999999999999\n"
     ]
    }
   ],
   "source": [
    "from funciones import area_circulo\n",
    "print (area_circulo (pi,5))"
   ]
  }
 ],
 "metadata": {
  "kernelspec": {
   "display_name": "Python 3",
   "language": "python",
   "name": "python3"
  },
  "language_info": {
   "codemirror_mode": {
    "name": "ipython",
    "version": 3
   },
   "file_extension": ".py",
   "mimetype": "text/x-python",
   "name": "python",
   "nbconvert_exporter": "python",
   "pygments_lexer": "ipython3",
   "version": "3.11.9"
  }
 },
 "nbformat": 4,
 "nbformat_minor": 4
}

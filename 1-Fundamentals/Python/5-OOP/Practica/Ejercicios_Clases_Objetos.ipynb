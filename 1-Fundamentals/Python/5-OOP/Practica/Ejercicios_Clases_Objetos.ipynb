{
 "cells": [
  {
   "cell_type": "markdown",
   "metadata": {},
   "source": [
    "![imagen](./img/ejercicios.png)\n",
    "\n",
    "# Ejercicios Clases y Objetos"
   ]
  },
  {
   "attachments": {},
   "cell_type": "markdown",
   "metadata": {},
   "source": [
    "## Ejercicio 1\n",
    "Somos una empresa que tiene varias tiendas de electrodomésticos. Necesitamos un programa para manejar las tiendas, ver las ventas que han tenido, cuántos empleados hay, etc... Para ello vamos a modelizar la tienda en una clase, que tendrá las siguientes características:\n",
    "* Nombre clase: \"Tienda\"\n",
    "* Atributos comunes:\n",
    "    * Tipo: \"Electrodomésticos\"\n",
    "    * Abierta: True\n",
    "* Atributos propios de cada tienda:\n",
    "    * Nombre - String\n",
    "    * Dirección - String\n",
    "    * Número de empleados - int\n",
    "    * Ventas últimos 3 meses - Lista de 3 numeros\n",
    "* Método para calcular las ventas de todos los meses, que devuelva un número con todas las ventas.\n",
    "* Método que calcula la media de ventas de los últimos meses, por empleado\n",
    "* Método que devuelve en un string el nombre de la tienda, junto con su dirección.\n",
    "* Método que obtiene las ventas del último mes.\n",
    "* Método para dar una proyección de las ventas en caso de haber invertido X dinero en marketing en esa tienda. Siendo X el parámetro de entrada. Si X es menor de 1000, las ventas de los ultimos 3 meses hubiesen sido de (1.2 x ventas), si es mayor o igual de 1000, las ventas hubiesen sido de (1.5 x venta). El método reescribe el atributo de ventas en los últimos 3 meses, y además devuelve las ventas con el aumento.\n",
    "\n",
    "Se pide:\n",
    "1. Implementar la clase \"Tienda\"\n",
    "2. Crear tres tiendas con datos inventados\n",
    "3. Comprueba en al menos una de ellas, todo lo implementado en la clase tienda (sus atributos, media de ventas, ventas/empleado...)\n",
    "3. Calcular las ventas del último mes de todas las tiendas. Para ello usa el bucle `for`\n",
    "4. Imprime por pantalla los nombres de las tiendas cuya dirección lleve el string \"Avenida\"\n",
    "5. Seguro que ya has hecho este apartado... Documenta la clase :)"
   ]
  },
  {
   "cell_type": "code",
   "execution_count": 4,
   "metadata": {},
   "outputs": [],
   "source": [
    "class Tienda:\n",
    "    # Atributos comunes de la Tienda\n",
    "    tipo = \"Electrodomésticos\"\n",
    "    abierta = True\n",
    "    \n",
    "    # Atributos porpios de la Tienda, cuanto más claro lo dejemos mejor. Con esta definición ya tenemos \n",
    "    # una serie de atributos para cada objeto.\n",
    "    def __init__(self, nombre:str, dirección:str, n_empleados:int, ventas_ultimos_3_meses:list):\n",
    "        self.nombre = nombre\n",
    "        self.direccion = dirección\n",
    "        self.n_empleados = n_empleados\n",
    "        self.ventas_ultimos_3_meses = ventas_ultimos_3_meses\n",
    "    \n",
    "    # Método para calcular las ventas de todos los meses, que devuelva un número con todas las ventas.\n",
    "    def ventas_mensuales (self):\n",
    "\n",
    "        return sum(self.ventas_ultimos_3_meses)\n",
    "\n",
    "    # Método que calcula la media de ventas de los últimos meses, por empleado\n",
    "    def media_ventas_por_empleado(self):\n",
    "\n",
    "        if self.n_empleados == 0:\n",
    "            return 0  # Evitar división por cero\n",
    "        return self.ventas_mensuales () / self.n_empleados \n",
    "\n",
    "    # Método que devuelve en un string el nombre de la tienda, junto con su dirección.\n",
    "    def obtener_direccion(self):\n",
    "        \n",
    "        return f\"{self.nombre}, ubicada en {self.direccion}\"\n",
    "         # Otra forma \n",
    "         # return \"Nombre tienda\", self.nombre, \"y la dirección es:\", self.direccion\n",
    "    \n",
    "    # Método que obtiene las ventas del último mes.\n",
    "    \n",
    "    def ventas_ultimo_mes(self):\n",
    "        \n",
    "        return self.ventas_ultimos_3_meses [-1]\n",
    "       \n",
    "   \n",
    "    # Método que obtiene la proyección a X inversión\n",
    "    def proyeccion_ventas(self, inversion):\n",
    "        \n",
    "        # Determinamos el factor de incremento según la inversión en marketing\n",
    "        if inversion < 1000:\n",
    "            factor = 1.2\n",
    "            # Otra forma\n",
    "            # if inversion < 1000:\n",
    "                 # self.ventas_ultimos_3_meses = [ x* 1.2 for x self.ventas_ultimos_3_meses]\n",
    "        else:\n",
    "            factor = 1.5\n",
    "            # Otra forma\n",
    "            # self.ventas_ultimos_3_meses = [ x* 1.5 for x self.ventas_ultimos_3_meses]\n",
    "        # return: self.ventas_ultimos_3_meses\n",
    "        \n",
    "        # Actualizamos las ventas proyectadas\n",
    "        ventas_proyectadas = [venta * factor for venta in self.ventas_ultimos_3_meses]\n",
    "\n",
    "        # Actualizamos el atributo de ventas de la tienda\n",
    "        self.ventas_ultimos_3_meses = ventas_proyectadas\n",
    "\n",
    "        # Devolvemos las nuevas ventas proyectadas\n",
    "        return ventas_proyectadas\n"
   ]
  },
  {
   "cell_type": "code",
   "execution_count": 10,
   "metadata": {},
   "outputs": [],
   "source": [
    "# Creamos 3 tiendas\n",
    "tienda_1 = Tienda (\"Perico\", \"Avenida Santiago,48\", 3,[100,200,300])\n",
    "tienda_2 = Tienda (\"Maxitienda\", \" Avenida Portal de Gamarra,12)\", 6, [2000, 3000, 5000])\n",
    "tienda_3 = Tienda (\"Superplus\", \"Calle Antonio Machado, 20\", 4, [6500,8000,10000])"
   ]
  },
  {
   "cell_type": "code",
   "execution_count": 6,
   "metadata": {},
   "outputs": [
    {
     "name": "stdout",
     "output_type": "stream",
     "text": [
      "Nombre y dirección: Perico , Avenida Santiago,48\n",
      "Tipo de tienda: Electrodomésticos\n",
      "¿Está abierta? True\n",
      "Ventas últimos 3 meses: [100, 200, 300]\n",
      "Ventas totales: 600\n",
      "Media de ventas por empleado: 200.0\n",
      "Ventas último mes: 300\n"
     ]
    }
   ],
   "source": [
    "# Comprobaciones con tienda_1\n",
    "print(\"Nombre y dirección:\", tienda_1.nombre,\",\", tienda_1.direccion)\n",
    "print(\"Tipo de tienda:\", tienda_1.tipo)\n",
    "print(\"¿Está abierta?\", tienda_1.abierta)\n",
    "print(\"Ventas últimos 3 meses:\", tienda_1.ventas_ultimos_3_meses)\n",
    "print(\"Ventas totales:\", tienda_1.ventas_mensuales ())\n",
    "print(\"Media de ventas por empleado:\", tienda_1.media_ventas_por_empleado())\n",
    "print(\"Ventas último mes:\", tienda_1.ventas_ultimo_mes())"
   ]
  },
  {
   "cell_type": "code",
   "execution_count": 7,
   "metadata": {},
   "outputs": [
    {
     "name": "stdout",
     "output_type": "stream",
     "text": [
      "Perico : 300\n",
      "Maxitienda : 5000\n",
      "Superplus : 10000\n"
     ]
    }
   ],
   "source": [
    "# Calculamos las ventas del último mes de todas las tiendas\n",
    "tiendas = [tienda_1, tienda_2, tienda_3]\n",
    "for i in tiendas:\n",
    "    print (i.nombre,\":\",i.ventas_ultimo_mes ())"
   ]
  },
  {
   "cell_type": "code",
   "execution_count": 11,
   "metadata": {},
   "outputs": [
    {
     "name": "stdout",
     "output_type": "stream",
     "text": [
      "Perico\n",
      "Maxitienda\n"
     ]
    }
   ],
   "source": [
    "# Imprimimos las tiendas que tengan el srting \"Avenida\"\n",
    "tiendas = [tienda_1, tienda_2, tienda_3]\n",
    "for i in tiendas:\n",
    "    if \"Avenida\" in i.direccion:\n",
    "        print (i.nombre)"
   ]
  },
  {
   "cell_type": "markdown",
   "metadata": {},
   "source": [
    "## Ejercicio 2\n",
    "En este ejercicio vamos a implementar una clase *Perro* en Python. La clase tiene las siguientes características:\n",
    "* Cosas que sabemos seguro que tiene un perro\n",
    "    * Tiene 4 patas\n",
    "    * 2 orejas\n",
    "    * 2 ojos\n",
    "    * Una velocidad de 0. Por defecto, el perro está parado\n",
    "* Cuando se inicialice:\n",
    "    * El perro será de una determinada raza\n",
    "    * Por defecto tendrá pelo \"Marrón\", a no ser que se diga lo contrario.\n",
    "    * Por defecto no tendrá dueño, a no ser que se diga lo contrario.\n",
    "    \n",
    "* Dispondrá también de un método llamado andar, que tiene un argumento de entrada (aumento_velocidad). Este valor se le sumará a la velocidad que ya llevaba el perro.\n",
    "* Necesita otro método (parar), donde pondremos la velocidad a 0.\n",
    "* Otro método llamado \"ladrar\", que tendrá un argumento de entrada, y la salida será el siguiente string: \"GUAU!\" + el argumento de entrada.\n",
    "\n",
    "\n",
    "Se pide:\n",
    "* Implementa la clase *Perro*\n",
    "* Crea un objeto de tipo *Perro*, sin dueño\n",
    "* Comprueba que están bien todos sus atributos\n",
    "* Prueba que ande, y comprueba su velocidad\n",
    "* Páralo\n",
    "* Documenta la clase *Perro*"
   ]
  },
  {
   "cell_type": "code",
   "execution_count": 29,
   "metadata": {},
   "outputs": [
    {
     "name": "stdout",
     "output_type": "stream",
     "text": [
      "False\n",
      "4\n",
      "2\n",
      "2\n",
      "0\n",
      "{'raza': 'Pastor alemán', 'pelo': 'Negro', 'dueño': False}\n"
     ]
    }
   ],
   "source": [
    "perro_1 = Perro(\"Pastor alemán\", \"Negro\")\n",
    "print(perro_1.dueño)\n",
    "print(perro_1.patas)\n",
    "print(perro_1.orejas)\n",
    "print(perro_1.ojos)\n",
    "print(perro_1.velocidad)\n",
    "print(perro_1.__dict__)"
   ]
  },
  {
   "cell_type": "code",
   "execution_count": null,
   "metadata": {},
   "outputs": [],
   "source": [
    "class Perro():\n",
    "    patas = 4\n",
    "    orejas = 2\n",
    "    ojos = 2\n",
    "    velocidad = 0\n",
    "    \n",
    "    def __init__(self, raza, pelo=\"Marrón\", dueño=False):\n",
    "        \n",
    "        self.raza = raza\n",
    "        self.pelo = pelo\n",
    "        self.dueño = dueño\n",
    "\n",
    "    def aumento_velocidad(self, v):\n",
    "        self.velocidad = self.velocidad + v\n",
    "        return self.velocidad\n",
    "    \n",
    "    def parar(self):\n",
    "        self.velocidad = 0\n",
    "        return self.velocidad\n",
    "    \n",
    "    def ladrar(self, mensaje):\n",
    "        return \"GUAU! \" + mensaje"
   ]
  },
  {
   "cell_type": "code",
   "execution_count": 30,
   "metadata": {},
   "outputs": [
    {
     "name": "stdout",
     "output_type": "stream",
     "text": [
      "10\n",
      "10\n",
      "50\n",
      "50\n"
     ]
    }
   ],
   "source": [
    "print(perro_1.aumento_velocidad(10))\n",
    "print(perro_1.velocidad)\n",
    "print(perro_1.aumento_velocidad(40))\n",
    "print(perro_1.velocidad)"
   ]
  },
  {
   "cell_type": "code",
   "execution_count": 31,
   "metadata": {},
   "outputs": [
    {
     "name": "stdout",
     "output_type": "stream",
     "text": [
      "0\n",
      "0\n"
     ]
    }
   ],
   "source": [
    "print(perro_1.parar())\n",
    "print(perro_1.velocidad)"
   ]
  },
  {
   "cell_type": "code",
   "execution_count": 32,
   "metadata": {},
   "outputs": [
    {
     "name": "stdout",
     "output_type": "stream",
     "text": [
      "GUAU! Hola mundo\n"
     ]
    }
   ],
   "source": [
    "print(perro_1.ladrar(\"Hola mundo\"))"
   ]
  },
  {
   "cell_type": "code",
   "execution_count": null,
   "metadata": {},
   "outputs": [],
   "source": [
    "# Creamos una raza de perri sin dueño\n",
    "mi_perro = Perro(raza=\"Labrador\")"
   ]
  },
  {
   "cell_type": "code",
   "execution_count": null,
   "metadata": {},
   "outputs": [
    {
     "name": "stdout",
     "output_type": "stream",
     "text": [
      "False\n",
      "4\n",
      "2\n",
      "2\n",
      "0\n",
      "{'raza': 'Labrador', 'pelo': 'Marrón', 'dueño': False}\n"
     ]
    }
   ],
   "source": [
    "# Comprobar que funcionan los atributos\n",
    "print(mi_perro.dueño)\n",
    "print(mi_perro.patas)\n",
    "print(mi_perro.orejas)\n",
    "print(mi_perro.ojos)\n",
    "print(mi_perro.velocidad)\n",
    "print(mi_perro.__dict__)"
   ]
  }
 ],
 "metadata": {
  "kernelspec": {
   "display_name": "Python 3",
   "language": "python",
   "name": "python3"
  },
  "language_info": {
   "codemirror_mode": {
    "name": "ipython",
    "version": 3
   },
   "file_extension": ".py",
   "mimetype": "text/x-python",
   "name": "python",
   "nbconvert_exporter": "python",
   "pygments_lexer": "ipython3",
   "version": "3.11.9"
  }
 },
 "nbformat": 4,
 "nbformat_minor": 4
}
